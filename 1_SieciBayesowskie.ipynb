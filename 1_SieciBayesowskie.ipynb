{
 "cells": [
  {
   "cell_type": "code",
   "execution_count": null,
   "metadata": {},
   "outputs": [],
   "source": [
    "%run 'utils/imports.ipynb'"
   ]
  },
  {
   "cell_type": "markdown",
   "metadata": {},
   "source": [
    "## Sieci bayesowskie\n",
    "\n",
    "Sieć bayesowska składa się z następujących elementów [[1](https://www.springer.com/gp/book/9780387682815)]:\n",
    "* zbioru zmiennych oraz zbioru połączeń między zmiennymi,\n",
    "* zbioru stanów zmiennych, które są wzajemnie wykluczające się ze stanami innych zmiennych,\n",
    "* skierowanego grafu acyklicznego (ang. _DAG - Directed Acyclic Graph_),\n",
    "* zbioru tabel prawdopodobieństw warunkowych, w których znana jest wartość P(A | B1, B2, .. Bn), gdzie A to stan danej zmiennej, a B1 - Bn to stany rodziców zmiennej.\n",
    "\n",
    "Innymi słowy, sieć bayesowska to probabilistyczny model graficzny przedstawiający zbiór zmiennych i ich warunkowe zależności w postaci skierowanego grafu acyklicznego.\n",
    "\n",
    "Przykładowa sieć:\n",
    "\n",
    "<img src=\"img/simple_bayes_net.png\" alt=\"Naive net\" style=\"height: 350px;\"/>\n",
    "\n",
    "Na podstawie powyższej sieci można stwierdzić, że deszcz wpływa na to, czy zraszacz wody jest włączony lub wyłączony, natomiast zarówno zraszacz, jak i deszcz wpływają na to, czy trawa jest mokra, czy nie [[2](https://en.wikipedia.org/wiki/Bayesian_network)].\n",
    "\n",
    "Dysponując tabelami prawdopodobieństw warunkowych (ang. _CPT - Conditional Probability Tables_) możliwe jest wyznaczenie dowolnego prawdopodobieństwa zestawu stanów zmiennych, na przykład prawdopodobieństwo włączonego zraszacza pod warunkiem, że deszcz padał, a trawa jest mokra. W takim wypadku zmienna `zraszacz` jest **atrybutem-klasą** - elementem, który jest klasyfikowany do któregoś ze swoich stanów. Do tego celu wykorzystuje się regułę łańcuchową (ang. _chain rule_):\n",
    "\n",
    "<img src=\"img/chain_rule.png\" alt=\"Naive net\" style=\"width: 700px;\"/>\n",
    "\n",
    "W praktyce reguła łańcuchowa sprowadza się do wymnożenia odpowiednich wartości z tabel CPT. \n",
    "\n",
    "------\n",
    "\n",
    "###### Konstrukcja sieci\n",
    "W niniejszym skrypcie został przedstawiony proces konstrukcji sieci bayesowskich na podstawie przekazanych zgromadzonych danych. \n",
    "\n",
    "Dane niezbędne do konstrukcji sieci powinny zostać dostarczone w formacie [ARFF](https://www.cs.waikato.ac.nz/ml/weka/arff.html).\n",
    "W pierwszym kroku należy wskazać ścieżkę do pliku ARFF oraz podać indeks atrybutu-klasy w tablicy atrybutów. \n",
    "\n",
    "W tablicy `arff_paths` przygotowano kilka ścieżek do plików ARFF oraz odpowiadające im indeksy atrybutów do klasyfikacji:\n",
    "\n",
    "* `credit.arff` - pomaga sprawdzić zdolność kredytową na podstawie podanych danych (klasyfikacja `good` lub `bad`), \n",
    "* `tumor.arff` - pomaga klasyfikować pod kątem rodzaju nowotworu, jaki może pojawić się u pacjenta o podanych cechach, \n",
    "* `patient.arff` - zawiera dane pomagające zdecydować, czy pacjent powinien zostać wysłany do domu, czy też pozostać na oddziale (`I` - wysłanie do działu intensywnej terapii, `S` - przygotowanie pacjenta do wypisania ze szpitala, `A` - wysłanie pacjenta do skrzydła poradni ogólnej),\n",
    "* `car.arff` - na podstawie informacji o samochodzie pozwala sklasyfikować samochód jako nadający lub nienadający się do zakupu,\n",
    "* `zoo.ardd` - wytrenowana na danych z tego pliku sieć klasyfikuje stworzenie jako konkretny gatunek na podstawie informacji dotyczących m.in. zewnętrznego wyglądu (pióra, sierść, liczba odnóży) i środowiska, w którym żyje"
   ]
  },
  {
   "cell_type": "code",
   "execution_count": null,
   "metadata": {},
   "outputs": [],
   "source": [
    "arff_paths = [{'path': 'data/car.arff', 'class_index': 6},     #0\n",
    "             {'path': 'data/credit.arff', 'class_index': 20},  #1\n",
    "             {'path': 'data/patient.arff', 'class_index': 8},  #2\n",
    "             {'path': 'data/tumor.arff', 'class_index': 17},   #3\n",
    "             {'path': 'data/weather.arff', 'class_index': 4},  #4\n",
    "             {'path': 'data/zoo.arff', 'class_index': 0}]      #5"
   ]
  },
  {
   "cell_type": "markdown",
   "metadata": {},
   "source": [
    "W celu wybrania konkretnej ścieżki pliku, należy odpowiednio zmodyfikować zmienną `arff_file_index`:"
   ]
  },
  {
   "cell_type": "code",
   "execution_count": null,
   "metadata": {},
   "outputs": [],
   "source": [
    "arff_file_index = 5"
   ]
  },
  {
   "cell_type": "markdown",
   "metadata": {},
   "source": [
    "Wybrany plik ARFF zostanie załadowany do trzech zmiennych:\n",
    "* `attributes` - atrybuty (zmienne) i ich stany,\n",
    "* `training_data` - dane trenujące,\n",
    "* `testing_data` - dane testujące\n",
    "\n",
    "Zbiór danych testowych jest dzielony na zbiór trenujący i testujący. Poziom podziału definiuje się procentowo za pomocą zmiennej `percentage_split`. Domyślnie jest to 50%. \n",
    "\n",
    "Po wykonaniu poniższego kodu, użytkownikowi zostaną zaprezentowane szczegóły wybranego atrybutu-klasy."
   ]
  },
  {
   "cell_type": "code",
   "execution_count": null,
   "metadata": {},
   "outputs": [],
   "source": [
    "attributes, training_data, testing_data = ARFFLoader(arff_path=arff_paths[arff_file_index]['path'])\\\n",
    "                                          .load_attributes_and_samples(class_attribute_index=arff_paths[arff_file_index]['class_index'], \n",
    "                                                                       percentage_split=50)"
   ]
  },
  {
   "cell_type": "markdown",
   "metadata": {},
   "source": [
    "------\n",
    "##### Założenia\n",
    "\n",
    "Prezentowane w niniejszym skrypcie sieci opierają się na:\n",
    "* kompletnych, znanych danych testowych,\n",
    "* nieznanej strukturze sieci,\n",
    "* nieznanych prawdopodobieństwach brzegowych atrybutów.\n",
    "\n",
    "##### Algorytmy\n",
    "\n",
    "Aby móc z powodzeniem korzystać z sieci bayesowskich, należy wyznaczyć ostatnie dwa punkty z powyższej listy.\n",
    "Zaimplementowano trzy algorytmy uczenia sieci:\n",
    "* Algorytm K2 ([więcej szczegółów](algorithms/k2algorithm.ipynb))\n",
    "* Algorytm TAN ([więcej szczegółów](algorithms/tabualgorithm.ipynb))\n",
    "* Algorytm TABU ([więcej szczegółów](algorithms/tanalgorithm.ipynb))\n",
    "\n",
    "W dalszej sekcji zaprezentowano wyniki działania każdego z powyższych algorytmów.\n",
    "\n",
    "##### Miary oceny sieci\n",
    "\n",
    "Sieć bayesowska może zostać oceniona pod kątem zgodności z dostarczonymi danymi testowymi. Zaimplementowano nastepujące miary oceny sieci ([więcej szczegółów](utils/metrics.ipynb)):\n",
    "* Miara MDL - Minimum Description Length,\n",
    "* Miara AIC,\n",
    "* Entropia\n",
    "\n",
    "_Każdy z algorytmów oraz miary oceny sieci zostały szczegółowo opisane w skryptach, do których prowadzą linki `więcej szczegółów`._"
   ]
  },
  {
   "cell_type": "markdown",
   "metadata": {},
   "source": [
    "------\n",
    "## Algorytm K2\n",
    "\n",
    "W tym algorytmie sprawdzane są wszystkie możliwe połączenia pomiędzy atrybutem, a atrybutami występującymi wcześniej w kolejności w liście atrybutów z pliku ARFF. Wybierane jest połączenie o największej wartości miary oceny sieci. \n",
    "\n",
    "###### Oznaczenia\n",
    "1. `k2_score_method` może przyjąć wartości `mdl`, `aic` oraz `entropy`,\n",
    "2. `k2_number_of_parents` określa maksymalną liczbę rodziców węzła.\n",
    "\n",
    "_Więcej szczegółów na temat algorytmu K2 [tutaj]()._"
   ]
  },
  {
   "cell_type": "code",
   "execution_count": null,
   "metadata": {},
   "outputs": [],
   "source": [
    "k2_score_method = 'mdl' #'aic' #'entropy'\n",
    "k2_number_of_parents = 2\n",
    "k2_network = K2Algorithm(attributes=attributes, \n",
    "                         sample_data=training_data, \n",
    "                         score_method=k2_score_method, \n",
    "                         number_of_parents=k2_number_of_parents).find_optimal_net()\n",
    "\n",
    "Graph(k2_network).draw_graph()"
   ]
  },
  {
   "cell_type": "markdown",
   "metadata": {},
   "source": [
    "-----\n",
    "## Algorytm TAN\n",
    "\n",
    "Algorytm TAN (ang. _Tree Augumented Naive Bayes_) polega na wytworzeniu połączeń pomiędzy węzłami w drzewie zbudowanym według zasad konstrukcji naiwnej sieci bayesowskiej. \n",
    "\n",
    "###### Naiwna sieć bayesowska\n",
    "Naiwna sieć bayesowska oparta jest na założeniu o wzajemnej niezależności predyktorów [[3](https://pl.wikipedia.org/wiki/Naiwny_klasyfikator_bayesowski)]. Zakłada się więc, że poszczególne przesłanki danego faktu nie mają ze sobą nic wspólnego, co rzadko ma miejsce w rzeczywistym świece. Przykład:\n",
    "\n",
    "<img src=\"img/naive_net.png\" alt=\"Naive net\" style=\"height: 120px;\"/>\n",
    "\n",
    "W powyższym przypadku sieć prezentuje brak zależności pomiędzy pogodą a temperaturą, co oczywiście może być błędnym założeniem.\n",
    "\n",
    "Algorytm TAN rozszerza naiwną sieć bayesowską o połączenia pomiędzy przesłankami. W kolejnych krokach algorytmu każde potencjalne połączenie otrzynuje wagę - stopień wzajemnego powiązania poszczególnych przesłanek [[4](https://en.wikipedia.org/wiki/Conditional_mutual_information)]. Następnie, biorąc pod uwagę otrzymane wagi, tworzone jest minimalne drzewo rozpinające [[5](https://pl.wikipedia.org/wiki/Minimalne_drzewo_rozpinające)]. Wynikowy graf jest siecią bayesowską. \n",
    "\n",
    "_Więcej szczegółów na temat algorytmu TAN [tutaj]()._"
   ]
  },
  {
   "cell_type": "code",
   "execution_count": null,
   "metadata": {},
   "outputs": [],
   "source": [
    "tan_network = TANAlgorithm(attributes=attributes, \n",
    "                           sample_data=training_data).find_optimal_net()\n",
    "\n",
    "Graph(tan_network).draw_graph()"
   ]
  },
  {
   "cell_type": "markdown",
   "metadata": {},
   "source": [
    "-----\n",
    "## Algorytm TABU\n",
    "\n",
    "Algorytm TABU sprawdza zachłannie wszystkie możliwe połączenia lub usunięcia połączeń w grafie i wybiera taką operację, która zapewni wzrost wartości zmiany oceny sieci. Takie działanie może doprowadzić do zatrzymania się w lokalnym maksimum oceny sieci. Z tego powodu ostatnie `tl` operacji przechowywanych jest na tzw. **liście TABU**. Algorytm ignoruje wszystkie operacje obecne na tablicy TABU. \n",
    "\n",
    "###### Oznaczenia\n",
    "1. `tabu_score_method` może przyjąć wartości `mdl`, `aic` oraz `entropy`,\n",
    "2. `tabu_max_number_of_parents` określa maksymalną liczbę rodziców węzła,\n",
    "3. `tabu_number_of_iterations` określa liczbę iteracji algorytmu,\n",
    "4. `tabu_list_length` określa długość listy TABU.\n",
    "\n",
    "**Uwaga!** _Algorytm przeszukuje cały graf w poszukiwaniu najlepszego usunięcia lub stworzenia połączenia między węzłami. Z tego powodu podanie dużej liczby iteracji i/lub dużej maksymalnej liczby rodziców pojedynczego węzła, szczególnie w przypadku danych z wieloma atrybutami, może znacznie wydłużyć pracę algorytmu._\n",
    "\n",
    "_Więcej szczegółów na temat algorytmu TABU [tutaj]()._"
   ]
  },
  {
   "cell_type": "code",
   "execution_count": null,
   "metadata": {},
   "outputs": [],
   "source": [
    "tabu_score_method = 'entropy' #'mdl' #'entropy'\n",
    "tabu_max_number_of_parents = 2\n",
    "tabu_number_of_iterations = 15\n",
    "tabu_list_length = 2\n",
    "\n",
    "tabu_network = TabuSearch(attributes=attributes,\n",
    "                          sample_data=training_data,\n",
    "                          score_method=tabu_score_method, \n",
    "                          number_of_parents=tabu_max_number_of_parents, \n",
    "                          number_of_iterations=tabu_number_of_iterations, \n",
    "                          tabu_length=tabu_list_length).find_optimal_net()\n",
    "\n",
    "Graph(tabu_network).draw_graph()"
   ]
  },
  {
   "cell_type": "markdown",
   "metadata": {},
   "source": [
    "-----\n",
    "### Klasyfikacja przy dowolnych podanych warunkach\n",
    "Aby skorzystać ze skonstruowanej sieci, należy wyznaczyć prawdopodobieństwo klasyfikacji w poszczególne stany atrybutu-klasy. Służy do tego klasa `From`, która w stylu wzorca budowniczego uzupełnia poszczególne warunki. Przykład:\n",
    "\n",
    "```python\n",
    "From(bayesian_network, sample_data)\n",
    "    .given('outlook', 'suuny')\n",
    "    .given('temperature', 'hot')\n",
    "    .given('humidity', 'high')\n",
    "    .given('windy', 'false')\n",
    "    .classify('play')\n",
    "```\n",
    "\n",
    "W pierwszej kolejności należy wybrać jedną z wcześniej utworzonych sieci. Do wyboru są zmienne `k2_network`, `tan_network` oraz `tabu_network`:"
   ]
  },
  {
   "cell_type": "code",
   "execution_count": null,
   "metadata": {},
   "outputs": [],
   "source": [
    "network = k2_network #tan_network #tabu_network"
   ]
  },
  {
   "cell_type": "markdown",
   "metadata": {},
   "source": [
    "Poniżej zamieszczono przykładowe wywołanie dla każdego pliku ARFF z tablicy `arff_paths`. \n",
    "\n",
    "Aby zmienić plik ARFF, należy zmodyfikować zmienną `arff_file_index` i uruchomić ponownie wszystkie komórki ninejszego skryptu."
   ]
  },
  {
   "cell_type": "markdown",
   "metadata": {},
   "source": [
    " #### 0 - car.arff"
   ]
  },
  {
   "cell_type": "code",
   "execution_count": null,
   "metadata": {},
   "outputs": [],
   "source": [
    "if arff_file_index == 0:\n",
    "    pp.pprint(From(network, testing_data)\\\n",
    "        .given('buying', 'low')\\\n",
    "        .given('maint', 'low')\\\n",
    "        .given('doors', '5more')\\\n",
    "        .given('persons', '4')\\\n",
    "        .given('lug_boot', 'small')\\\n",
    "        .given('safety', 'med')\\\n",
    "        .classify('class'))"
   ]
  },
  {
   "cell_type": "markdown",
   "metadata": {},
   "source": [
    " #### 1 - credit.arff"
   ]
  },
  {
   "cell_type": "code",
   "execution_count": null,
   "metadata": {},
   "outputs": [],
   "source": [
    "if arff_file_index == 1:\n",
    "    pp.pprint(From(network, testing_data)\\\n",
    "        .given('checking_status', '>=200')\\\n",
    "        .given('duration', \"'\\'\")\\\n",
    "        .given('credit_history', 'all paid')\\\n",
    "        .given('purpose', 'new car')\\\n",
    "        .given('credit_amount', \"'\\'(-inf-3913.5]\\''\")\\\n",
    "        .given('savings_status', '<100')\\\n",
    "        .given('employment', 'unemployed')\\\n",
    "        .given('installment_commitment', \"'\\'All\\''\")\\\n",
    "        .given('personal_status', 'male single')\\\n",
    "        .given('other_parties', 'none')\\\n",
    "        .given('residence_since', \"'\\'All\\'\")\\\n",
    "        .given('property_magnitude', 'car')\\\n",
    "        .given('age', \"'\\'All\\''\")\\\n",
    "        .given('other_payment_plans', 'bank')\\\n",
    "        .given('housing', 'own')\\\n",
    "        .given('existing_credits', \"'\\'All\\''\")\\\n",
    "        .given('job', 'skilled')\\\n",
    "        .given('num_dependents', \"'\\'All\\''\")\\\n",
    "        .given('own_telephone', 'yes')\\\n",
    "        .given('foreign_worker', 'no')\\\n",
    "        .classify('class'))"
   ]
  },
  {
   "cell_type": "markdown",
   "metadata": {},
   "source": [
    " #### 2 - patient.arff"
   ]
  },
  {
   "cell_type": "code",
   "execution_count": null,
   "metadata": {},
   "outputs": [],
   "source": [
    "if arff_file_index == 2:\n",
    "    pp.pprint(From(network, testing_data)\\\n",
    "        .given('L-CORE', 'high')\\\n",
    "        .given('L-SURF', 'low')\\\n",
    "        .given('L-O2', 'excellent')\\\n",
    "        .given('L-BP', 'mid')\\\n",
    "        .given('SURF-STBL', 'unstable')\\\n",
    "        .given('CORE-STBL', 'mod-stable')\\\n",
    "        .given('BP-STBL', 'stable')\\\n",
    "        .given('COMFORT', '07')\\\n",
    "        .classify('decision'))"
   ]
  },
  {
   "cell_type": "markdown",
   "metadata": {},
   "source": [
    " #### 3 - tumor.arff"
   ]
  },
  {
   "cell_type": "code",
   "execution_count": null,
   "metadata": {},
   "outputs": [],
   "source": [
    "if arff_file_index == 3:\n",
    "    pp.pprin(From(network, testing_data)\\\n",
    "        .given('age', '30-59')\\\n",
    "        .given('sex', 'female')\\\n",
    "        .given('histologic-type', 'adeno')\\\n",
    "        .given('degree-of-diffe', 'fairly')\\\n",
    "        .given('bone', 'no')\\\n",
    "        .given('bone-marrow', 'yes')\\\n",
    "        .given('lung', 'no')\\\n",
    "        .given('pleura', 'yes')\\\n",
    "        .given('peritoneum', 'no')\\\n",
    "        .given('liver', 'no')\\\n",
    "        .given('brain', 'yes')\\\n",
    "        .given('skin', 'no')\\\n",
    "        .given('neck', 'no')\\\n",
    "        .given('supraclavicular', 'yes')\\\n",
    "        .given('axillar', 'yes')\\\n",
    "        .given('mediastinum', 'yes')\\\n",
    "        .given('abdominal', 'no')\\\n",
    "        .classify('class'))"
   ]
  },
  {
   "cell_type": "markdown",
   "metadata": {},
   "source": [
    " #### 4 - weather.arff"
   ]
  },
  {
   "cell_type": "code",
   "execution_count": null,
   "metadata": {},
   "outputs": [],
   "source": [
    "if arff_file_index == 4:\n",
    "    pp.pprint(From(network, testing_data)\\\n",
    "        .given('outlook', 'overcast')\\\n",
    "        .given('temperature', 'mild')\\\n",
    "        .given('humidity', 'normal')\\\n",
    "        .given('windy', 'FALSE')\\\n",
    "        .classify('play'))"
   ]
  },
  {
   "cell_type": "markdown",
   "metadata": {},
   "source": [
    " #### 5 - zoo.arff"
   ]
  },
  {
   "cell_type": "code",
   "execution_count": null,
   "metadata": {},
   "outputs": [],
   "source": [
    "if arff_file_index == 5:\n",
    "    pp.pprint(From(network, testing_data)\\\n",
    "        .given('type', 'mammal')\\\n",
    "        .given('hair', 'true')\\\n",
    "        .given('feathers', 'false')\\\n",
    "        .given('eggs', 'false')\\\n",
    "        .given('milk', 'true')\\\n",
    "        .given('airborne', 'false')\\\n",
    "        .given('aquatic', 'false')\\\n",
    "        .given('predator', 'true')\\\n",
    "        .given('toothed', 'false')\\\n",
    "        .given('backbone', 'true')\\\n",
    "        .given('breathes', 'true')\\\n",
    "        .given('venomous', 'false')\\\n",
    "        .given('fins', 'false')\\\n",
    "        .given('legs', '4')\\\n",
    "        .given('tail', 'true')\\\n",
    "        .given('domestic', 'true')\\\n",
    "        .given('catsize', 'true')\\\n",
    "        .classify('animal'))"
   ]
  }
 ],
 "metadata": {
  "kernelspec": {
   "display_name": "Python 3",
   "language": "python",
   "name": "python3"
  },
  "language_info": {
   "codemirror_mode": {
    "name": "ipython",
    "version": 3
   },
   "file_extension": ".py",
   "mimetype": "text/x-python",
   "name": "python",
   "nbconvert_exporter": "python",
   "pygments_lexer": "ipython3",
   "version": "3.6.5"
  }
 },
 "nbformat": 4,
 "nbformat_minor": 2
}
