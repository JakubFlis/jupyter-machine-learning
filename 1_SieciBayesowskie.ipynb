{
 "cells": [
  {
   "cell_type": "code",
   "execution_count": 2,
   "metadata": {},
   "outputs": [
    {
     "name": "stderr",
     "output_type": "stream",
     "text": [
      "ERROR:root:File `'utils/imports.ipynb.py'` not found.\n"
     ]
    }
   ],
   "source": [
    "%run 'utils/imports.ipynb'"
   ]
  },
  {
   "cell_type": "markdown",
   "metadata": {},
   "source": [
    "## Sieci bayesowskie\n",
    "\n",
    "Sieć bayesowska składa się z następujących elementów [[1](https://www.springer.com/gp/book/9780387682815)]:\n",
    "* zbioru zmiennych oraz zbioru połączeń między zmiennymi,\n",
    "* zbioru stanów zmiennych, które są wzajemnie wykluczające się ze stanami innych zmiennych,\n",
    "* skierowanego grafu acyklicznego (ang. _DAG - Directed Acyclic Graph_),\n",
    "* zbioru tabel prawdopodobieństw warunkowych, w których znana jest wartość P(A | B1, B2, .. Bn), gdzie A to stan danej zmiennej, a B1 - Bn to stany rodziców zmiennej.\n",
    "\n",
    "Innymi słowy, sieć bayesowska to probabilistyczny model graficzny przedstawiający zbiór zmiennych i ich warunkowe zależności w postaci skierowanego grafu acyklicznego.\n",
    "\n",
    "Przykładowa sieć:\n",
    "\n",
    "<img src=\"img/simple_bayes_net.png\" alt=\"Naive net\" style=\"height: 350px;\"/>\n",
    "\n",
    "Na podstawie powyższej sieci można stwierdzić, że deszcz wpływa na to, czy zraszacz wody jest włączony lub wyłączony, natomiast zarówno zraszacz, jak i deszcz wpływają na to, czy trawa jest mokra, czy nie [[2](https://en.wikipedia.org/wiki/Bayesian_network)].\n",
    "\n",
    "Dysponując tabelami prawdopodobieństw warunkowych (ang. _CPT - Conditional Probability Tables_) możliwe jest wyznaczenie dowolnego prawdopodobieństwa zestawu stanów zmiennych, na przykład prawdopodobieństwo włączonego zraszacza pod warunkiem, że deszcz padał, a trawa jest mokra. W takim wypadku zmienna `zraszacz` jest **atrybutem-klasą** - elementem, który jest klasyfikowany do któregoś ze swoich stanów. Do tego celu wykorzystuje się regułę łańcuchową (ang. _chain rule_):\n",
    "\n",
    "$$P(U)=P(A_{n} | A_{1}, ... , A_{n-1}) P(A_{n-1} | A_{1}, ... , A_{n-2}) ... P(A_{2} | A_{1})P(A_{1})   $$\n",
    "\n",
    "W praktyce reguła łańcuchowa sprowadza się do wymnożenia odpowiednich wartości z tabel CPT. \n",
    "\n",
    "------\n",
    "\n",
    "###### Konstrukcja sieci\n",
    "W niniejszym skrypcie został przedstawiony proces konstrukcji sieci bayesowskich na podstawie przekazanych zgromadzonych danych. \n",
    "\n",
    "Dane niezbędne do konstrukcji sieci powinny zostać dostarczone w formacie [ARFF](https://www.cs.waikato.ac.nz/ml/weka/arff.html).\n",
    "W pierwszym kroku należy wskazać ścieżkę do pliku ARFF oraz podać indeks atrybutu-klasy w tablicy atrybutów. \n",
    "\n",
    "W tablicy `arff_paths` przygotowano kilka ścieżek do plików ARFF oraz odpowiadające im indeksy atrybutów do klasyfikacji:\n",
    "\n",
    "* `credit.arff` - pomaga sprawdzić zdolność kredytową na podstawie podanych danych (klasyfikacja `good` lub `bad`), \n",
    "* `tumor.arff` - pomaga klasyfikować pod kątem rodzaju nowotworu, jaki może pojawić się u pacjenta o podanych cechach, \n",
    "* `patient.arff` - zawiera dane pomagające zdecydować, czy pacjent powinien zostać wysłany do domu, czy też pozostać na oddziale (`I` - wysłanie do działu intensywnej terapii, `S` - przygotowanie pacjenta do wypisania ze szpitala, `A` - wysłanie pacjenta do skrzydła poradni ogólnej),\n",
    "* `car.arff` - na podstawie informacji o samochodzie pozwala sklasyfikować samochód jako nadający lub nienadający się do zakupu,\n",
    "* `zoo.ardd` - wytrenowana na danych z tego pliku sieć klasyfikuje stworzenie jako konkretny gatunek na podstawie informacji dotyczących m.in. zewnętrznego wyglądu (pióra, sierść, liczba odnóży) i środowiska, w którym żyje"
   ]
  },
  {
   "cell_type": "code",
   "execution_count": 3,
   "metadata": {},
   "outputs": [],
   "source": [
    "arff_paths = [{'path': 'data/car.arff', 'class_index': 6},     #0\n",
    "             {'path': 'data/credit.arff', 'class_index': 20},  #1\n",
    "             {'path': 'data/patient.arff', 'class_index': 8},  #2\n",
    "             {'path': 'data/tumor.arff', 'class_index': 17},   #3\n",
    "             {'path': 'data/weather.arff', 'class_index': 4},  #4\n",
    "             {'path': 'data/zoo.arff', 'class_index': 0}]      #5"
   ]
  },
  {
   "cell_type": "markdown",
   "metadata": {},
   "source": [
    "W celu wybrania konkretnej ścieżki pliku, należy odpowiednio zmodyfikować zmienną `arff_file_index`:"
   ]
  },
  {
   "cell_type": "code",
   "execution_count": 4,
   "metadata": {},
   "outputs": [],
   "source": [
    "arff_file_index = 4"
   ]
  },
  {
   "cell_type": "markdown",
   "metadata": {},
   "source": [
    "Wybrany plik ARFF zostanie załadowany do trzech zmiennych:\n",
    "* `attributes` - atrybuty (zmienne) i ich stany,\n",
    "* `training_data` - dane trenujące,\n",
    "* `testing_data` - dane testujące\n",
    "\n",
    "Zbiór danych testowych jest dzielony na zbiór trenujący i testujący. Poziom podziału definiuje się procentowo za pomocą zmiennej `percentage_split`. Domyślnie jest to 50%. \n",
    "\n",
    "Po wykonaniu poniższego kodu, użytkownikowi zostaną zaprezentowane szczegóły wybranego atrybutu-klasy."
   ]
  },
  {
   "cell_type": "code",
   "execution_count": 5,
   "metadata": {},
   "outputs": [
    {
     "name": "stdout",
     "output_type": "stream",
     "text": [
      "Class argument of weather.symbolic: \n",
      "{'name': 'play', 'states': ['yes', 'no']}\n"
     ]
    }
   ],
   "source": [
    "attributes, training_data, testing_data = ARFFLoader(arff_path=arff_paths[arff_file_index]['path'], debug=True)\\\n",
    "                                          .load_attributes_and_samples(class_attribute_index=arff_paths[arff_file_index]['class_index'], \n",
    "                                                                       percentage_split=50)"
   ]
  },
  {
   "cell_type": "markdown",
   "metadata": {},
   "source": [
    "------\n",
    "##### Założenia\n",
    "\n",
    "Prezentowane w niniejszym skrypcie sieci opierają się na:\n",
    "* kompletnych, znanych danych testowych,\n",
    "* nieznanej strukturze sieci,\n",
    "* nieznanych prawdopodobieństwach brzegowych atrybutów.\n",
    "\n",
    "##### Algorytmy\n",
    "\n",
    "Aby móc z powodzeniem korzystać z sieci bayesowskich, należy wyznaczyć ostatnie dwa punkty z powyższej listy.\n",
    "Zaimplementowano trzy algorytmy uczenia sieci:\n",
    "* Algorytm K2 ([więcej szczegółów](algorithms/k2algorithm.ipynb))\n",
    "* Algorytm TAN ([więcej szczegółów](algorithms/tabualgorithm.ipynb))\n",
    "* Algorytm TABU ([więcej szczegółów](algorithms/tanalgorithm.ipynb))\n",
    "\n",
    "W dalszej sekcji zaprezentowano wyniki działania każdego z powyższych algorytmów.\n",
    "\n",
    "##### Miary oceny sieci\n",
    "\n",
    "Sieć bayesowska może zostać oceniona pod kątem zgodności z dostarczonymi danymi testowymi. Zaimplementowano nastepujące miary oceny sieci ([więcej szczegółów](utils/metrics.ipynb)):\n",
    "* Miara MDL - Minimum Description Length,\n",
    "* Miara AIC,\n",
    "* Entropia\n",
    "\n",
    "_Każdy z algorytmów oraz miary oceny sieci zostały szczegółowo opisane w skryptach, do których prowadzą linki `więcej szczegółów`._"
   ]
  },
  {
   "cell_type": "markdown",
   "metadata": {},
   "source": [
    "------\n",
    "## Algorytm K2\n",
    "\n",
    "W tym algorytmie sprawdzane są wszystkie możliwe połączenia pomiędzy atrybutem, a atrybutami występującymi wcześniej w kolejności w liście atrybutów z pliku ARFF. Wybierane jest połączenie o największej wartości miary oceny sieci. \n",
    "\n",
    "###### Oznaczenia\n",
    "1. `k2_score_method` może przyjąć wartości `mdl`, `aic` oraz `entropy`,\n",
    "2. `k2_number_of_parents` określa maksymalną liczbę rodziców węzła.\n",
    "\n",
    "_Więcej szczegółów na temat algorytmu K2 [tutaj]()._"
   ]
  },
  {
   "cell_type": "code",
   "execution_count": 6,
   "metadata": {},
   "outputs": [
    {
     "data": {
      "image/svg+xml": [
       "<?xml version=\"1.0\" encoding=\"UTF-8\" standalone=\"no\"?>\n",
       "<!DOCTYPE svg PUBLIC \"-//W3C//DTD SVG 1.1//EN\"\n",
       " \"http://www.w3.org/Graphics/SVG/1.1/DTD/svg11.dtd\">\n",
       "<!-- Generated by graphviz version 2.40.1 (20161225.0304)\n",
       " -->\n",
       "<!-- Title: generated graph Pages: 1 -->\n",
       "<svg width=\"222pt\" height=\"260pt\"\n",
       " viewBox=\"0.00 0.00 221.64 260.00\" xmlns=\"http://www.w3.org/2000/svg\" xmlns:xlink=\"http://www.w3.org/1999/xlink\">\n",
       "<g id=\"graph0\" class=\"graph\" transform=\"scale(1 1) rotate(0) translate(4 256)\">\n",
       "<title>generated graph</title>\n",
       "<polygon fill=\"#ffffff\" stroke=\"transparent\" points=\"-4,4 -4,-256 217.643,-256 217.643,4 -4,4\"/>\n",
       "<!-- play -->\n",
       "<g id=\"node1\" class=\"node\">\n",
       "<title>play</title>\n",
       "<ellipse fill=\"none\" stroke=\"#000000\" cx=\"115.5461\" cy=\"-234\" rx=\"27\" ry=\"18\"/>\n",
       "<text text-anchor=\"middle\" x=\"115.5461\" y=\"-230.3\" font-family=\"Times,serif\" font-size=\"14.00\" fill=\"#000000\">play</text>\n",
       "</g>\n",
       "<!-- outlook -->\n",
       "<g id=\"node2\" class=\"node\">\n",
       "<title>outlook</title>\n",
       "<ellipse fill=\"none\" stroke=\"#000000\" cx=\"115.5461\" cy=\"-162\" rx=\"31.6951\" ry=\"18\"/>\n",
       "<text text-anchor=\"middle\" x=\"115.5461\" y=\"-158.3\" font-family=\"Times,serif\" font-size=\"14.00\" fill=\"#000000\">outlook</text>\n",
       "</g>\n",
       "<!-- play&#45;&gt;outlook -->\n",
       "<g id=\"edge1\" class=\"edge\">\n",
       "<title>play&#45;&gt;outlook</title>\n",
       "<path fill=\"none\" stroke=\"#000000\" d=\"M115.5461,-215.8314C115.5461,-208.131 115.5461,-198.9743 115.5461,-190.4166\"/>\n",
       "<polygon fill=\"#000000\" stroke=\"#000000\" points=\"119.0462,-190.4132 115.5461,-180.4133 112.0462,-190.4133 119.0462,-190.4132\"/>\n",
       "</g>\n",
       "<!-- temperature -->\n",
       "<g id=\"node3\" class=\"node\">\n",
       "<title>temperature</title>\n",
       "<ellipse fill=\"none\" stroke=\"#000000\" cx=\"43.5461\" cy=\"-90\" rx=\"43.5923\" ry=\"18\"/>\n",
       "<text text-anchor=\"middle\" x=\"43.5461\" y=\"-86.3\" font-family=\"Times,serif\" font-size=\"14.00\" fill=\"#000000\">temperature</text>\n",
       "</g>\n",
       "<!-- play&#45;&gt;temperature -->\n",
       "<g id=\"edge2\" class=\"edge\">\n",
       "<title>play&#45;&gt;temperature</title>\n",
       "<path fill=\"none\" stroke=\"#000000\" d=\"M101.5495,-218.3765C92.8623,-208.0562 81.9772,-193.9131 74.5461,-180 63.9534,-160.1673 55.8639,-135.9945 50.6088,-117.6966\"/>\n",
       "<polygon fill=\"#000000\" stroke=\"#000000\" points=\"53.9502,-116.6475 47.914,-107.9403 47.2028,-118.5112 53.9502,-116.6475\"/>\n",
       "</g>\n",
       "<!-- humidity -->\n",
       "<g id=\"node4\" class=\"node\">\n",
       "<title>humidity</title>\n",
       "<ellipse fill=\"none\" stroke=\"#000000\" cx=\"178.5461\" cy=\"-90\" rx=\"35.194\" ry=\"18\"/>\n",
       "<text text-anchor=\"middle\" x=\"178.5461\" y=\"-86.3\" font-family=\"Times,serif\" font-size=\"14.00\" fill=\"#000000\">humidity</text>\n",
       "</g>\n",
       "<!-- play&#45;&gt;humidity -->\n",
       "<g id=\"edge4\" class=\"edge\">\n",
       "<title>play&#45;&gt;humidity</title>\n",
       "<path fill=\"none\" stroke=\"#000000\" d=\"M129.9839,-218.5992C138.8471,-208.3677 149.7625,-194.24 156.5461,-180 165.9142,-160.3347 171.5274,-136.2901 174.7367,-118.0023\"/>\n",
       "<polygon fill=\"#000000\" stroke=\"#000000\" points=\"178.2166,-118.4073 176.3588,-107.9767 171.3065,-117.2893 178.2166,-118.4073\"/>\n",
       "</g>\n",
       "<!-- outlook&#45;&gt;temperature -->\n",
       "<g id=\"edge3\" class=\"edge\">\n",
       "<title>outlook&#45;&gt;temperature</title>\n",
       "<path fill=\"none\" stroke=\"#000000\" d=\"M99.567,-146.0209C90.1658,-136.6197 78.0936,-124.5475 67.5648,-114.0187\"/>\n",
       "<polygon fill=\"#000000\" stroke=\"#000000\" points=\"69.7772,-111.2813 60.2312,-106.6851 64.8274,-116.231 69.7772,-111.2813\"/>\n",
       "</g>\n",
       "<!-- outlook&#45;&gt;humidity -->\n",
       "<g id=\"edge5\" class=\"edge\">\n",
       "<title>outlook&#45;&gt;humidity</title>\n",
       "<path fill=\"none\" stroke=\"#000000\" d=\"M129.8418,-145.6621C137.9421,-136.4046 148.232,-124.6447 157.2647,-114.3217\"/>\n",
       "<polygon fill=\"#000000\" stroke=\"#000000\" points=\"159.9188,-116.6035 163.8698,-106.7729 154.6507,-111.9939 159.9188,-116.6035\"/>\n",
       "</g>\n",
       "<!-- windy -->\n",
       "<g id=\"node5\" class=\"node\">\n",
       "<title>windy</title>\n",
       "<ellipse fill=\"none\" stroke=\"#000000\" cx=\"79.5461\" cy=\"-18\" rx=\"27.8951\" ry=\"18\"/>\n",
       "<text text-anchor=\"middle\" x=\"79.5461\" y=\"-14.3\" font-family=\"Times,serif\" font-size=\"14.00\" fill=\"#000000\">windy</text>\n",
       "</g>\n",
       "<!-- outlook&#45;&gt;windy -->\n",
       "<g id=\"edge6\" class=\"edge\">\n",
       "<title>outlook&#45;&gt;windy</title>\n",
       "<path fill=\"none\" stroke=\"#000000\" d=\"M112.2694,-143.9501C108.8301,-125.6925 103.0289,-96.7149 96.5461,-72 94.2769,-63.3486 91.4728,-54.0245 88.8009,-45.5991\"/>\n",
       "<polygon fill=\"#000000\" stroke=\"#000000\" points=\"92.0622,-44.3091 85.6522,-35.8733 85.4025,-46.4652 92.0622,-44.3091\"/>\n",
       "</g>\n",
       "<!-- temperature&#45;&gt;windy -->\n",
       "<g id=\"edge7\" class=\"edge\">\n",
       "<title>temperature&#45;&gt;windy</title>\n",
       "<path fill=\"none\" stroke=\"#000000\" d=\"M52.445,-72.2022C56.6175,-63.8574 61.6753,-53.7417 66.2863,-44.5197\"/>\n",
       "<polygon fill=\"#000000\" stroke=\"#000000\" points=\"69.5322,-45.8541 70.8738,-35.3446 63.2712,-42.7236 69.5322,-45.8541\"/>\n",
       "</g>\n",
       "</g>\n",
       "</svg>\n"
      ],
      "text/plain": [
       "<graphviz.dot.Digraph at 0x107bac6d8>"
      ]
     },
     "execution_count": 6,
     "metadata": {},
     "output_type": "execute_result"
    }
   ],
   "source": [
    "k2_score_method = 'mdl' #'aic' #'entropy'\n",
    "k2_number_of_parents = 2\n",
    "k2_network = K2Algorithm(attributes=attributes, \n",
    "                         sample_data=training_data, \n",
    "                         score_method=k2_score_method, \n",
    "                         number_of_parents=k2_number_of_parents).find_optimal_net()\n",
    "\n",
    "Graph(k2_network).draw_graph()"
   ]
  },
  {
   "cell_type": "markdown",
   "metadata": {},
   "source": [
    "-----\n",
    "## Algorytm TAN\n",
    "\n",
    "Algorytm TAN (ang. _Tree Augumented Naive Bayes_) polega na wytworzeniu połączeń pomiędzy węzłami w drzewie zbudowanym według zasad konstrukcji naiwnej sieci bayesowskiej. \n",
    "\n",
    "###### Naiwna sieć bayesowska\n",
    "Naiwna sieć bayesowska oparta jest na założeniu o wzajemnej niezależności predyktorów [[3](https://pl.wikipedia.org/wiki/Naiwny_klasyfikator_bayesowski)]. Zakłada się więc, że poszczególne przesłanki danego faktu nie mają ze sobą nic wspólnego, co rzadko ma miejsce w rzeczywistym świece. Przykład:\n",
    "\n",
    "<img src=\"img/naive_net.png\" alt=\"Naive net\" style=\"height: 120px;\"/>\n",
    "\n",
    "W powyższym przypadku sieć prezentuje brak zależności pomiędzy pogodą a temperaturą, co oczywiście może być błędnym założeniem.\n",
    "\n",
    "Algorytm TAN rozszerza naiwną sieć bayesowską o połączenia pomiędzy przesłankami. W kolejnych krokach algorytmu każde potencjalne połączenie otrzynuje wagę - stopień wzajemnego powiązania poszczególnych przesłanek [[4](https://en.wikipedia.org/wiki/Conditional_mutual_information)]. Następnie, biorąc pod uwagę otrzymane wagi, tworzone jest minimalne drzewo rozpinające [[5](https://pl.wikipedia.org/wiki/Minimalne_drzewo_rozpinające)]. Wynikowy graf jest siecią bayesowską. \n",
    "\n",
    "_Więcej szczegółów na temat algorytmu TAN [tutaj]()._"
   ]
  },
  {
   "cell_type": "code",
   "execution_count": 7,
   "metadata": {},
   "outputs": [
    {
     "data": {
      "image/svg+xml": [
       "<?xml version=\"1.0\" encoding=\"UTF-8\" standalone=\"no\"?>\n",
       "<!DOCTYPE svg PUBLIC \"-//W3C//DTD SVG 1.1//EN\"\n",
       " \"http://www.w3.org/Graphics/SVG/1.1/DTD/svg11.dtd\">\n",
       "<!-- Generated by graphviz version 2.40.1 (20161225.0304)\n",
       " -->\n",
       "<!-- Title: generated graph Pages: 1 -->\n",
       "<svg width=\"280pt\" height=\"188pt\"\n",
       " viewBox=\"0.00 0.00 279.83 188.00\" xmlns=\"http://www.w3.org/2000/svg\" xmlns:xlink=\"http://www.w3.org/1999/xlink\">\n",
       "<g id=\"graph0\" class=\"graph\" transform=\"scale(1 1) rotate(0) translate(4 184)\">\n",
       "<title>generated graph</title>\n",
       "<polygon fill=\"#ffffff\" stroke=\"transparent\" points=\"-4,4 -4,-184 275.8343,-184 275.8343,4 -4,4\"/>\n",
       "<!-- play -->\n",
       "<g id=\"node1\" class=\"node\">\n",
       "<title>play</title>\n",
       "<ellipse fill=\"none\" stroke=\"#000000\" cx=\"172.8472\" cy=\"-162\" rx=\"27\" ry=\"18\"/>\n",
       "<text text-anchor=\"middle\" x=\"172.8472\" y=\"-158.3\" font-family=\"Times,serif\" font-size=\"14.00\" fill=\"#000000\">play</text>\n",
       "</g>\n",
       "<!-- outlook -->\n",
       "<g id=\"node2\" class=\"node\">\n",
       "<title>outlook</title>\n",
       "<ellipse fill=\"none\" stroke=\"#000000\" cx=\"31.8472\" cy=\"-90\" rx=\"31.6951\" ry=\"18\"/>\n",
       "<text text-anchor=\"middle\" x=\"31.8472\" y=\"-86.3\" font-family=\"Times,serif\" font-size=\"14.00\" fill=\"#000000\">outlook</text>\n",
       "</g>\n",
       "<!-- play&#45;&gt;outlook -->\n",
       "<g id=\"edge1\" class=\"edge\">\n",
       "<title>play&#45;&gt;outlook</title>\n",
       "<path fill=\"none\" stroke=\"#000000\" d=\"M151.1249,-150.9078C128.0449,-139.1222 91.2846,-120.351 64.6693,-106.7602\"/>\n",
       "<polygon fill=\"#000000\" stroke=\"#000000\" points=\"66.2151,-103.6197 55.7173,-102.189 63.0316,-109.8539 66.2151,-103.6197\"/>\n",
       "</g>\n",
       "<!-- temperature -->\n",
       "<g id=\"node3\" class=\"node\">\n",
       "<title>temperature</title>\n",
       "<ellipse fill=\"none\" stroke=\"#000000\" cx=\"124.8472\" cy=\"-90\" rx=\"43.5923\" ry=\"18\"/>\n",
       "<text text-anchor=\"middle\" x=\"124.8472\" y=\"-86.3\" font-family=\"Times,serif\" font-size=\"14.00\" fill=\"#000000\">temperature</text>\n",
       "</g>\n",
       "<!-- play&#45;&gt;temperature -->\n",
       "<g id=\"edge2\" class=\"edge\">\n",
       "<title>play&#45;&gt;temperature</title>\n",
       "<path fill=\"none\" stroke=\"#000000\" d=\"M161.7144,-145.3008C155.9469,-136.6496 148.772,-125.8873 142.2887,-116.1623\"/>\n",
       "<polygon fill=\"#000000\" stroke=\"#000000\" points=\"145.0485,-113.9922 136.5893,-107.6132 139.2242,-117.8752 145.0485,-113.9922\"/>\n",
       "</g>\n",
       "<!-- humidity -->\n",
       "<g id=\"node4\" class=\"node\">\n",
       "<title>humidity</title>\n",
       "<ellipse fill=\"none\" stroke=\"#000000\" cx=\"221.8472\" cy=\"-90\" rx=\"35.194\" ry=\"18\"/>\n",
       "<text text-anchor=\"middle\" x=\"221.8472\" y=\"-86.3\" font-family=\"Times,serif\" font-size=\"14.00\" fill=\"#000000\">humidity</text>\n",
       "</g>\n",
       "<!-- play&#45;&gt;humidity -->\n",
       "<g id=\"edge3\" class=\"edge\">\n",
       "<title>play&#45;&gt;humidity</title>\n",
       "<path fill=\"none\" stroke=\"#000000\" d=\"M184.2119,-145.3008C190.247,-136.4329 197.7919,-125.3465 204.5385,-115.4332\"/>\n",
       "<polygon fill=\"#000000\" stroke=\"#000000\" points=\"207.471,-117.345 210.2038,-107.1086 201.684,-113.4066 207.471,-117.345\"/>\n",
       "</g>\n",
       "<!-- windy -->\n",
       "<g id=\"node5\" class=\"node\">\n",
       "<title>windy</title>\n",
       "<ellipse fill=\"none\" stroke=\"#000000\" cx=\"172.8472\" cy=\"-18\" rx=\"27.8951\" ry=\"18\"/>\n",
       "<text text-anchor=\"middle\" x=\"172.8472\" y=\"-14.3\" font-family=\"Times,serif\" font-size=\"14.00\" fill=\"#000000\">windy</text>\n",
       "</g>\n",
       "<!-- play&#45;&gt;windy -->\n",
       "<g id=\"edge4\" class=\"edge\">\n",
       "<title>play&#45;&gt;windy</title>\n",
       "<path fill=\"none\" stroke=\"#000000\" d=\"M198.1102,-155.1276C220.3612,-147.5854 251.4087,-133.0797 265.8472,-108 273.8301,-94.1337 273.8301,-85.8663 265.8472,-72 253.5435,-50.6286 229.1793,-36.9353 208.475,-28.6863\"/>\n",
       "<polygon fill=\"#000000\" stroke=\"#000000\" points=\"209.569,-25.3592 198.9759,-25.1679 207.1376,-31.9234 209.569,-25.3592\"/>\n",
       "</g>\n",
       "<!-- outlook&#45;&gt;windy -->\n",
       "<g id=\"edge5\" class=\"edge\">\n",
       "<title>outlook&#45;&gt;windy</title>\n",
       "<path fill=\"none\" stroke=\"#000000\" d=\"M55.7659,-77.7862C79.418,-65.7085 115.731,-47.1657 141.6407,-33.9352\"/>\n",
       "<polygon fill=\"#000000\" stroke=\"#000000\" points=\"143.3586,-36.988 150.6729,-29.323 140.1751,-30.7537 143.3586,-36.988\"/>\n",
       "</g>\n",
       "<!-- temperature&#45;&gt;windy -->\n",
       "<g id=\"edge6\" class=\"edge\">\n",
       "<title>temperature&#45;&gt;windy</title>\n",
       "<path fill=\"none\" stroke=\"#000000\" d=\"M136.4666,-72.5708C142.3296,-63.7763 149.55,-52.9457 156.0087,-43.2577\"/>\n",
       "<polygon fill=\"#000000\" stroke=\"#000000\" points=\"159.0304,-45.0349 161.6652,-34.7729 153.206,-41.152 159.0304,-45.0349\"/>\n",
       "</g>\n",
       "<!-- humidity&#45;&gt;windy -->\n",
       "<g id=\"edge7\" class=\"edge\">\n",
       "<title>humidity&#45;&gt;windy</title>\n",
       "<path fill=\"none\" stroke=\"#000000\" d=\"M210.2349,-72.937C204.2546,-64.1496 196.8421,-53.2579 190.1983,-43.4956\"/>\n",
       "<polygon fill=\"#000000\" stroke=\"#000000\" points=\"192.8959,-41.2385 184.3761,-34.9405 187.1089,-45.1769 192.8959,-41.2385\"/>\n",
       "</g>\n",
       "</g>\n",
       "</svg>\n"
      ],
      "text/plain": [
       "<graphviz.dot.Digraph at 0x106754630>"
      ]
     },
     "execution_count": 7,
     "metadata": {},
     "output_type": "execute_result"
    }
   ],
   "source": [
    "tan_network = TANAlgorithm(attributes=attributes, \n",
    "                           sample_data=training_data).find_optimal_net()\n",
    "\n",
    "Graph(tan_network).draw_graph()"
   ]
  },
  {
   "cell_type": "markdown",
   "metadata": {},
   "source": [
    "-----\n",
    "## Algorytm TABU\n",
    "\n",
    "Algorytm TABU sprawdza zachłannie wszystkie możliwe połączenia lub usunięcia połączeń w grafie i wybiera taką operację, która zapewni wzrost wartości zmiany oceny sieci. Takie działanie może doprowadzić do zatrzymania się w lokalnym maksimum oceny sieci. Z tego powodu ostatnie `tl` operacji przechowywanych jest na tzw. **liście TABU**. Algorytm ignoruje wszystkie operacje obecne na tablicy TABU. \n",
    "\n",
    "###### Oznaczenia\n",
    "1. `tabu_score_method` może przyjąć wartości `mdl`, `aic` oraz `entropy`,\n",
    "2. `tabu_max_number_of_parents` określa maksymalną liczbę rodziców węzła,\n",
    "3. `tabu_number_of_iterations` określa liczbę iteracji algorytmu,\n",
    "4. `tabu_list_length` określa długość listy TABU.\n",
    "\n",
    "**Uwaga!** _Algorytm przeszukuje cały graf w poszukiwaniu najlepszego usunięcia lub stworzenia połączenia między węzłami. Z tego powodu podanie dużej liczby iteracji i/lub dużej maksymalnej liczby rodziców pojedynczego węzła, szczególnie w przypadku danych z wieloma atrybutami, może znacznie wydłużyć pracę algorytmu._\n",
    "\n",
    "_Więcej szczegółów na temat algorytmu TABU [tutaj]()._"
   ]
  },
  {
   "cell_type": "code",
   "execution_count": 8,
   "metadata": {},
   "outputs": [
    {
     "data": {
      "application/vnd.jupyter.widget-view+json": {
       "model_id": "5ad1fab674b9432dbc3d1ca745122f4c",
       "version_major": 2,
       "version_minor": 0
      },
      "text/plain": [
       "VBox(children=(HTML(value=''), IntProgress(value=0, max=15)))"
      ]
     },
     "metadata": {},
     "output_type": "display_data"
    },
    {
     "data": {
      "image/svg+xml": [
       "<?xml version=\"1.0\" encoding=\"UTF-8\" standalone=\"no\"?>\n",
       "<!DOCTYPE svg PUBLIC \"-//W3C//DTD SVG 1.1//EN\"\n",
       " \"http://www.w3.org/Graphics/SVG/1.1/DTD/svg11.dtd\">\n",
       "<!-- Generated by graphviz version 2.40.1 (20161225.0304)\n",
       " -->\n",
       "<!-- Title: generated graph Pages: 1 -->\n",
       "<svg width=\"265pt\" height=\"188pt\"\n",
       " viewBox=\"0.00 0.00 264.94 188.00\" xmlns=\"http://www.w3.org/2000/svg\" xmlns:xlink=\"http://www.w3.org/1999/xlink\">\n",
       "<g id=\"graph0\" class=\"graph\" transform=\"scale(1 1) rotate(0) translate(4 184)\">\n",
       "<title>generated graph</title>\n",
       "<polygon fill=\"#ffffff\" stroke=\"transparent\" points=\"-4,4 -4,-184 260.9441,-184 260.9441,4 -4,4\"/>\n",
       "<!-- play -->\n",
       "<g id=\"node1\" class=\"node\">\n",
       "<title>play</title>\n",
       "<ellipse fill=\"none\" stroke=\"#000000\" cx=\"142.8472\" cy=\"-162\" rx=\"27\" ry=\"18\"/>\n",
       "<text text-anchor=\"middle\" x=\"142.8472\" y=\"-158.3\" font-family=\"Times,serif\" font-size=\"14.00\" fill=\"#000000\">play</text>\n",
       "</g>\n",
       "<!-- windy -->\n",
       "<g id=\"node2\" class=\"node\">\n",
       "<title>windy</title>\n",
       "<ellipse fill=\"none\" stroke=\"#000000\" cx=\"114.8472\" cy=\"-90\" rx=\"27.8951\" ry=\"18\"/>\n",
       "<text text-anchor=\"middle\" x=\"114.8472\" y=\"-86.3\" font-family=\"Times,serif\" font-size=\"14.00\" fill=\"#000000\">windy</text>\n",
       "</g>\n",
       "<!-- play&#45;&gt;windy -->\n",
       "<g id=\"edge7\" class=\"edge\">\n",
       "<title>play&#45;&gt;windy</title>\n",
       "<path fill=\"none\" stroke=\"#000000\" d=\"M136.0692,-144.5708C132.86,-136.3187 128.9536,-126.2738 125.3714,-117.0623\"/>\n",
       "<polygon fill=\"#000000\" stroke=\"#000000\" points=\"128.5464,-115.5697 121.6598,-107.5182 122.0223,-118.1069 128.5464,-115.5697\"/>\n",
       "</g>\n",
       "<!-- outlook -->\n",
       "<g id=\"node3\" class=\"node\">\n",
       "<title>outlook</title>\n",
       "<ellipse fill=\"none\" stroke=\"#000000\" cx=\"31.8472\" cy=\"-18\" rx=\"31.6951\" ry=\"18\"/>\n",
       "<text text-anchor=\"middle\" x=\"31.8472\" y=\"-14.3\" font-family=\"Times,serif\" font-size=\"14.00\" fill=\"#000000\">outlook</text>\n",
       "</g>\n",
       "<!-- play&#45;&gt;outlook -->\n",
       "<g id=\"edge2\" class=\"edge\">\n",
       "<title>play&#45;&gt;outlook</title>\n",
       "<path fill=\"none\" stroke=\"#000000\" d=\"M123.6973,-149.2978C109.7031,-139.3084 90.9577,-124.3783 77.8472,-108 62.6028,-88.956 50.3502,-64.0556 42.3354,-45.2749\"/>\n",
       "<polygon fill=\"#000000\" stroke=\"#000000\" points=\"45.4807,-43.7213 38.4319,-35.8115 39.0095,-46.3906 45.4807,-43.7213\"/>\n",
       "</g>\n",
       "<!-- temperature -->\n",
       "<g id=\"node4\" class=\"node\">\n",
       "<title>temperature</title>\n",
       "<ellipse fill=\"none\" stroke=\"#000000\" cx=\"124.8472\" cy=\"-18\" rx=\"43.5923\" ry=\"18\"/>\n",
       "<text text-anchor=\"middle\" x=\"124.8472\" y=\"-14.3\" font-family=\"Times,serif\" font-size=\"14.00\" fill=\"#000000\">temperature</text>\n",
       "</g>\n",
       "<!-- play&#45;&gt;temperature -->\n",
       "<g id=\"edge3\" class=\"edge\">\n",
       "<title>play&#45;&gt;temperature</title>\n",
       "<path fill=\"none\" stroke=\"#000000\" d=\"M148.0452,-144.1821C152.5985,-125.8589 157.6557,-96.6054 151.8472,-72 149.6426,-62.6611 145.5619,-53.0959 141.2289,-44.6605\"/>\n",
       "<polygon fill=\"#000000\" stroke=\"#000000\" points=\"144.1891,-42.779 136.3162,-35.689 138.0493,-46.1412 144.1891,-42.779\"/>\n",
       "</g>\n",
       "<!-- humidity -->\n",
       "<g id=\"node5\" class=\"node\">\n",
       "<title>humidity</title>\n",
       "<ellipse fill=\"none\" stroke=\"#000000\" cx=\"221.8472\" cy=\"-18\" rx=\"35.194\" ry=\"18\"/>\n",
       "<text text-anchor=\"middle\" x=\"221.8472\" y=\"-14.3\" font-family=\"Times,serif\" font-size=\"14.00\" fill=\"#000000\">humidity</text>\n",
       "</g>\n",
       "<!-- play&#45;&gt;humidity -->\n",
       "<g id=\"edge5\" class=\"edge\">\n",
       "<title>play&#45;&gt;humidity</title>\n",
       "<path fill=\"none\" stroke=\"#000000\" d=\"M152.2197,-144.9158C165.8654,-120.0427 191.3214,-73.6419 207.3827,-44.3656\"/>\n",
       "<polygon fill=\"#000000\" stroke=\"#000000\" points=\"210.4991,-45.9618 212.2404,-35.511 204.362,-42.5949 210.4991,-45.9618\"/>\n",
       "</g>\n",
       "<!-- windy&#45;&gt;outlook -->\n",
       "<g id=\"edge1\" class=\"edge\">\n",
       "<title>windy&#45;&gt;outlook</title>\n",
       "<path fill=\"none\" stroke=\"#000000\" d=\"M98.0509,-75.4297C86.3611,-65.2892 70.5598,-51.5821 57.3262,-40.1023\"/>\n",
       "<polygon fill=\"#000000\" stroke=\"#000000\" points=\"59.3253,-37.2031 49.4779,-33.2941 54.7383,-42.4908 59.3253,-37.2031\"/>\n",
       "</g>\n",
       "<!-- windy&#45;&gt;temperature -->\n",
       "<g id=\"edge4\" class=\"edge\">\n",
       "<title>windy&#45;&gt;temperature</title>\n",
       "<path fill=\"none\" stroke=\"#000000\" d=\"M117.3706,-71.8314C118.4401,-64.131 119.7118,-54.9743 120.9004,-46.4166\"/>\n",
       "<polygon fill=\"#000000\" stroke=\"#000000\" points=\"124.3807,-46.7997 122.2898,-36.4133 117.4473,-45.8367 124.3807,-46.7997\"/>\n",
       "</g>\n",
       "<!-- windy&#45;&gt;humidity -->\n",
       "<g id=\"edge6\" class=\"edge\">\n",
       "<title>windy&#45;&gt;humidity</title>\n",
       "<path fill=\"none\" stroke=\"#000000\" d=\"M134.4726,-76.7941C150.5454,-65.9787 173.5477,-50.5006 191.9167,-38.1401\"/>\n",
       "<polygon fill=\"#000000\" stroke=\"#000000\" points=\"194.1688,-40.8434 200.5114,-32.3568 190.2609,-35.0357 194.1688,-40.8434\"/>\n",
       "</g>\n",
       "</g>\n",
       "</svg>\n"
      ],
      "text/plain": [
       "<graphviz.dot.Digraph at 0x107b59f60>"
      ]
     },
     "execution_count": 8,
     "metadata": {},
     "output_type": "execute_result"
    }
   ],
   "source": [
    "tabu_score_method = 'entropy' #'mdl' #'entropy'\n",
    "tabu_max_number_of_parents = 2\n",
    "tabu_number_of_iterations = 15\n",
    "tabu_list_length = 2\n",
    "\n",
    "tabu_network = TabuSearch(attributes=attributes,\n",
    "                          sample_data=training_data,\n",
    "                          score_method=tabu_score_method, \n",
    "                          number_of_parents=tabu_max_number_of_parents, \n",
    "                          number_of_iterations=tabu_number_of_iterations, \n",
    "                          tabu_length=tabu_list_length).find_optimal_net()\n",
    "\n",
    "Graph(tabu_network).draw_graph()"
   ]
  },
  {
   "cell_type": "markdown",
   "metadata": {},
   "source": [
    "-----\n",
    "## K-krotna walidacja krzyżowa\n",
    "\n",
    "K-krotna walidacja krzyżowa polega na podziale danych testowych na podzbiory, z których na zmianę jeden z podzbiorów uznawany jest za zbiór uczący, a pozostałe za zbiór walidacyjny [[5](https://pl.wikipedia.org/wiki/Sprawdzian_krzyżowy)]. Analiza jest więc wykonywana `K` razy. W przypadku metody `perform_k_fold_cross_validation` klasy `KFoldCrossValidation` za liczbę analiz odpowiada argument `n_splits`. Wszystkie przedstawione algorytmy są algorytmami uczenia się z nadzorem, dlatego analiza polega na sprawdzeniu zgodności klasyfikacji z danymi z dostarczonego zbioru.\n",
    "\n",
    "Poniższy kod wykona K-krotną walidację krzyżową, po czym przedstawi wyniki w postaci wykresu słupkowego. Wartości na wykresie są wartościami średnimi.\n",
    "\n",
    "Podczas wykonywania walidacji wyświetlany jest pasek postępu. Dla każdego z algorytmów w tablicy `classifiers` wyświetlony zostanie oddzielny pasek postępu.\n",
    "\n",
    "_Z powodu wyszukiwania nowej struktury sieci każdorazowo przy każdej zmianie zbioru uczącego i walidacyjnego, wykonywanie walidacji krzyżowej może zająć do kilku minut_\n",
    "\n",
    "<img src=\"img/cross_validation.png\" alt=\"CrossValidation\" style=\"height: 320px;\"/>\n",
    "\n",
    "[[źródło](https://towardsdatascience.com/train-test-split-and-cross-validation-in-python-80b61beca4b6)]"
   ]
  },
  {
   "cell_type": "code",
   "execution_count": 9,
   "metadata": {},
   "outputs": [
    {
     "name": "stdout",
     "output_type": "stream",
     "text": [
      "FILE data/credit.arff\n",
      "K2/MDL/2p:\n"
     ]
    },
    {
     "data": {
      "application/vnd.jupyter.widget-view+json": {
       "model_id": "c589c7190b1a4d4094ac0774e815572b",
       "version_major": 2,
       "version_minor": 0
      },
      "text/plain": [
       "VBox(children=(HTML(value=''), IntProgress(value=0, max=4)))"
      ]
     },
     "metadata": {},
     "output_type": "display_data"
    },
    {
     "name": "stdout",
     "output_type": "stream",
     "text": [
      "TAN:\n"
     ]
    },
    {
     "data": {
      "application/vnd.jupyter.widget-view+json": {
       "model_id": "80340338b45f41e1a55f5f5c0a2080e2",
       "version_major": 2,
       "version_minor": 0
      },
      "text/plain": [
       "VBox(children=(HTML(value=''), IntProgress(value=0, max=4)))"
      ]
     },
     "metadata": {},
     "output_type": "display_data"
    },
    {
     "name": "stdout",
     "output_type": "stream",
     "text": [
      "TABU/1p/2i/3tl:\n"
     ]
    },
    {
     "data": {
      "application/vnd.jupyter.widget-view+json": {
       "model_id": "b906c40d6ce94ff19abe99a6d54e919e",
       "version_major": 2,
       "version_minor": 0
      },
      "text/plain": [
       "VBox(children=(HTML(value=''), IntProgress(value=0, max=4)))"
      ]
     },
     "metadata": {},
     "output_type": "display_data"
    },
    {
     "data": {
      "application/vnd.jupyter.widget-view+json": {
       "model_id": "64508b1bdd69441293066fb157f49d42",
       "version_major": 2,
       "version_minor": 0
      },
      "text/plain": [
       "VBox(children=(HTML(value=''), IntProgress(value=0, max=2)))"
      ]
     },
     "metadata": {},
     "output_type": "display_data"
    },
    {
     "data": {
      "application/vnd.jupyter.widget-view+json": {
       "model_id": "69d64165146340dcb2fef0acf1e8e140",
       "version_major": 2,
       "version_minor": 0
      },
      "text/plain": [
       "VBox(children=(HTML(value=''), IntProgress(value=0, max=2)))"
      ]
     },
     "metadata": {},
     "output_type": "display_data"
    },
    {
     "data": {
      "application/vnd.jupyter.widget-view+json": {
       "model_id": "e761f3ee163d40799fc693e39933e56c",
       "version_major": 2,
       "version_minor": 0
      },
      "text/plain": [
       "VBox(children=(HTML(value=''), IntProgress(value=0, max=2)))"
      ]
     },
     "metadata": {},
     "output_type": "display_data"
    },
    {
     "data": {
      "application/vnd.jupyter.widget-view+json": {
       "model_id": "a37d445e002f467f9a15ad0e9c9aeaee",
       "version_major": 2,
       "version_minor": 0
      },
      "text/plain": [
       "VBox(children=(HTML(value=''), IntProgress(value=0, max=2)))"
      ]
     },
     "metadata": {},
     "output_type": "display_data"
    },
    {
     "name": "stdout",
     "output_type": "stream",
     "text": [
      "Means [0.7329999999999999, 0.8240000000000001, 0.698]\n"
     ]
    },
    {
     "data": {
      "image/png": "[encoded data removed]",
      "text/plain": [
       "<Figure size 432x288 with 1 Axes>"
      ]
     },
     "metadata": {},
     "output_type": "display_data"
    }
   ],
   "source": [
    "arff_index = 1\n",
    "results = []\n",
    "n_splits = 4\n",
    "classifiers = [{\"clf\": K2Algorithm(score_method='mdl', number_of_parents=2), \"name\": \"K2/MDL/2p\"},\n",
    "              {\"clf\": TANAlgorithm(), \"name\": \"TAN\"},\n",
    "              {\"clf\": TabuSearch(score_method='mdl', number_of_parents=1, number_of_iterations=2, tabu_length=3), \"name\": \"TABU/1p/2i/3tl\"}]\n",
    "\n",
    "print(\"FILE\", arff_paths[arff_index]['path'])\n",
    "\n",
    "for classifier in classifiers:\n",
    "    print(classifier[\"name\"] + \":\")\n",
    "    \n",
    "    mean = KFoldCrossValidation(arff_paths[arff_index]['path'], arff_paths[arff_index]['class_index'])\\\n",
    "    .perform_k_fold_cross_validation(n_splits, classifier[\"clf\"]).mean()\n",
    "    \n",
    "    results.append({\"desc\": classifier[\"name\"], \"result\": mean})\n",
    "\n",
    "    \n",
    "mean_values = [r['result'] for r in results]\n",
    "descriptions = [r['desc'] for r in results]\n",
    "\n",
    "print(\"Means\", mean_values)\n",
    "\n",
    "plt.bar(descriptions, mean_values)\n",
    "plt.show()"
   ]
  },
  {
   "cell_type": "markdown",
   "metadata": {},
   "source": [
    "-----\n",
    "## Klasyfikacja przy dowolnych podanych warunkach\n",
    "Aby skorzystać ze skonstruowanej sieci, należy wyznaczyć prawdopodobieństwo klasyfikacji w poszczególne stany atrybutu-klasy. Służy do tego klasa `From`, która w stylu wzorca budowniczego uzupełnia poszczególne warunki. Przykład:\n",
    "\n",
    "```python\n",
    "From(bayesian_network, sample_data)\n",
    "    .given('outlook', 'suuny')\n",
    "    .given('temperature', 'hot')\n",
    "    .given('humidity', 'high')\n",
    "    .given('windy', 'false')\n",
    "    .classify('play')\n",
    "```\n",
    "\n",
    "W pierwszej kolejności należy wybrać jedną z wcześniej utworzonych sieci. Do wyboru są zmienne `k2_network`, `tan_network` oraz `tabu_network`:"
   ]
  },
  {
   "cell_type": "code",
   "execution_count": 10,
   "metadata": {},
   "outputs": [],
   "source": [
    "network = k2_network #tan_network #tabu_network"
   ]
  },
  {
   "cell_type": "markdown",
   "metadata": {},
   "source": [
    "Poniżej zamieszczono przykładowe wywołanie dla każdego pliku ARFF z tablicy `arff_paths`. \n",
    "\n",
    "Aby zmienić plik ARFF, należy zmodyfikować zmienną `arff_file_index` i uruchomić ponownie wszystkie komórki ninejszego skryptu."
   ]
  },
  {
   "cell_type": "markdown",
   "metadata": {},
   "source": [
    " #### 0 - car.arff"
   ]
  },
  {
   "cell_type": "code",
   "execution_count": 11,
   "metadata": {},
   "outputs": [],
   "source": [
    "if arff_file_index == 0:\n",
    "    pp.pprint(From(network, testing_data)\\\n",
    "        .given('buying', 'low')\\\n",
    "        .given('maint', 'low')\\\n",
    "        .given('doors', '5more')\\\n",
    "        .given('persons', '4')\\\n",
    "        .given('lug_boot', 'small')\\\n",
    "        .given('safety', 'med')\\\n",
    "        .classify('class'))"
   ]
  },
  {
   "cell_type": "markdown",
   "metadata": {},
   "source": [
    " #### 1 - credit.arff"
   ]
  },
  {
   "cell_type": "code",
   "execution_count": 12,
   "metadata": {},
   "outputs": [],
   "source": [
    "if arff_file_index == 1:\n",
    "    pp.pprint(From(network, testing_data)\\\n",
    "        .given('checking_status', '>=200')\\\n",
    "        .given('duration', \"'\\'\")\\\n",
    "        .given('credit_history', 'all paid')\\\n",
    "        .given('purpose', 'new car')\\\n",
    "        .given('credit_amount', \"'\\'(-inf-3913.5]\\''\")\\\n",
    "        .given('savings_status', '<100')\\\n",
    "        .given('employment', 'unemployed')\\\n",
    "        .given('installment_commitment', \"'\\'All\\''\")\\\n",
    "        .given('personal_status', 'male single')\\\n",
    "        .given('other_parties', 'none')\\\n",
    "        .given('residence_since', \"'\\'All\\'\")\\\n",
    "        .given('property_magnitude', 'car')\\\n",
    "        .given('age', \"'\\'All\\''\")\\\n",
    "        .given('other_payment_plans', 'bank')\\\n",
    "        .given('housing', 'own')\\\n",
    "        .given('existing_credits', \"'\\'All\\''\")\\\n",
    "        .given('job', 'skilled')\\\n",
    "        .given('num_dependents', \"'\\'All\\''\")\\\n",
    "        .given('own_telephone', 'yes')\\\n",
    "        .given('foreign_worker', 'no')\\\n",
    "        .classify('class'))"
   ]
  },
  {
   "cell_type": "markdown",
   "metadata": {},
   "source": [
    " #### 2 - patient.arff"
   ]
  },
  {
   "cell_type": "code",
   "execution_count": 13,
   "metadata": {},
   "outputs": [],
   "source": [
    "if arff_file_index == 2:\n",
    "    pp.pprint(From(network, testing_data)\\\n",
    "        .given('L-CORE', 'high')\\\n",
    "        .given('L-SURF', 'low')\\\n",
    "        .given('L-O2', 'excellent')\\\n",
    "        .given('L-BP', 'mid')\\\n",
    "        .given('SURF-STBL', 'unstable')\\\n",
    "        .given('CORE-STBL', 'mod-stable')\\\n",
    "        .given('BP-STBL', 'stable')\\\n",
    "        .given('COMFORT', '07')\\\n",
    "        .classify('decision'))"
   ]
  },
  {
   "cell_type": "markdown",
   "metadata": {},
   "source": [
    " #### 3 - tumor.arff"
   ]
  },
  {
   "cell_type": "code",
   "execution_count": 14,
   "metadata": {},
   "outputs": [],
   "source": [
    "if arff_file_index == 3:\n",
    "    pp.pprin(From(network, testing_data)\\\n",
    "        .given('age', '30-59')\\\n",
    "        .given('sex', 'female')\\\n",
    "        .given('histologic-type', 'adeno')\\\n",
    "        .given('degree-of-diffe', 'fairly')\\\n",
    "        .given('bone', 'no')\\\n",
    "        .given('bone-marrow', 'yes')\\\n",
    "        .given('lung', 'no')\\\n",
    "        .given('pleura', 'yes')\\\n",
    "        .given('peritoneum', 'no')\\\n",
    "        .given('liver', 'no')\\\n",
    "        .given('brain', 'yes')\\\n",
    "        .given('skin', 'no')\\\n",
    "        .given('neck', 'no')\\\n",
    "        .given('supraclavicular', 'yes')\\\n",
    "        .given('axillar', 'yes')\\\n",
    "        .given('mediastinum', 'yes')\\\n",
    "        .given('abdominal', 'no')\\\n",
    "        .classify('class'))"
   ]
  },
  {
   "cell_type": "markdown",
   "metadata": {},
   "source": [
    " #### 4 - weather.arff"
   ]
  },
  {
   "cell_type": "code",
   "execution_count": 15,
   "metadata": {},
   "outputs": [
    {
     "name": "stdout",
     "output_type": "stream",
     "text": [
      "[{'state': 'yes', 'value': 92.5925925925926},\n",
      " {'state': 'no', 'value': 7.4074074074074066}]\n"
     ]
    }
   ],
   "source": [
    "if arff_file_index == 4:\n",
    "    pp.pprint(From(network, testing_data)\\\n",
    "        .given('outlook', 'overcast')\\\n",
    "        .given('temperature', 'mild')\\\n",
    "        .given('humidity', 'normal')\\\n",
    "        .given('windy', 'FALSE')\\\n",
    "        .classify('play'))"
   ]
  },
  {
   "cell_type": "markdown",
   "metadata": {},
   "source": [
    " #### 5 - zoo.arff"
   ]
  },
  {
   "cell_type": "code",
   "execution_count": 16,
   "metadata": {},
   "outputs": [],
   "source": [
    "if arff_file_index == 5:\n",
    "    pp.pprint(From(network, testing_data)\\\n",
    "        .given('type', 'mammal')\\\n",
    "        .given('hair', 'true')\\\n",
    "        .given('feathers', 'false')\\\n",
    "        .given('eggs', 'false')\\\n",
    "        .given('milk', 'true')\\\n",
    "        .given('airborne', 'false')\\\n",
    "        .given('aquatic', 'false')\\\n",
    "        .given('predator', 'true')\\\n",
    "        .given('toothed', 'false')\\\n",
    "        .given('backbone', 'true')\\\n",
    "        .given('breathes', 'true')\\\n",
    "        .given('venomous', 'false')\\\n",
    "        .given('fins', 'false')\\\n",
    "        .given('legs', '4')\\\n",
    "        .given('tail', 'true')\\\n",
    "        .given('domestic', 'true')\\\n",
    "        .given('catsize', 'true')\\\n",
    "        .classify('animal'))"
   ]
  }
 ],
 "metadata": {
  "kernelspec": {
   "display_name": "Python 3",
   "language": "python",
   "name": "python3"
  },
  "language_info": {
   "codemirror_mode": {
    "name": "ipython",
    "version": 3
   },
   "file_extension": ".py",
   "mimetype": "text/x-python",
   "name": "python",
   "nbconvert_exporter": "python",
   "pygments_lexer": "ipython3",
   "version": "3.6.5"
  }
 },
 "nbformat": 4,
 "nbformat_minor": 2
}
