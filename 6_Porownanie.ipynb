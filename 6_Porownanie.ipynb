{
 "cells": [
  {
   "cell_type": "code",
   "execution_count": 1,
   "metadata": {
    "scrolled": true
   },
   "outputs": [],
   "source": [
    "import pandas as pd\n",
    "import seaborn as sns\n",
    "from sklearn.svm import SVC\n",
    "import matplotlib.pyplot as plt\n",
    "from sklearn import svm, datasets, model_selection\n",
    "from sklearn.metrics import confusion_matrix\n",
    "from sklearn.metrics import mean_absolute_error, average_precision_score, brier_score_loss, classification_report\n",
    "from sklearn.metrics import cohen_kappa_score, f1_score, hamming_loss, log_loss, mean_squared_error\n",
    "from sklearn.model_selection import train_test_split, cross_val_score\n",
    "from sklearn.ensemble import RandomForestClassifier\n",
    "from sklearn.neighbors import KNeighborsClassifier\n",
    "from sklearn.linear_model import LinearRegression\n",
    "\n",
    "\n",
    "%run 'utils/imports_1.ipynb'\n",
    "%run 'utils/arff.ipynb'\n",
    "%run 'utils/arffconverter.ipynb'\n",
    "%run 'utils/arffcrossvalidation.ipynb'"
   ]
  },
  {
   "cell_type": "markdown",
   "metadata": {},
   "source": [
    "#### TODO:\n",
    "* Uzupełnienie wszystkich wykresów o zrobione sieci bayesowskie\n",
    "* Porównanie algorytmów w sieciach bayesowskich w zależności od wielkości data-setu\n",
    "* Wykres świecowy dla konkretnego datasetu - tego, co najlepiej wypadł w poprzednim porównaniu - czyli porównanie na jednym wykresie wszystkich algorytmów\n",
    "* [?] Wykres par\n",
    "* [?] Wykres liniowy"
   ]
  },
  {
   "cell_type": "markdown",
   "metadata": {},
   "source": [
    "# 1. Zależność wielkości zbioru testowego od poprawności klasyfikacji"
   ]
  },
  {
   "cell_type": "code",
   "execution_count": 3,
   "metadata": {
    "scrolled": true
   },
   "outputs": [],
   "source": [
    "class ComputeForArff(object):\n",
    "    def __init__(self, classifier, arff_path, splits):\n",
    "        self.classifier = classifier\n",
    "        self.arff_path = arff_path\n",
    "        self.splits = splits\n",
    "        self.seed = 7\n",
    "    \n",
    "    def compute_result(self):\n",
    "        data = load_arff(self.arff_path)\n",
    "        \n",
    "        kfold = model_selection.KFold(n_splits=self.splits, random_state=self.seed)\n",
    "        return cross_val_score(self.classifier, data.data, data.target, cv=kfold)"
   ]
  },
  {
   "cell_type": "code",
   "execution_count": 6,
   "metadata": {},
   "outputs": [],
   "source": [
    "class ComputeBayesianNetworkStats(object):\n",
    "    def __init__(self, classifier, arff_array):\n",
    "        self.classifier = classifier\n",
    "        self.arff_array = arff_array\n",
    "        \n",
    "    def compute_stats_dataframe(self):\n",
    "        bn_data = dict()\n",
    "        for i, path in enumerate(self.arff_array):\n",
    "            print(i)\n",
    "            bn_values = self.compute_stats(path)\n",
    "            bn_data[labels[i]] = bn_values\n",
    "        \n",
    "        return pd.DataFrame(data=bn_data, index=[\"MAE\", \"MSE\", \"CKS\", \"HL\"])\n",
    "        \n",
    "    def compute_stats(self, arff_path):\n",
    "        attributes, a, b = ARFFLoader(arff_path).load_attributes_and_samples(8, 100)\n",
    "        y, predicted = KFoldCrossValidation(arff_path, 8).predict(self.classifier)\n",
    "\n",
    "        final_predicted = []\n",
    "        for pred in predicted:\n",
    "            for i, t in enumerate(attributes[0]['states']):\n",
    "                if t == pred:\n",
    "                    final_predicted.append(i)\n",
    "                    continue\n",
    "\n",
    "        final_y = []\n",
    "        for pred in y:\n",
    "            for i, t in enumerate(attributes[0]['states']):\n",
    "                if t == pred:\n",
    "                    final_y.append(i)\n",
    "                    continue      \n",
    "\n",
    "        MAE = mean_absolute_error(final_y, final_predicted)\n",
    "        MSE = mean_squared_error(final_y, final_predicted)\n",
    "        CKS = cohen_kappa_score(final_y, final_predicted)\n",
    "        HL = hamming_loss(final_y, final_predicted)\n",
    "        \n",
    "        return [MAE, MSE, CKS, HL]"
   ]
  },
  {
   "cell_type": "code",
   "execution_count": 9,
   "metadata": {},
   "outputs": [],
   "source": [
    "class ComputeStatisticsForArff(object):\n",
    "    def __init__(self, classifier, arff_path):\n",
    "        self.classifier = classifier\n",
    "        self.arff_path = arff_path\n",
    "    \n",
    "    def compute_result(self):\n",
    "        data = load_arff(self.arff_path)\n",
    "        X = data.data\n",
    "        y = data.target\n",
    "        \n",
    "        X_train, X_test, y_train, y_test = train_test_split(X, y, test_size=0.5, random_state=123456)\n",
    "        self.classifier.fit(X_train, y_train)\n",
    "        predicted_values = self.classifier.predict(X_test)\n",
    "        \n",
    "        MAE = mean_absolute_error(y_test, predicted_values)\n",
    "        MSE = mean_squared_error(y_test, predicted_values)\n",
    "        CKS = cohen_kappa_score(y_test, predicted_values)\n",
    "        HL = hamming_loss(y_test, predicted_values)\n",
    "        \n",
    "        return [MAE, MSE, CKS, HL]"
   ]
  },
  {
   "cell_type": "code",
   "execution_count": 33,
   "metadata": {
    "scrolled": true
   },
   "outputs": [],
   "source": [
    "nursery_paths = ['data/comparison/nursery_100.arff',\n",
    "                'data/comparison/nursery_200.arff',\n",
    "                'data/comparison/nursery_400.arff',\n",
    "                'data/comparison/nursery_800.arff', \n",
    "                'data/comparison/nursery_1000.arff',\n",
    "                'data/comparison/nursery_2000.arff',\n",
    "                'data/comparison/nursery_4000.arff',\n",
    "                'data/comparison/nursery_8000.arff',\n",
    "                'data/comparison/nursery_12960.arff']\n",
    "\n",
    "best_arff = 5\n",
    "data = load_arff(nursery_paths[best_arff])\n",
    "\n",
    "labels = [100, 200, 400, 800, 1000, 2000, 4000, 8000, 12960]\n",
    "\n",
    "sns.set_style(\"whitegrid\")\n",
    "sns.set_palette(sns.light_palette((210, 90, 60), input=\"husl\"))"
   ]
  },
  {
   "cell_type": "markdown",
   "metadata": {},
   "source": [
    "#### 1. SVM"
   ]
  },
  {
   "cell_type": "code",
   "execution_count": 69,
   "metadata": {
    "scrolled": true
   },
   "outputs": [],
   "source": [
    "SVM_df = pd.DataFrame()\n",
    "   \n",
    "for i, nursery in enumerate(nursery_paths): \n",
    "    df_temp = pd.DataFrame({\"value\": ComputeForArff(SVC(kernel='linear', C=50), nursery, 10).compute_result()})\n",
    "    df_temp['size'] = labels[i]\n",
    "    df_temp['kernel'] = \"linear\"\n",
    "    SVM_df = SVM_df.append(df_temp)\n",
    "\n",
    "for i, nursery in enumerate(nursery_paths): \n",
    "    df_temp = pd.DataFrame({\"value\": ComputeForArff(SVC(kernel='rbf', C=50), nursery, 10).compute_result()})\n",
    "    df_temp['size'] = labels[i]\n",
    "    df_temp['kernel'] = \"rbf\"\n",
    "    SVM_df = SVM_df.append(df_temp)"
   ]
  },
  {
   "cell_type": "code",
   "execution_count": 70,
   "metadata": {
    "scrolled": true
   },
   "outputs": [],
   "source": [
    "rbf_data = dict()\n",
    "linear_data = dict()\n",
    "for i, path in enumerate(nursery_paths):\n",
    "    linear_values = ComputeStatisticsForArff(SVC(kernel='linear', C=50), path).compute_result()\n",
    "    linear_data[labels[i]] = linear_values\n",
    "    \n",
    "    rbf_values = ComputeStatisticsForArff(SVC(kernel='rbf', C=50), path).compute_result()\n",
    "    rbf_data[labels[i]] = rbf_values\n",
    "    \n",
    "rbf_kernel_df = pd.DataFrame(data=rbf_data, index=[\"MAE\", \"MSE\", \"CKS\", \"HL\"])\n",
    "linear_kernel_df = pd.DataFrame(data=linear_data, index=[\"MAE\", \"MSE\", \"CKS\", \"HL\"])"
   ]
  },
  {
   "cell_type": "code",
   "execution_count": 116,
   "metadata": {},
   "outputs": [
    {
     "data": {
      "text/plain": [
       "Text(0.5,1,'SVM, kernel = {linear, rbf}, 10-fold cross validation, nursery.arff')"
      ]
     },
     "execution_count": 116,
     "metadata": {},
     "output_type": "execute_result"
    },
    {
     "data": {
      "image/png": "[encoded data removed]",
      "text/plain": [
       "<Figure size 1152x648 with 1 Axes>"
      ]
     },
     "metadata": {},
     "output_type": "display_data"
    }
   ],
   "source": [
    "sns.set(rc={'figure.figsize':(16, 9)})\n",
    "sns.boxplot(x=\"size\", y=\"value\", hue=\"kernel\", data=SVM_df, palette=sns.light_palette(\"green\")).set_title(\"SVM, kernel = {linear, rbf}, 10-fold cross validation, nursery.arff\")"
   ]
  },
  {
   "cell_type": "code",
   "execution_count": 148,
   "metadata": {},
   "outputs": [
    {
     "data": {
      "text/html": [
       "<div>\n",
       "<style scoped>\n",
       "    .dataframe tbody tr th:only-of-type {\n",
       "        vertical-align: middle;\n",
       "    }\n",
       "\n",
       "    .dataframe tbody tr th {\n",
       "        vertical-align: top;\n",
       "    }\n",
       "\n",
       "    .dataframe thead th {\n",
       "        text-align: right;\n",
       "    }\n",
       "</style>\n",
       "<table border=\"1\" class=\"dataframe\">\n",
       "  <thead>\n",
       "    <tr style=\"text-align: right;\">\n",
       "      <th></th>\n",
       "      <th>100</th>\n",
       "      <th>200</th>\n",
       "      <th>400</th>\n",
       "      <th>800</th>\n",
       "      <th>1000</th>\n",
       "      <th>2000</th>\n",
       "      <th>4000</th>\n",
       "      <th>8000</th>\n",
       "      <th>12960</th>\n",
       "    </tr>\n",
       "  </thead>\n",
       "  <tbody>\n",
       "    <tr>\n",
       "      <th>MAE</th>\n",
       "      <td>3.921569</td>\n",
       "      <td>2.970297</td>\n",
       "      <td>1.492537</td>\n",
       "      <td>0.997506</td>\n",
       "      <td>0.399202</td>\n",
       "      <td>0.599401</td>\n",
       "      <td>0.699650</td>\n",
       "      <td>0.574856</td>\n",
       "      <td>0.246914</td>\n",
       "    </tr>\n",
       "    <tr>\n",
       "      <th>MSE</th>\n",
       "      <td>3.921569</td>\n",
       "      <td>2.970297</td>\n",
       "      <td>1.492537</td>\n",
       "      <td>0.997506</td>\n",
       "      <td>0.399202</td>\n",
       "      <td>0.599401</td>\n",
       "      <td>0.699650</td>\n",
       "      <td>0.574856</td>\n",
       "      <td>0.246914</td>\n",
       "    </tr>\n",
       "    <tr>\n",
       "      <th>CKS</th>\n",
       "      <td>93.985849</td>\n",
       "      <td>94.826703</td>\n",
       "      <td>97.397609</td>\n",
       "      <td>98.091839</td>\n",
       "      <td>99.268581</td>\n",
       "      <td>98.888478</td>\n",
       "      <td>98.900192</td>\n",
       "      <td>99.138578</td>\n",
       "      <td>99.637422</td>\n",
       "    </tr>\n",
       "    <tr>\n",
       "      <th>HL</th>\n",
       "      <td>39.215686</td>\n",
       "      <td>29.702970</td>\n",
       "      <td>14.925373</td>\n",
       "      <td>9.975062</td>\n",
       "      <td>3.992016</td>\n",
       "      <td>5.994006</td>\n",
       "      <td>6.996502</td>\n",
       "      <td>5.748563</td>\n",
       "      <td>2.469136</td>\n",
       "    </tr>\n",
       "  </tbody>\n",
       "</table>\n",
       "</div>"
      ],
      "text/plain": [
       "         100        200        400        800        1000       2000   \\\n",
       "MAE   3.921569   2.970297   1.492537   0.997506   0.399202   0.599401   \n",
       "MSE   3.921569   2.970297   1.492537   0.997506   0.399202   0.599401   \n",
       "CKS  93.985849  94.826703  97.397609  98.091839  99.268581  98.888478   \n",
       "HL   39.215686  29.702970  14.925373   9.975062   3.992016   5.994006   \n",
       "\n",
       "         4000       8000       12960  \n",
       "MAE   0.699650   0.574856   0.246914  \n",
       "MSE   0.699650   0.574856   0.246914  \n",
       "CKS  98.900192  99.138578  99.637422  \n",
       "HL    6.996502   5.748563   2.469136  "
      ]
     },
     "execution_count": 148,
     "metadata": {},
     "output_type": "execute_result"
    }
   ],
   "source": [
    "rbf_kernel_df"
   ]
  },
  {
   "cell_type": "code",
   "execution_count": 149,
   "metadata": {},
   "outputs": [
    {
     "data": {
      "text/html": [
       "<div>\n",
       "<style scoped>\n",
       "    .dataframe tbody tr th:only-of-type {\n",
       "        vertical-align: middle;\n",
       "    }\n",
       "\n",
       "    .dataframe tbody tr th {\n",
       "        vertical-align: top;\n",
       "    }\n",
       "\n",
       "    .dataframe thead th {\n",
       "        text-align: right;\n",
       "    }\n",
       "</style>\n",
       "<table border=\"1\" class=\"dataframe\">\n",
       "  <thead>\n",
       "    <tr style=\"text-align: right;\">\n",
       "      <th></th>\n",
       "      <th>100</th>\n",
       "      <th>200</th>\n",
       "      <th>400</th>\n",
       "      <th>800</th>\n",
       "      <th>1000</th>\n",
       "      <th>2000</th>\n",
       "      <th>4000</th>\n",
       "      <th>8000</th>\n",
       "      <th>12960</th>\n",
       "    </tr>\n",
       "  </thead>\n",
       "  <tbody>\n",
       "    <tr>\n",
       "      <th>MAE</th>\n",
       "      <td>7.843137</td>\n",
       "      <td>7.920792</td>\n",
       "      <td>8.955224</td>\n",
       "      <td>3.491272</td>\n",
       "      <td>4.391218</td>\n",
       "      <td>3.796204</td>\n",
       "      <td>6.446777</td>\n",
       "      <td>7.248188</td>\n",
       "      <td>9.012346</td>\n",
       "    </tr>\n",
       "    <tr>\n",
       "      <th>MSE</th>\n",
       "      <td>7.843137</td>\n",
       "      <td>7.920792</td>\n",
       "      <td>10.945274</td>\n",
       "      <td>3.491272</td>\n",
       "      <td>4.790419</td>\n",
       "      <td>3.796204</td>\n",
       "      <td>6.446777</td>\n",
       "      <td>7.498125</td>\n",
       "      <td>9.043210</td>\n",
       "    </tr>\n",
       "    <tr>\n",
       "      <th>CKS</th>\n",
       "      <td>88.153310</td>\n",
       "      <td>86.015922</td>\n",
       "      <td>86.068272</td>\n",
       "      <td>93.181929</td>\n",
       "      <td>92.154362</td>\n",
       "      <td>92.892458</td>\n",
       "      <td>89.724696</td>\n",
       "      <td>89.262398</td>\n",
       "      <td>86.735830</td>\n",
       "    </tr>\n",
       "    <tr>\n",
       "      <th>HL</th>\n",
       "      <td>78.431373</td>\n",
       "      <td>79.207921</td>\n",
       "      <td>79.601990</td>\n",
       "      <td>34.912718</td>\n",
       "      <td>41.916168</td>\n",
       "      <td>37.962038</td>\n",
       "      <td>64.467766</td>\n",
       "      <td>71.232192</td>\n",
       "      <td>89.969136</td>\n",
       "    </tr>\n",
       "  </tbody>\n",
       "</table>\n",
       "</div>"
      ],
      "text/plain": [
       "         100        200        400        800        1000       2000   \\\n",
       "MAE   7.843137   7.920792   8.955224   3.491272   4.391218   3.796204   \n",
       "MSE   7.843137   7.920792  10.945274   3.491272   4.790419   3.796204   \n",
       "CKS  88.153310  86.015922  86.068272  93.181929  92.154362  92.892458   \n",
       "HL   78.431373  79.207921  79.601990  34.912718  41.916168  37.962038   \n",
       "\n",
       "         4000       8000       12960  \n",
       "MAE   6.446777   7.248188   9.012346  \n",
       "MSE   6.446777   7.498125   9.043210  \n",
       "CKS  89.724696  89.262398  86.735830  \n",
       "HL   64.467766  71.232192  89.969136  "
      ]
     },
     "execution_count": 149,
     "metadata": {},
     "output_type": "execute_result"
    }
   ],
   "source": [
    "linear_kernel_df"
   ]
  },
  {
   "cell_type": "markdown",
   "metadata": {},
   "source": [
    "#### 2. KNN"
   ]
  },
  {
   "cell_type": "code",
   "execution_count": 34,
   "metadata": {
    "scrolled": true
   },
   "outputs": [],
   "source": [
    "KNN_df = pd.DataFrame()\n",
    "   \n",
    "for i, nursery in enumerate(nursery_paths): \n",
    "    df_temp = pd.DataFrame({\"value\": ComputeForArff(KNeighborsClassifier(5, weights='distance'), nursery, 10).compute_result()})\n",
    "    df_temp['size'] = labels[i]\n",
    "    df_temp['knn'] = \"5\"\n",
    "    KNN_df = KNN_df.append(df_temp)\n",
    "\n",
    "for i, nursery in enumerate(nursery_paths): \n",
    "    df_temp = pd.DataFrame({\"value\": ComputeForArff(KNeighborsClassifier(25, weights='distance'), nursery, 10).compute_result()})\n",
    "    df_temp['size'] = labels[i]\n",
    "    df_temp['knn'] = \"25\"\n",
    "    KNN_df = KNN_df.append(df_temp)"
   ]
  },
  {
   "cell_type": "code",
   "execution_count": 35,
   "metadata": {},
   "outputs": [],
   "source": [
    "k_5_data = dict()\n",
    "k_25_data = dict()\n",
    "for i, path in enumerate(nursery_paths):\n",
    "    k_5_values = ComputeStatisticsForArff(KNeighborsClassifier(5, weights='distance'), path).compute_result()\n",
    "    k_5_data[labels[i]] = k_5_values\n",
    "    \n",
    "    k_25_values = ComputeStatisticsForArff(KNeighborsClassifier(25, weights='distance'), path).compute_result()\n",
    "    k_25_data[labels[i]] = k_25_values\n",
    "    \n",
    "k_5_df = pd.DataFrame(data=k_5_data, index=[\"MAE\", \"MSE\", \"CKS\", \"HL\"])\n",
    "k_25_df = pd.DataFrame(data=k_25_data, index=[\"MAE\", \"MSE\", \"CKS\", \"HL\"])"
   ]
  },
  {
   "cell_type": "code",
   "execution_count": 117,
   "metadata": {
    "scrolled": false
   },
   "outputs": [
    {
     "data": {
      "text/plain": [
       "Text(0.5,1,'K-NN, K={5, 25}, 10-fold cross validation, nursery.arff')"
      ]
     },
     "execution_count": 117,
     "metadata": {},
     "output_type": "execute_result"
    },
    {
     "data": {
      "image/png": "[encoded data removed]",
      "text/plain": [
       "<Figure size 1152x648 with 1 Axes>"
      ]
     },
     "metadata": {},
     "output_type": "display_data"
    }
   ],
   "source": [
    "sns.set(rc={'figure.figsize':(16, 9)})\n",
    "sns.boxplot(x=\"size\", y=\"value\", hue=\"knn\", data=KNN_df, palette=sns.light_palette(\"green\")).set_title('K-NN, K={5, 25}, 10-fold cross validation, nursery.arff')"
   ]
  },
  {
   "cell_type": "code",
   "execution_count": 44,
   "metadata": {},
   "outputs": [
    {
     "data": {
      "text/html": [
       "<div>\n",
       "<style scoped>\n",
       "    .dataframe tbody tr th:only-of-type {\n",
       "        vertical-align: middle;\n",
       "    }\n",
       "\n",
       "    .dataframe tbody tr th {\n",
       "        vertical-align: top;\n",
       "    }\n",
       "\n",
       "    .dataframe thead th {\n",
       "        text-align: right;\n",
       "    }\n",
       "</style>\n",
       "<table border=\"1\" class=\"dataframe\">\n",
       "  <thead>\n",
       "    <tr style=\"text-align: right;\">\n",
       "      <th></th>\n",
       "      <th>100</th>\n",
       "      <th>200</th>\n",
       "      <th>400</th>\n",
       "      <th>800</th>\n",
       "      <th>1000</th>\n",
       "      <th>2000</th>\n",
       "      <th>4000</th>\n",
       "      <th>8000</th>\n",
       "      <th>12960</th>\n",
       "    </tr>\n",
       "  </thead>\n",
       "  <tbody>\n",
       "    <tr>\n",
       "      <th>MAE</th>\n",
       "      <td>0.254902</td>\n",
       "      <td>0.099010</td>\n",
       "      <td>0.099502</td>\n",
       "      <td>0.087282</td>\n",
       "      <td>0.071856</td>\n",
       "      <td>0.061938</td>\n",
       "      <td>0.064968</td>\n",
       "      <td>0.052237</td>\n",
       "      <td>0.043827</td>\n",
       "    </tr>\n",
       "    <tr>\n",
       "      <th>MSE</th>\n",
       "      <td>0.450980</td>\n",
       "      <td>0.118812</td>\n",
       "      <td>0.109453</td>\n",
       "      <td>0.182045</td>\n",
       "      <td>0.147705</td>\n",
       "      <td>0.139860</td>\n",
       "      <td>0.130935</td>\n",
       "      <td>0.077731</td>\n",
       "      <td>0.062346</td>\n",
       "    </tr>\n",
       "    <tr>\n",
       "      <th>CKS</th>\n",
       "      <td>0.719609</td>\n",
       "      <td>0.843005</td>\n",
       "      <td>0.826259</td>\n",
       "      <td>0.892013</td>\n",
       "      <td>0.913785</td>\n",
       "      <td>0.932086</td>\n",
       "      <td>0.924901</td>\n",
       "      <td>0.932143</td>\n",
       "      <td>0.942762</td>\n",
       "    </tr>\n",
       "    <tr>\n",
       "      <th>HL</th>\n",
       "      <td>0.176471</td>\n",
       "      <td>0.089109</td>\n",
       "      <td>0.094527</td>\n",
       "      <td>0.054863</td>\n",
       "      <td>0.045908</td>\n",
       "      <td>0.035964</td>\n",
       "      <td>0.046977</td>\n",
       "      <td>0.044989</td>\n",
       "      <td>0.038889</td>\n",
       "    </tr>\n",
       "  </tbody>\n",
       "</table>\n",
       "</div>"
      ],
      "text/plain": [
       "        100       200       400       800       1000      2000      4000   \\\n",
       "MAE  0.254902  0.099010  0.099502  0.087282  0.071856  0.061938  0.064968   \n",
       "MSE  0.450980  0.118812  0.109453  0.182045  0.147705  0.139860  0.130935   \n",
       "CKS  0.719609  0.843005  0.826259  0.892013  0.913785  0.932086  0.924901   \n",
       "HL   0.176471  0.089109  0.094527  0.054863  0.045908  0.035964  0.046977   \n",
       "\n",
       "        8000      12960  \n",
       "MAE  0.052237  0.043827  \n",
       "MSE  0.077731  0.062346  \n",
       "CKS  0.932143  0.942762  \n",
       "HL   0.044989  0.038889  "
      ]
     },
     "execution_count": 44,
     "metadata": {},
     "output_type": "execute_result"
    }
   ],
   "source": [
    "k_5_df"
   ]
  },
  {
   "cell_type": "code",
   "execution_count": 45,
   "metadata": {},
   "outputs": [
    {
     "data": {
      "text/html": [
       "<div>\n",
       "<style scoped>\n",
       "    .dataframe tbody tr th:only-of-type {\n",
       "        vertical-align: middle;\n",
       "    }\n",
       "\n",
       "    .dataframe tbody tr th {\n",
       "        vertical-align: top;\n",
       "    }\n",
       "\n",
       "    .dataframe thead th {\n",
       "        text-align: right;\n",
       "    }\n",
       "</style>\n",
       "<table border=\"1\" class=\"dataframe\">\n",
       "  <thead>\n",
       "    <tr style=\"text-align: right;\">\n",
       "      <th></th>\n",
       "      <th>100</th>\n",
       "      <th>200</th>\n",
       "      <th>400</th>\n",
       "      <th>800</th>\n",
       "      <th>1000</th>\n",
       "      <th>2000</th>\n",
       "      <th>4000</th>\n",
       "      <th>8000</th>\n",
       "      <th>12960</th>\n",
       "    </tr>\n",
       "  </thead>\n",
       "  <tbody>\n",
       "    <tr>\n",
       "      <th>MAE</th>\n",
       "      <td>0.333333</td>\n",
       "      <td>0.227723</td>\n",
       "      <td>0.154229</td>\n",
       "      <td>0.077307</td>\n",
       "      <td>0.105788</td>\n",
       "      <td>0.038961</td>\n",
       "      <td>0.059470</td>\n",
       "      <td>0.056736</td>\n",
       "      <td>0.047377</td>\n",
       "    </tr>\n",
       "    <tr>\n",
       "      <th>MSE</th>\n",
       "      <td>0.529412</td>\n",
       "      <td>0.425743</td>\n",
       "      <td>0.184080</td>\n",
       "      <td>0.127182</td>\n",
       "      <td>0.217565</td>\n",
       "      <td>0.044955</td>\n",
       "      <td>0.069465</td>\n",
       "      <td>0.056736</td>\n",
       "      <td>0.047377</td>\n",
       "    </tr>\n",
       "    <tr>\n",
       "      <th>CKS</th>\n",
       "      <td>0.567515</td>\n",
       "      <td>0.690658</td>\n",
       "      <td>0.717710</td>\n",
       "      <td>0.880161</td>\n",
       "      <td>0.868537</td>\n",
       "      <td>0.929309</td>\n",
       "      <td>0.908710</td>\n",
       "      <td>0.913790</td>\n",
       "      <td>0.930067</td>\n",
       "    </tr>\n",
       "    <tr>\n",
       "      <th>HL</th>\n",
       "      <td>0.254902</td>\n",
       "      <td>0.158416</td>\n",
       "      <td>0.144279</td>\n",
       "      <td>0.059850</td>\n",
       "      <td>0.067864</td>\n",
       "      <td>0.036963</td>\n",
       "      <td>0.056472</td>\n",
       "      <td>0.056736</td>\n",
       "      <td>0.047377</td>\n",
       "    </tr>\n",
       "  </tbody>\n",
       "</table>\n",
       "</div>"
      ],
      "text/plain": [
       "        100       200       400       800       1000      2000      4000   \\\n",
       "MAE  0.333333  0.227723  0.154229  0.077307  0.105788  0.038961  0.059470   \n",
       "MSE  0.529412  0.425743  0.184080  0.127182  0.217565  0.044955  0.069465   \n",
       "CKS  0.567515  0.690658  0.717710  0.880161  0.868537  0.929309  0.908710   \n",
       "HL   0.254902  0.158416  0.144279  0.059850  0.067864  0.036963  0.056472   \n",
       "\n",
       "        8000      12960  \n",
       "MAE  0.056736  0.047377  \n",
       "MSE  0.056736  0.047377  \n",
       "CKS  0.913790  0.930067  \n",
       "HL   0.056736  0.047377  "
      ]
     },
     "execution_count": 45,
     "metadata": {},
     "output_type": "execute_result"
    }
   ],
   "source": [
    "k_25_df"
   ]
  },
  {
   "cell_type": "markdown",
   "metadata": {},
   "source": [
    "#### 3. Lasy losowe"
   ]
  },
  {
   "cell_type": "code",
   "execution_count": 46,
   "metadata": {
    "scrolled": true
   },
   "outputs": [],
   "source": [
    "LL_df = pd.DataFrame()\n",
    "   \n",
    "for i, nursery in enumerate(nursery_paths): \n",
    "    df_temp = pd.DataFrame({\"value\": ComputeForArff(RandomForestClassifier(n_estimators=5, criterion='entropy'), nursery, 10).compute_result()})\n",
    "    df_temp['size'] = labels[i]\n",
    "    df_temp['estimators'] = \"5\"\n",
    "    LL_df = LL_df.append(df_temp)\n",
    "\n",
    "for i, nursery in enumerate(nursery_paths): \n",
    "    df_temp = pd.DataFrame({\"value\": ComputeForArff(RandomForestClassifier(n_estimators=50, criterion='entropy'), nursery, 10).compute_result()})\n",
    "    df_temp['size'] = labels[i]\n",
    "    df_temp['estimators'] = \"50\"\n",
    "    LL_df = LL_df.append(df_temp)"
   ]
  },
  {
   "cell_type": "code",
   "execution_count": 47,
   "metadata": {},
   "outputs": [],
   "source": [
    "est_5_data = dict()\n",
    "est_50_data = dict()\n",
    "for i, path in enumerate(nursery_paths):\n",
    "    est_5_values = ComputeStatisticsForArff(RandomForestClassifier(n_estimators=5, criterion='entropy'), path).compute_result()\n",
    "    est_5_data[labels[i]] = est_5_values\n",
    "    \n",
    "    est_50_values = ComputeStatisticsForArff(RandomForestClassifier(n_estimators=50, criterion='entropy'), path).compute_result()\n",
    "    est_50_data[labels[i]] = est_50_values\n",
    "    \n",
    "est_5_df = pd.DataFrame(data=est_5_data, index=[\"MAE\", \"MSE\", \"CKS\", \"HL\"])\n",
    "est_50_df = pd.DataFrame(data=est_50_data, index=[\"MAE\", \"MSE\", \"CKS\", \"HL\"])"
   ]
  },
  {
   "cell_type": "code",
   "execution_count": 113,
   "metadata": {
    "scrolled": false
   },
   "outputs": [
    {
     "data": {
      "text/plain": [
       "Text(0.5,1,'Random forests, no. of estimators = {5, 50}, 10-fold cross validation, nursery.arff')"
      ]
     },
     "execution_count": 113,
     "metadata": {},
     "output_type": "execute_result"
    },
    {
     "data": {
      "image/png": "[encoded data removed]",
      "text/plain": [
       "<Figure size 1152x648 with 1 Axes>"
      ]
     },
     "metadata": {},
     "output_type": "display_data"
    }
   ],
   "source": [
    "sns.set(rc={'figure.figsize':(16, 9)})\n",
    "sns.set_palette(sns.light_palette(\"green\"))\n",
    "sns.boxplot(x=\"size\", y=\"value\", hue=\"estimators\", data=LL_df).set_title('Random forests, no. of estimators = {5, 50}, 10-fold cross validation, nursery.arff')"
   ]
  },
  {
   "cell_type": "code",
   "execution_count": 171,
   "metadata": {},
   "outputs": [
    {
     "data": {
      "text/html": [
       "<div>\n",
       "<style scoped>\n",
       "    .dataframe tbody tr th:only-of-type {\n",
       "        vertical-align: middle;\n",
       "    }\n",
       "\n",
       "    .dataframe tbody tr th {\n",
       "        vertical-align: top;\n",
       "    }\n",
       "\n",
       "    .dataframe thead th {\n",
       "        text-align: right;\n",
       "    }\n",
       "</style>\n",
       "<table border=\"1\" class=\"dataframe\">\n",
       "  <thead>\n",
       "    <tr style=\"text-align: right;\">\n",
       "      <th></th>\n",
       "      <th>100</th>\n",
       "      <th>200</th>\n",
       "      <th>400</th>\n",
       "      <th>800</th>\n",
       "      <th>1000</th>\n",
       "      <th>2000</th>\n",
       "      <th>4000</th>\n",
       "      <th>8000</th>\n",
       "      <th>12960</th>\n",
       "    </tr>\n",
       "  </thead>\n",
       "  <tbody>\n",
       "    <tr>\n",
       "      <th>MAE</th>\n",
       "      <td>15.686275</td>\n",
       "      <td>14.851485</td>\n",
       "      <td>18.905473</td>\n",
       "      <td>2.992519</td>\n",
       "      <td>3.393214</td>\n",
       "      <td>2.497502</td>\n",
       "      <td>2.398801</td>\n",
       "      <td>3.299175</td>\n",
       "      <td>3.333333</td>\n",
       "    </tr>\n",
       "    <tr>\n",
       "      <th>MSE</th>\n",
       "      <td>15.686275</td>\n",
       "      <td>18.811881</td>\n",
       "      <td>37.810945</td>\n",
       "      <td>2.992519</td>\n",
       "      <td>4.191617</td>\n",
       "      <td>2.497502</td>\n",
       "      <td>2.398801</td>\n",
       "      <td>3.299175</td>\n",
       "      <td>3.518519</td>\n",
       "    </tr>\n",
       "    <tr>\n",
       "      <th>CKS</th>\n",
       "      <td>75.182482</td>\n",
       "      <td>77.451485</td>\n",
       "      <td>77.325030</td>\n",
       "      <td>94.246084</td>\n",
       "      <td>94.479258</td>\n",
       "      <td>95.338401</td>\n",
       "      <td>96.204580</td>\n",
       "      <td>95.050832</td>\n",
       "      <td>95.164191</td>\n",
       "    </tr>\n",
       "    <tr>\n",
       "      <th>HL</th>\n",
       "      <td>156.862745</td>\n",
       "      <td>128.712871</td>\n",
       "      <td>124.378109</td>\n",
       "      <td>29.925187</td>\n",
       "      <td>29.940120</td>\n",
       "      <td>24.975025</td>\n",
       "      <td>23.988006</td>\n",
       "      <td>32.991752</td>\n",
       "      <td>32.870370</td>\n",
       "    </tr>\n",
       "  </tbody>\n",
       "</table>\n",
       "</div>"
      ],
      "text/plain": [
       "          100         200         400        800        1000       2000   \\\n",
       "MAE   15.686275   14.851485   18.905473   2.992519   3.393214   2.497502   \n",
       "MSE   15.686275   18.811881   37.810945   2.992519   4.191617   2.497502   \n",
       "CKS   75.182482   77.451485   77.325030  94.246084  94.479258  95.338401   \n",
       "HL   156.862745  128.712871  124.378109  29.925187  29.940120  24.975025   \n",
       "\n",
       "         4000       8000       12960  \n",
       "MAE   2.398801   3.299175   3.333333  \n",
       "MSE   2.398801   3.299175   3.518519  \n",
       "CKS  96.204580  95.050832  95.164191  \n",
       "HL   23.988006  32.991752  32.870370  "
      ]
     },
     "execution_count": 171,
     "metadata": {},
     "output_type": "execute_result"
    }
   ],
   "source": [
    "est_5_df"
   ]
  },
  {
   "cell_type": "code",
   "execution_count": 173,
   "metadata": {},
   "outputs": [
    {
     "data": {
      "text/html": [
       "<div>\n",
       "<style scoped>\n",
       "    .dataframe tbody tr th:only-of-type {\n",
       "        vertical-align: middle;\n",
       "    }\n",
       "\n",
       "    .dataframe tbody tr th {\n",
       "        vertical-align: top;\n",
       "    }\n",
       "\n",
       "    .dataframe thead th {\n",
       "        text-align: right;\n",
       "    }\n",
       "</style>\n",
       "<table border=\"1\" class=\"dataframe\">\n",
       "  <thead>\n",
       "    <tr style=\"text-align: right;\">\n",
       "      <th></th>\n",
       "      <th>100</th>\n",
       "      <th>200</th>\n",
       "      <th>400</th>\n",
       "      <th>800</th>\n",
       "      <th>1000</th>\n",
       "      <th>2000</th>\n",
       "      <th>4000</th>\n",
       "      <th>8000</th>\n",
       "      <th>12960</th>\n",
       "    </tr>\n",
       "  </thead>\n",
       "  <tbody>\n",
       "    <tr>\n",
       "      <th>MAE</th>\n",
       "      <td>15.686275</td>\n",
       "      <td>5.940594</td>\n",
       "      <td>7.960199</td>\n",
       "      <td>1.246883</td>\n",
       "      <td>1.796407</td>\n",
       "      <td>1.098901</td>\n",
       "      <td>1.449275</td>\n",
       "      <td>1.649588</td>\n",
       "      <td>1.080247</td>\n",
       "    </tr>\n",
       "    <tr>\n",
       "      <th>MSE</th>\n",
       "      <td>23.529412</td>\n",
       "      <td>7.920792</td>\n",
       "      <td>7.960199</td>\n",
       "      <td>1.246883</td>\n",
       "      <td>1.796407</td>\n",
       "      <td>1.098901</td>\n",
       "      <td>1.449275</td>\n",
       "      <td>1.649588</td>\n",
       "      <td>1.080247</td>\n",
       "    </tr>\n",
       "    <tr>\n",
       "      <th>CKS</th>\n",
       "      <td>81.386861</td>\n",
       "      <td>90.998217</td>\n",
       "      <td>85.135885</td>\n",
       "      <td>97.608683</td>\n",
       "      <td>96.657202</td>\n",
       "      <td>97.948316</td>\n",
       "      <td>97.713889</td>\n",
       "      <td>97.524888</td>\n",
       "      <td>98.412271</td>\n",
       "    </tr>\n",
       "    <tr>\n",
       "      <th>HL</th>\n",
       "      <td>117.647059</td>\n",
       "      <td>49.504950</td>\n",
       "      <td>79.601990</td>\n",
       "      <td>12.468828</td>\n",
       "      <td>17.964072</td>\n",
       "      <td>10.989011</td>\n",
       "      <td>14.492754</td>\n",
       "      <td>16.495876</td>\n",
       "      <td>10.802469</td>\n",
       "    </tr>\n",
       "  </tbody>\n",
       "</table>\n",
       "</div>"
      ],
      "text/plain": [
       "          100        200        400        800        1000       2000   \\\n",
       "MAE   15.686275   5.940594   7.960199   1.246883   1.796407   1.098901   \n",
       "MSE   23.529412   7.920792   7.960199   1.246883   1.796407   1.098901   \n",
       "CKS   81.386861  90.998217  85.135885  97.608683  96.657202  97.948316   \n",
       "HL   117.647059  49.504950  79.601990  12.468828  17.964072  10.989011   \n",
       "\n",
       "         4000       8000       12960  \n",
       "MAE   1.449275   1.649588   1.080247  \n",
       "MSE   1.449275   1.649588   1.080247  \n",
       "CKS  97.713889  97.524888  98.412271  \n",
       "HL   14.492754  16.495876  10.802469  "
      ]
     },
     "execution_count": 173,
     "metadata": {},
     "output_type": "execute_result"
    }
   ],
   "source": [
    "est_50_df"
   ]
  },
  {
   "cell_type": "markdown",
   "metadata": {},
   "source": [
    "# 2. Sieci bayesowskie - porównanie algorytmów w zależności od data setu\n",
    "\n",
    "# ! Wywołanie poniższego skryptu jest czasochłonne."
   ]
  },
  {
   "cell_type": "code",
   "execution_count": 118,
   "metadata": {
    "scrolled": false
   },
   "outputs": [],
   "source": [
    "bn_splits = 10\n",
    "\n",
    "BN_df = pd.DataFrame()\n",
    "\n",
    "total = len(nursery_paths)"
   ]
  },
  {
   "cell_type": "code",
   "execution_count": 119,
   "metadata": {
    "scrolled": true
   },
   "outputs": [
    {
     "name": "stdout",
     "output_type": "stream",
     "text": [
      "1 of 9\n"
     ]
    },
    {
     "data": {
      "application/vnd.jupyter.widget-view+json": {
       "model_id": "ad42b5e77fbf41f2aaa5e87eccf50da6",
       "version_major": 2,
       "version_minor": 0
      },
      "text/plain": [
       "VBox(children=(HTML(value=''), IntProgress(value=0, max=10)))"
      ]
     },
     "metadata": {},
     "output_type": "display_data"
    },
    {
     "name": "stdout",
     "output_type": "stream",
     "text": [
      "2 of 9\n"
     ]
    },
    {
     "data": {
      "application/vnd.jupyter.widget-view+json": {
       "model_id": "e48b6e6dd65b4eb79eacfff739d4adcd",
       "version_major": 2,
       "version_minor": 0
      },
      "text/plain": [
       "VBox(children=(HTML(value=''), IntProgress(value=0, max=10)))"
      ]
     },
     "metadata": {},
     "output_type": "display_data"
    },
    {
     "name": "stdout",
     "output_type": "stream",
     "text": [
      "3 of 9\n"
     ]
    },
    {
     "data": {
      "application/vnd.jupyter.widget-view+json": {
       "model_id": "852a3a09dfea4e25bb676c5baa528ddf",
       "version_major": 2,
       "version_minor": 0
      },
      "text/plain": [
       "VBox(children=(HTML(value=''), IntProgress(value=0, max=10)))"
      ]
     },
     "metadata": {},
     "output_type": "display_data"
    },
    {
     "name": "stdout",
     "output_type": "stream",
     "text": [
      "4 of 9\n"
     ]
    },
    {
     "data": {
      "application/vnd.jupyter.widget-view+json": {
       "model_id": "3c9d788e348a4a05b7530f060b7d6c8d",
       "version_major": 2,
       "version_minor": 0
      },
      "text/plain": [
       "VBox(children=(HTML(value=''), IntProgress(value=0, max=10)))"
      ]
     },
     "metadata": {},
     "output_type": "display_data"
    },
    {
     "name": "stdout",
     "output_type": "stream",
     "text": [
      "5 of 9\n"
     ]
    },
    {
     "data": {
      "application/vnd.jupyter.widget-view+json": {
       "model_id": "bd08482edc544fe88441fbf961e7cabb",
       "version_major": 2,
       "version_minor": 0
      },
      "text/plain": [
       "VBox(children=(HTML(value=''), IntProgress(value=0, max=10)))"
      ]
     },
     "metadata": {},
     "output_type": "display_data"
    },
    {
     "name": "stdout",
     "output_type": "stream",
     "text": [
      "6 of 9\n"
     ]
    },
    {
     "data": {
      "application/vnd.jupyter.widget-view+json": {
       "model_id": "abc137912c6c4af1b4b9ddee44a338dc",
       "version_major": 2,
       "version_minor": 0
      },
      "text/plain": [
       "VBox(children=(HTML(value=''), IntProgress(value=0, max=10)))"
      ]
     },
     "metadata": {},
     "output_type": "display_data"
    },
    {
     "name": "stdout",
     "output_type": "stream",
     "text": [
      "7 of 9\n"
     ]
    },
    {
     "data": {
      "application/vnd.jupyter.widget-view+json": {
       "model_id": "225d896ba5f74a209cab6105043180f9",
       "version_major": 2,
       "version_minor": 0
      },
      "text/plain": [
       "VBox(children=(HTML(value=''), IntProgress(value=0, max=10)))"
      ]
     },
     "metadata": {},
     "output_type": "display_data"
    },
    {
     "name": "stdout",
     "output_type": "stream",
     "text": [
      "8 of 9\n"
     ]
    },
    {
     "data": {
      "application/vnd.jupyter.widget-view+json": {
       "model_id": "f91669371f8c41e69b4c4abe07a6f26d",
       "version_major": 2,
       "version_minor": 0
      },
      "text/plain": [
       "VBox(children=(HTML(value=''), IntProgress(value=0, max=10)))"
      ]
     },
     "metadata": {},
     "output_type": "display_data"
    },
    {
     "name": "stdout",
     "output_type": "stream",
     "text": [
      "9 of 9\n"
     ]
    },
    {
     "data": {
      "application/vnd.jupyter.widget-view+json": {
       "model_id": "2a137834d3b5414e8db7eab48188d76f",
       "version_major": 2,
       "version_minor": 0
      },
      "text/plain": [
       "VBox(children=(HTML(value=''), IntProgress(value=0, max=10)))"
      ]
     },
     "metadata": {},
     "output_type": "display_data"
    }
   ],
   "source": [
    "BN_K2_df = pd.DataFrame()\n",
    "\n",
    "for i, path in enumerate(nursery_paths):\n",
    "    print(i + 1, \"of\", total)\n",
    "    value = KFoldCrossValidation(path, 8).perform_k_fold_cross_validation(10, K2Algorithm(score_method='aic', number_of_parents=2))\n",
    "    df_temp = pd.DataFrame({\"value\": value })\n",
    "    df_temp['size'] = labels[i]\n",
    "    df_temp['name'] = \"K2\"\n",
    "    BN_K2_df = BN_K2_df.append(df_temp)"
   ]
  },
  {
   "cell_type": "code",
   "execution_count": 120,
   "metadata": {
    "scrolled": true
   },
   "outputs": [
    {
     "name": "stdout",
     "output_type": "stream",
     "text": [
      "1 of 9\n"
     ]
    },
    {
     "data": {
      "application/vnd.jupyter.widget-view+json": {
       "model_id": "82978ca6c4144aef804d7de7b6d85db6",
       "version_major": 2,
       "version_minor": 0
      },
      "text/plain": [
       "VBox(children=(HTML(value=''), IntProgress(value=0, max=10)))"
      ]
     },
     "metadata": {},
     "output_type": "display_data"
    },
    {
     "name": "stdout",
     "output_type": "stream",
     "text": [
      "2 of 9\n"
     ]
    },
    {
     "data": {
      "application/vnd.jupyter.widget-view+json": {
       "model_id": "49fc7a33ab36431799b86bc470c12c31",
       "version_major": 2,
       "version_minor": 0
      },
      "text/plain": [
       "VBox(children=(HTML(value=''), IntProgress(value=0, max=10)))"
      ]
     },
     "metadata": {},
     "output_type": "display_data"
    },
    {
     "name": "stdout",
     "output_type": "stream",
     "text": [
      "3 of 9\n"
     ]
    },
    {
     "data": {
      "application/vnd.jupyter.widget-view+json": {
       "model_id": "63cf62d9e7bb4a9bafd8638568ebd4fa",
       "version_major": 2,
       "version_minor": 0
      },
      "text/plain": [
       "VBox(children=(HTML(value=''), IntProgress(value=0, max=10)))"
      ]
     },
     "metadata": {},
     "output_type": "display_data"
    },
    {
     "name": "stdout",
     "output_type": "stream",
     "text": [
      "4 of 9\n"
     ]
    },
    {
     "data": {
      "application/vnd.jupyter.widget-view+json": {
       "model_id": "c8c425773d914ca9be7821586d35a84f",
       "version_major": 2,
       "version_minor": 0
      },
      "text/plain": [
       "VBox(children=(HTML(value=''), IntProgress(value=0, max=10)))"
      ]
     },
     "metadata": {},
     "output_type": "display_data"
    },
    {
     "name": "stdout",
     "output_type": "stream",
     "text": [
      "5 of 9\n"
     ]
    },
    {
     "data": {
      "application/vnd.jupyter.widget-view+json": {
       "model_id": "4537dd47b56b40f98f0df2e9b30338e8",
       "version_major": 2,
       "version_minor": 0
      },
      "text/plain": [
       "VBox(children=(HTML(value=''), IntProgress(value=0, max=10)))"
      ]
     },
     "metadata": {},
     "output_type": "display_data"
    },
    {
     "name": "stdout",
     "output_type": "stream",
     "text": [
      "6 of 9\n"
     ]
    },
    {
     "data": {
      "application/vnd.jupyter.widget-view+json": {
       "model_id": "b7ba6e04c74347e499d314554c2107dc",
       "version_major": 2,
       "version_minor": 0
      },
      "text/plain": [
       "VBox(children=(HTML(value=''), IntProgress(value=0, max=10)))"
      ]
     },
     "metadata": {},
     "output_type": "display_data"
    },
    {
     "name": "stdout",
     "output_type": "stream",
     "text": [
      "7 of 9\n"
     ]
    },
    {
     "data": {
      "application/vnd.jupyter.widget-view+json": {
       "model_id": "d702661291544d27ae61565f94bed258",
       "version_major": 2,
       "version_minor": 0
      },
      "text/plain": [
       "VBox(children=(HTML(value=''), IntProgress(value=0, max=10)))"
      ]
     },
     "metadata": {},
     "output_type": "display_data"
    },
    {
     "name": "stdout",
     "output_type": "stream",
     "text": [
      "8 of 9\n"
     ]
    },
    {
     "data": {
      "application/vnd.jupyter.widget-view+json": {
       "model_id": "8f4cf211555b45dab0b71710f8d91f58",
       "version_major": 2,
       "version_minor": 0
      },
      "text/plain": [
       "VBox(children=(HTML(value=''), IntProgress(value=0, max=10)))"
      ]
     },
     "metadata": {},
     "output_type": "display_data"
    },
    {
     "name": "stdout",
     "output_type": "stream",
     "text": [
      "9 of 9\n"
     ]
    },
    {
     "data": {
      "application/vnd.jupyter.widget-view+json": {
       "model_id": "08096ac550354f64b678dbeeb0120954",
       "version_major": 2,
       "version_minor": 0
      },
      "text/plain": [
       "VBox(children=(HTML(value=''), IntProgress(value=0, max=10)))"
      ]
     },
     "metadata": {},
     "output_type": "display_data"
    }
   ],
   "source": [
    "BN_TAN_df = pd.DataFrame()\n",
    "\n",
    "for i, path in enumerate(nursery_paths):\n",
    "    print(i + 1, \"of\", total)\n",
    "    value = KFoldCrossValidation(path, 8).perform_k_fold_cross_validation(10, TANAlgorithm())\n",
    "    df_temp = pd.DataFrame({\"value\": value })\n",
    "    df_temp['size'] = labels[i]\n",
    "    df_temp['name'] = \"TAN\"\n",
    "    BN_TAN_df = BN_TAN_df.append(df_temp)"
   ]
  },
  {
   "cell_type": "code",
   "execution_count": null,
   "metadata": {
    "scrolled": true
   },
   "outputs": [],
   "source": [
    "BN_TABU_df = pd.DataFrame()\n",
    "\n",
    "for i, path in enumerate(nursery_paths):\n",
    "    print(i + 1, \"of\", total)\n",
    "    value = KFoldCrossValidation(path, 8).perform_k_fold_cross_validation(10, TabuSearch(score_method='aic', number_of_parents=2, number_of_iterations=10, tabu_length=3))\n",
    "    df_temp = pd.DataFrame({\"value\": value })\n",
    "    df_temp['size'] = labels[i]\n",
    "    df_temp['name'] = \"TABU\"\n",
    "    BN_TABU_df = BN_TABU_df.append(df_temp)"
   ]
  },
  {
   "cell_type": "code",
   "execution_count": 122,
   "metadata": {},
   "outputs": [
    {
     "data": {
      "text/plain": [
       "Text(0.5,1,'Bayesian networks, 10-fold cross validation, TAN/TABU/K2, nursery.arff')"
      ]
     },
     "execution_count": 122,
     "metadata": {},
     "output_type": "execute_result"
    },
    {
     "data": {
      "image/png": "[encoded data removed]",
      "text/plain": [
       "<Figure size 1152x648 with 1 Axes>"
      ]
     },
     "metadata": {},
     "output_type": "display_data"
    }
   ],
   "source": [
    "BN_df = pd.DataFrame()\n",
    "BN_df = BN_df.append(BN_TAN_df)\n",
    "BN_df = BN_df.append(BN_K2_df)\n",
    "BN_df = BN_df.append(BN_TABU_df)\n",
    "\n",
    "sns.set(rc={'figure.figsize':(16, 9)})\n",
    "sns.set_palette(sns.light_palette(\"green\"))\n",
    "sns.boxplot(x=\"size\", y=\"value\", hue=\"name\", data=BN_df).set_title('Bayesian networks, 10-fold cross validation, TAN/TABU/K2, nursery.arff')"
   ]
  },
  {
   "cell_type": "code",
   "execution_count": null,
   "metadata": {},
   "outputs": [],
   "source": [
    "TAN_stats_df = ComputeBayesianNetworkStats(TANAlgorithm(), nursery_paths).compute_stats_dataframe()\n",
    "K2_stats_df = ComputeBayesianNetworkStats(K2Algorithm(score_method='aic', number_of_parents=2), nursery_paths).compute_stats_dataframe()\n",
    "TABU_stats_df = ComputeBayesianNetworkStats(TabuSearch(score_method='aic', number_of_parents=2, number_of_iterations=10, tabu_length=3), nursery_paths).compute_stats_dataframe()"
   ]
  },
  {
   "cell_type": "code",
   "execution_count": 151,
   "metadata": {},
   "outputs": [
    {
     "data": {
      "text/html": [
       "<div>\n",
       "<style scoped>\n",
       "    .dataframe tbody tr th:only-of-type {\n",
       "        vertical-align: middle;\n",
       "    }\n",
       "\n",
       "    .dataframe tbody tr th {\n",
       "        vertical-align: top;\n",
       "    }\n",
       "\n",
       "    .dataframe thead th {\n",
       "        text-align: right;\n",
       "    }\n",
       "</style>\n",
       "<table border=\"1\" class=\"dataframe\">\n",
       "  <thead>\n",
       "    <tr style=\"text-align: right;\">\n",
       "      <th></th>\n",
       "      <th>100</th>\n",
       "      <th>200</th>\n",
       "      <th>400</th>\n",
       "      <th>800</th>\n",
       "      <th>1000</th>\n",
       "      <th>2000</th>\n",
       "      <th>4000</th>\n",
       "      <th>8000</th>\n",
       "      <th>12960</th>\n",
       "      <th>400</th>\n",
       "    </tr>\n",
       "  </thead>\n",
       "  <tbody>\n",
       "    <tr>\n",
       "      <th>MAE</th>\n",
       "      <td>0.095238</td>\n",
       "      <td>0.097561</td>\n",
       "      <td>0.098333</td>\n",
       "      <td>0.024845</td>\n",
       "      <td>0.039801</td>\n",
       "      <td>0.034913</td>\n",
       "      <td>0.049938</td>\n",
       "      <td>0.043723</td>\n",
       "      <td>0.038580</td>\n",
       "      <td>0.098333</td>\n",
       "    </tr>\n",
       "    <tr>\n",
       "      <th>MSE</th>\n",
       "      <td>0.190476</td>\n",
       "      <td>0.146341</td>\n",
       "      <td>0.162315</td>\n",
       "      <td>0.024845</td>\n",
       "      <td>0.039801</td>\n",
       "      <td>0.034913</td>\n",
       "      <td>0.049938</td>\n",
       "      <td>0.043723</td>\n",
       "      <td>0.038580</td>\n",
       "      <td>0.162315</td>\n",
       "    </tr>\n",
       "    <tr>\n",
       "      <th>CKS</th>\n",
       "      <td>0.931148</td>\n",
       "      <td>0.893599</td>\n",
       "      <td>0.912343</td>\n",
       "      <td>0.957204</td>\n",
       "      <td>0.929337</td>\n",
       "      <td>0.936853</td>\n",
       "      <td>0.903369</td>\n",
       "      <td>0.915771</td>\n",
       "      <td>0.925464</td>\n",
       "      <td>0.912343</td>\n",
       "    </tr>\n",
       "    <tr>\n",
       "      <th>HL</th>\n",
       "      <td>0.047619</td>\n",
       "      <td>0.073171</td>\n",
       "      <td>0.063245</td>\n",
       "      <td>0.024845</td>\n",
       "      <td>0.039801</td>\n",
       "      <td>0.034913</td>\n",
       "      <td>0.049938</td>\n",
       "      <td>0.043723</td>\n",
       "      <td>0.038580</td>\n",
       "      <td>0.063245</td>\n",
       "    </tr>\n",
       "  </tbody>\n",
       "</table>\n",
       "</div>"
      ],
      "text/plain": [
       "          100       200       400       800      1000      2000      4000  \\\n",
       "MAE  0.095238  0.097561  0.098333  0.024845  0.039801  0.034913  0.049938   \n",
       "MSE  0.190476  0.146341  0.162315  0.024845  0.039801  0.034913  0.049938   \n",
       "CKS  0.931148  0.893599  0.912343  0.957204  0.929337  0.936853  0.903369   \n",
       "HL   0.047619  0.073171  0.063245  0.024845  0.039801  0.034913  0.049938   \n",
       "\n",
       "         8000     12960       400  \n",
       "MAE  0.043723  0.038580  0.098333  \n",
       "MSE  0.043723  0.038580  0.162315  \n",
       "CKS  0.915771  0.925464  0.912343  \n",
       "HL   0.043723  0.038580  0.063245  "
      ]
     },
     "execution_count": 151,
     "metadata": {},
     "output_type": "execute_result"
    }
   ],
   "source": [
    "TAN_stats_df[400] = [0.098333, 0.162315, 0.912343, 0.063245]\n",
    "TAN_stats_df2 = TAN_stats_df.drop('test', 1)\n",
    "TAN_stats_df2"
   ]
  },
  {
   "cell_type": "code",
   "execution_count": 125,
   "metadata": {},
   "outputs": [
    {
     "data": {
      "text/html": [
       "<div>\n",
       "<style scoped>\n",
       "    .dataframe tbody tr th:only-of-type {\n",
       "        vertical-align: middle;\n",
       "    }\n",
       "\n",
       "    .dataframe tbody tr th {\n",
       "        vertical-align: top;\n",
       "    }\n",
       "\n",
       "    .dataframe thead th {\n",
       "        text-align: right;\n",
       "    }\n",
       "</style>\n",
       "<table border=\"1\" class=\"dataframe\">\n",
       "  <thead>\n",
       "    <tr style=\"text-align: right;\">\n",
       "      <th></th>\n",
       "      <th>100</th>\n",
       "      <th>200</th>\n",
       "      <th>400</th>\n",
       "      <th>800</th>\n",
       "      <th>1000</th>\n",
       "      <th>2000</th>\n",
       "      <th>4000</th>\n",
       "      <th>8000</th>\n",
       "      <th>12960</th>\n",
       "    </tr>\n",
       "  </thead>\n",
       "  <tbody>\n",
       "    <tr>\n",
       "      <th>MAE</th>\n",
       "      <td>1.380952</td>\n",
       "      <td>1.243902</td>\n",
       "      <td>1.246914</td>\n",
       "      <td>1.136646</td>\n",
       "      <td>1.129353</td>\n",
       "      <td>1.109726</td>\n",
       "      <td>1.082397</td>\n",
       "      <td>1.079950</td>\n",
       "      <td>1.077160</td>\n",
       "    </tr>\n",
       "    <tr>\n",
       "      <th>MSE</th>\n",
       "      <td>3.666667</td>\n",
       "      <td>3.243902</td>\n",
       "      <td>3.296296</td>\n",
       "      <td>3.136646</td>\n",
       "      <td>3.149254</td>\n",
       "      <td>3.109726</td>\n",
       "      <td>3.087391</td>\n",
       "      <td>3.079950</td>\n",
       "      <td>3.078704</td>\n",
       "    </tr>\n",
       "    <tr>\n",
       "      <th>CKS</th>\n",
       "      <td>0.023256</td>\n",
       "      <td>0.000000</td>\n",
       "      <td>0.000000</td>\n",
       "      <td>0.000000</td>\n",
       "      <td>0.000000</td>\n",
       "      <td>0.000000</td>\n",
       "      <td>0.000000</td>\n",
       "      <td>0.000000</td>\n",
       "      <td>0.000000</td>\n",
       "    </tr>\n",
       "    <tr>\n",
       "      <th>HL</th>\n",
       "      <td>0.571429</td>\n",
       "      <td>0.560976</td>\n",
       "      <td>0.555556</td>\n",
       "      <td>0.465839</td>\n",
       "      <td>0.452736</td>\n",
       "      <td>0.441397</td>\n",
       "      <td>0.413233</td>\n",
       "      <td>0.412867</td>\n",
       "      <td>0.409722</td>\n",
       "    </tr>\n",
       "  </tbody>\n",
       "</table>\n",
       "</div>"
      ],
      "text/plain": [
       "        100       200       400       800       1000      2000      4000   \\\n",
       "MAE  1.380952  1.243902  1.246914  1.136646  1.129353  1.109726  1.082397   \n",
       "MSE  3.666667  3.243902  3.296296  3.136646  3.149254  3.109726  3.087391   \n",
       "CKS  0.023256  0.000000  0.000000  0.000000  0.000000  0.000000  0.000000   \n",
       "HL   0.571429  0.560976  0.555556  0.465839  0.452736  0.441397  0.413233   \n",
       "\n",
       "        8000      12960  \n",
       "MAE  1.079950  1.077160  \n",
       "MSE  3.079950  3.078704  \n",
       "CKS  0.000000  0.000000  \n",
       "HL   0.412867  0.409722  "
      ]
     },
     "execution_count": 125,
     "metadata": {},
     "output_type": "execute_result"
    }
   ],
   "source": [
    "K2_stats_df"
   ]
  },
  {
   "cell_type": "code",
   "execution_count": 126,
   "metadata": {},
   "outputs": [
    {
     "data": {
      "text/html": [
       "<div>\n",
       "<style scoped>\n",
       "    .dataframe tbody tr th:only-of-type {\n",
       "        vertical-align: middle;\n",
       "    }\n",
       "\n",
       "    .dataframe tbody tr th {\n",
       "        vertical-align: top;\n",
       "    }\n",
       "\n",
       "    .dataframe thead th {\n",
       "        text-align: right;\n",
       "    }\n",
       "</style>\n",
       "<table border=\"1\" class=\"dataframe\">\n",
       "  <thead>\n",
       "    <tr style=\"text-align: right;\">\n",
       "      <th></th>\n",
       "      <th>100</th>\n",
       "      <th>200</th>\n",
       "      <th>400</th>\n",
       "      <th>800</th>\n",
       "      <th>1000</th>\n",
       "      <th>2000</th>\n",
       "      <th>4000</th>\n",
       "      <th>8000</th>\n",
       "      <th>12960</th>\n",
       "    </tr>\n",
       "  </thead>\n",
       "  <tbody>\n",
       "    <tr>\n",
       "      <th>MAE</th>\n",
       "      <td>1.285714</td>\n",
       "      <td>1.268293</td>\n",
       "      <td>1.246914</td>\n",
       "      <td>1.136646</td>\n",
       "      <td>1.129353</td>\n",
       "      <td>1.109726</td>\n",
       "      <td>1.092385</td>\n",
       "      <td>1.169894</td>\n",
       "      <td>1.097222</td>\n",
       "    </tr>\n",
       "    <tr>\n",
       "      <th>MSE</th>\n",
       "      <td>3.285714</td>\n",
       "      <td>3.268293</td>\n",
       "      <td>3.296296</td>\n",
       "      <td>3.136646</td>\n",
       "      <td>3.149254</td>\n",
       "      <td>3.109726</td>\n",
       "      <td>3.047441</td>\n",
       "      <td>3.019988</td>\n",
       "      <td>3.063272</td>\n",
       "    </tr>\n",
       "    <tr>\n",
       "      <th>CKS</th>\n",
       "      <td>0.066667</td>\n",
       "      <td>0.104463</td>\n",
       "      <td>0.000000</td>\n",
       "      <td>0.000000</td>\n",
       "      <td>0.000000</td>\n",
       "      <td>0.000000</td>\n",
       "      <td>0.014299</td>\n",
       "      <td>0.000885</td>\n",
       "      <td>0.001481</td>\n",
       "    </tr>\n",
       "    <tr>\n",
       "      <th>HL</th>\n",
       "      <td>0.571429</td>\n",
       "      <td>0.560976</td>\n",
       "      <td>0.555556</td>\n",
       "      <td>0.465839</td>\n",
       "      <td>0.452736</td>\n",
       "      <td>0.441397</td>\n",
       "      <td>0.433208</td>\n",
       "      <td>0.517801</td>\n",
       "      <td>0.433642</td>\n",
       "    </tr>\n",
       "  </tbody>\n",
       "</table>\n",
       "</div>"
      ],
      "text/plain": [
       "        100       200       400       800       1000      2000      4000   \\\n",
       "MAE  1.285714  1.268293  1.246914  1.136646  1.129353  1.109726  1.092385   \n",
       "MSE  3.285714  3.268293  3.296296  3.136646  3.149254  3.109726  3.047441   \n",
       "CKS  0.066667  0.104463  0.000000  0.000000  0.000000  0.000000  0.014299   \n",
       "HL   0.571429  0.560976  0.555556  0.465839  0.452736  0.441397  0.433208   \n",
       "\n",
       "        8000      12960  \n",
       "MAE  1.169894  1.097222  \n",
       "MSE  3.019988  3.063272  \n",
       "CKS  0.000885  0.001481  \n",
       "HL   0.517801  0.433642  "
      ]
     },
     "execution_count": 126,
     "metadata": {},
     "output_type": "execute_result"
    }
   ],
   "source": [
    "TABU_stats_df"
   ]
  },
  {
   "cell_type": "markdown",
   "metadata": {},
   "source": [
    "# 3. Porównanie algorytmów - wykres świecowy\n",
    "\n",
    "* SVM - kernel=rbf, bo wyszło najkorzystniej,\n",
    "* BN - TAN, bo wyszedł najkorzystniej,\n",
    "* KNN - k=5, bo wyszło najkorzystniej."
   ]
  },
  {
   "cell_type": "code",
   "execution_count": null,
   "metadata": {
    "scrolled": false
   },
   "outputs": [],
   "source": [
    "splits = 10\n",
    "seed = 7\n",
    "path = nursery_paths[best_arff]\n",
    "\n",
    "names = []\n",
    "results = []\n",
    "models = []\n",
    "models.append(('SVM', SVC(kernel='rbf', C=50))))\n",
    "models.append(('KNN', KNeighborsClassifier(5, weights='distance')))\n",
    "models.append(('LL', RandomForestClassifier(n_estimators=10, criterion='entropy')))\n",
    "\n",
    "X = data.data\n",
    "y = data.target\n",
    "    \n",
    "for name, model in models:\n",
    "    kfold = model_selection.KFold(n_splits=splits, random_state=seed)\n",
    "    cv_results = cross_val_score(model, X, y, cv=kfold)\n",
    "    results.append(cv_results)\n",
    "    names.append(name)\n",
    "    \n",
    "results.append(KFoldCrossValidation(nursery_paths[best_arff], 8).perform_k_fold_cross_validation(10, TANAlgorithm()))    \n",
    "names.append(\"BN TAN\")    "
   ]
  },
  {
   "cell_type": "code",
   "execution_count": 58,
   "metadata": {},
   "outputs": [],
   "source": [
    "pd_SVM = pd.DataFrame({\"value\": results[0]})\n",
    "pd_SVM['name'] = \"SVM\"\n",
    "\n",
    "pd_KNN = pd.DataFrame({\"value\": results[1]})\n",
    "pd_KNN['name'] = \"KNN\"\n",
    "\n",
    "pd_LL = pd.DataFrame({\"value\": results[2]})\n",
    "pd_LL['name'] = \"LL\"\n",
    "\n",
    "pd_TAN = pd.DataFrame({\"value\": results[3]})\n",
    "pd_TAN['name'] = \"BN TAN\"\n",
    "\n",
    "COMP_df = pd.DataFrame()\n",
    "COMP_df = COMP_df.append(pd_SVM)\n",
    "COMP_df = COMP_df.append(pd_KNN)\n",
    "COMP_df = COMP_df.append(pd_LL)\n",
    "COMP_df = COMP_df.append(pd_TAN)"
   ]
  },
  {
   "cell_type": "code",
   "execution_count": 112,
   "metadata": {
    "scrolled": false
   },
   "outputs": [
    {
     "data": {
      "text/plain": [
       "Text(0.5,1,'SVM/KNN/LL/BN TAN')"
      ]
     },
     "execution_count": 112,
     "metadata": {},
     "output_type": "execute_result"
    },
    {
     "data": {
      "image/png": "[encoded data removed]",
      "text/plain": [
       "<Figure size 864x648 with 1 Axes>"
      ]
     },
     "metadata": {},
     "output_type": "display_data"
    }
   ],
   "source": [
    "sns.set(rc={'figure.figsize':(12, 9)})\n",
    "sns.set_palette(sns.light_palette(\"green\"))\n",
    "sns.boxplot(x=\"name\", y=\"value\", data=COMP_df, whis=np.inf).set_title(\"SVM/KNN/LL/BN TAN\")"
   ]
  },
  {
   "cell_type": "code",
   "execution_count": null,
   "metadata": {},
   "outputs": [],
   "source": [
    "class ComputeBayesianNetworkStats(object):\n",
    "    def __init__(self, classifier, arff_array):\n",
    "        self.classifier = classifier\n",
    "        self.arff_array = arff_array\n",
    "        \n",
    "    def compute_stats_dataframe(self):\n",
    "        bn_data = dict()\n",
    "        for i, path in enumerate(self.arff_array):\n",
    "            print(i)\n",
    "            bn_values = self.compute_stats(path)\n",
    "            bn_data[labels[i]] = bn_values\n",
    "        \n",
    "        return pd.DataFrame(data=bn_data, index=[\"MAE\", \"MSE\", \"CKS\", \"HL\"])\n",
    "        \n",
    "    def compute_stats(self, "
   ]
  },
  {
   "cell_type": "code",
   "execution_count": 98,
   "metadata": {},
   "outputs": [],
   "source": [
    "est_SVM = ComputeStatisticsForArff(SVC(), path).compute_result()\n",
    "est_KNN = ComputeStatisticsForArff(KNeighborsClassifier(), path).compute_result()\n",
    "est_LL = ComputeStatisticsForArff(RandomForestClassifier(n_estimators=10, criterion='entropy'), path).compute_result()\n",
    "est_BN = ComputeBayesianNetworkStats(TANAlgorithm(), []).compute_stats(path)"
   ]
  },
  {
   "cell_type": "code",
   "execution_count": 104,
   "metadata": {},
   "outputs": [
    {
     "data": {
      "text/html": [
       "<div>\n",
       "<style scoped>\n",
       "    .dataframe tbody tr th:only-of-type {\n",
       "        vertical-align: middle;\n",
       "    }\n",
       "\n",
       "    .dataframe tbody tr th {\n",
       "        vertical-align: top;\n",
       "    }\n",
       "\n",
       "    .dataframe thead th {\n",
       "        text-align: right;\n",
       "    }\n",
       "</style>\n",
       "<table border=\"1\" class=\"dataframe\">\n",
       "  <thead>\n",
       "    <tr style=\"text-align: right;\">\n",
       "      <th></th>\n",
       "      <th>BN TAN</th>\n",
       "      <th>KNN</th>\n",
       "      <th>LL</th>\n",
       "      <th>SVM</th>\n",
       "    </tr>\n",
       "  </thead>\n",
       "  <tbody>\n",
       "    <tr>\n",
       "      <th>HL</th>\n",
       "      <td>0.038580</td>\n",
       "      <td>0.042438</td>\n",
       "      <td>0.020370</td>\n",
       "      <td>0.020062</td>\n",
       "    </tr>\n",
       "    <tr>\n",
       "      <th>MAE</th>\n",
       "      <td>0.038580</td>\n",
       "      <td>0.051543</td>\n",
       "      <td>0.020370</td>\n",
       "      <td>0.020062</td>\n",
       "    </tr>\n",
       "    <tr>\n",
       "      <th>MSE</th>\n",
       "      <td>0.038580</td>\n",
       "      <td>0.085802</td>\n",
       "      <td>0.020370</td>\n",
       "      <td>0.020062</td>\n",
       "    </tr>\n",
       "    <tr>\n",
       "      <th>CKS</th>\n",
       "      <td>0.925464</td>\n",
       "      <td>0.937541</td>\n",
       "      <td>0.970045</td>\n",
       "      <td>0.970483</td>\n",
       "    </tr>\n",
       "  </tbody>\n",
       "</table>\n",
       "</div>"
      ],
      "text/plain": [
       "       BN TAN       KNN        LL       SVM\n",
       "HL   0.038580  0.042438  0.020370  0.020062\n",
       "MAE  0.038580  0.051543  0.020370  0.020062\n",
       "MSE  0.038580  0.085802  0.020370  0.020062\n",
       "CKS  0.925464  0.937541  0.970045  0.970483"
      ]
     },
     "execution_count": 104,
     "metadata": {},
     "output_type": "execute_result"
    }
   ],
   "source": [
    "d = {'SVM': est_SVM, 'KNN': est_KNN, 'LL': est_LL, 'BN TAN': est_BN}\n",
    "df = pd.DataFrame(data=d, index=[\"MAE\", \"MSE\", \"CKS\", \"HL\"])\n",
    "df = df.sort_values(['SVM', 'KNN', 'LL'])\n",
    "\n",
    "df"
   ]
  },
  {
   "cell_type": "markdown",
   "metadata": {},
   "source": [
    "# Rozkład parametrów w zbiorze danych testowych"
   ]
  },
  {
   "cell_type": "code",
   "execution_count": 145,
   "metadata": {},
   "outputs": [
    {
     "name": "stdout",
     "output_type": "stream",
     "text": [
      "['not_recom', 'recommend', 'very_recom', 'priority', 'spec_prior']\n",
      "[4320, 2, 328, 4266, 4044]\n"
     ]
    },
    {
     "data": {
      "text/plain": [
       "<matplotlib.axes._subplots.AxesSubplot at 0x1a27107320>"
      ]
     },
     "execution_count": 145,
     "metadata": {},
     "output_type": "execute_result"
    },
    {
     "data": {
      "image/png": "[encoded data removed]",
      "text/plain": [
       "<Figure size 576x432 with 1 Axes>"
      ]
     },
     "metadata": {},
     "output_type": "display_data"
    }
   ],
   "source": [
    "loading_data = load_arff('data/comparison/nursery_12960.arff')\n",
    "print(loading_data.target_names)\n",
    "\n",
    "result = [0, 0, 0, 0, 0]\n",
    "for target in loading_data.target:\n",
    "    result[int(target)] += 1\n",
    "\n",
    "print(result)\n",
    "\n",
    "sns.set(rc={'figure.figsize':(8, 6)})\n",
    "sns.barplot(['not_recom', 'recommend', 'very_recom', 'priority', 'spec_prior'], result, palette=\"BuGn_d\")"
   ]
  },
  {
   "cell_type": "code",
   "execution_count": null,
   "metadata": {},
   "outputs": [],
   "source": [
    "sns.set(rc={'figure.figsize':(12, 9)})"
   ]
  }
 ],
 "metadata": {
  "kernelspec": {
   "display_name": "Python 3",
   "language": "python",
   "name": "python3"
  },
  "language_info": {
   "codemirror_mode": {
    "name": "ipython",
    "version": 3
   },
   "file_extension": ".py",
   "mimetype": "text/x-python",
   "name": "python",
   "nbconvert_exporter": "python",
   "pygments_lexer": "ipython3",
   "version": "3.6.5"
  }
 },
 "nbformat": 4,
 "nbformat_minor": 2
}
