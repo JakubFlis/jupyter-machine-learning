{
 "cells": [
  {
   "cell_type": "markdown",
   "metadata": {},
   "source": [
    "### Entropy metric\n",
    "<img src=\"img/aic.png\">\n",
    "\n",
    "#### Dependencies\n",
    "```sh\n",
    "pip install liac-arff\n",
    "```"
   ]
  },
  {
   "cell_type": "code",
   "execution_count": 1,
   "metadata": {
    "collapsed": true
   },
   "outputs": [],
   "source": [
    "import math"
   ]
  },
  {
   "cell_type": "code",
   "execution_count": 2,
   "metadata": {
    "collapsed": true
   },
   "outputs": [],
   "source": [
    "class EntropyMetric(object):\n",
    "    \"\"\"Entropy metric H(Bs, D) module (Bs - Bayes net, D - test data set)\"\"\"\n",
    "    def __init__(self):\n",
    "        # Liczba probek testowych w D\n",
    "        self.N = 3\n",
    "        # self.N = len(D)\n",
    "        # Testowa siec Bs, X0 -> X1\n",
    "        self.Bs = [{'r': 3, 'q': 1, 'name': 'X0', 'parent': ''}, {'r': 3, 'q': 3, 'name': 'X1', 'parent': 'X0'}] \n",
    "        # Dane testowe\n",
    "        self.D = [ {'X0': 1, 'X1': 1}, {'X0': 1, 'X1': 1}, {'X0': 2, 'X1': 1} ]\n",
    "        \n",
    "    '''node_state = k, parent_state = j, node index = i'''\n",
    "    def check_occurences(self, node_name, parent_name, node_state, parent_state):\n",
    "        #print(\"FOR \", node_name, \"=\", node_state, \" \", parent_name, \"=\", parent_state)\n",
    "        result = 0\n",
    "        # brak parenta\n",
    "        if (parent_name == ''):\n",
    "            return result\n",
    "\n",
    "        for i, p in enumerate(self.D):\n",
    "            found_node_state = p[node_name]\n",
    "            found_parent_state = p[parent_name]\n",
    "            is_found = (found_node_state == node_state and found_parent_state == parent_state)\n",
    "            #print(p, is_found)\n",
    "            if (is_found):\n",
    "                result += 1\n",
    "\n",
    "        return result\n",
    "\n",
    "    '''parent_state = j'''\n",
    "    def check_parent_occurences(self, parent_name, parent_state):\n",
    "        #print(\"FOR parent \", parent_name, \"=\", parent_state)\n",
    "        result = 0\n",
    "        # brak parenta\n",
    "        if (parent_name == ''):\n",
    "            return result\n",
    "\n",
    "        for i, p in enumerate(self.D):\n",
    "            if (p[parent_name] == parent_state):\n",
    "                #print(\"found!\")\n",
    "                result += 1\n",
    "\n",
    "        return result\n",
    "    \n",
    "    def compute_entropy_metric(self):\n",
    "        # Pierwsza iteracja (póki co ręcznie)\n",
    "        result = 0\n",
    "\n",
    "        for i in range(0, len(self.Bs)):\n",
    "            r_i = self.Bs[i - 1]['r'] #r(i), czyli tak naprawdę r(i - 1)\n",
    "            q_i = self.Bs[i - 1]['q'] #q(i), czyli tak naprawdę q(i - 1)\n",
    "            \n",
    "            for j in range(1, q_i + 1):\n",
    "                for k in range(1, r_i + 1):\n",
    "                    N_i_j_k = self.check_occurences(self.Bs[i]['name'], self.Bs[i]['parent'], k, j)\n",
    "                    N_i_j = self.check_parent_occurences(self.Bs[i]['parent'], j)\n",
    "\n",
    "                    if (N_i_j_k != 0 and N_i_j != 0):\n",
    "                        result += (N_i_j_k / self.N) * math.log10(N_i_j_k / N_i_j)\n",
    "                        \n",
    "        return -1 * self.N * result"
   ]
  },
  {
   "cell_type": "markdown",
   "metadata": {},
   "source": [
    "------\n",
    "\n",
    "### K2 algorithm"
   ]
  },
  {
   "cell_type": "code",
   "execution_count": null,
   "metadata": {
    "collapsed": true
   },
   "outputs": [],
   "source": [
    "class K2Algorithm(object):\n",
    "    def __init__(self, D, scoring_method):\n",
    "        # D - test data\n",
    "        self.D = D\n",
    "        self.scoring_method = scoring_method\n",
    "        \n",
    "    def find_optimal_net(self):\n",
    "        return \"found\""
   ]
  },
  {
   "cell_type": "markdown",
   "metadata": {},
   "source": [
    "------\n",
    "\n",
    "### ARFF file loading"
   ]
  },
  {
   "cell_type": "code",
   "execution_count": 13,
   "metadata": {},
   "outputs": [
    {
     "name": "stdout",
     "output_type": "stream",
     "text": [
      "Class argument: \n",
      "{'name': 'play', 'states': ['yes', 'no']}\n"
     ]
    }
   ],
   "source": [
    "import arff\n",
    "import pprint\n",
    "\n",
    "pp = pprint.PrettyPrinter(depth=6)\n",
    "\n",
    "with open('data/weather.arff') as fh:\n",
    "    data = arff.load(fh)\n",
    "    \n",
    "    attributes = []\n",
    "    for i, p in enumerate(data['attributes']):\n",
    "        attributes.append({'name': p[0], 'states': p[1]})\n",
    "    \n",
    "    sample_data = []\n",
    "    for i, p in enumerate(data['data']):\n",
    "        temp_dict = []\n",
    "        for j, d in enumerate(p):\n",
    "            temp_dict.append({attributes[j]['name']: d})\n",
    "        sample_data.append(temp_dict)\n",
    "        \n",
    "    index_of_class_attribute = 4\n",
    "    print(\"Class argument: \")\n",
    "    pp.pprint(attributes[index_of_class_attribute])"
   ]
  },
  {
   "cell_type": "code",
   "execution_count": 14,
   "metadata": {},
   "outputs": [
    {
     "name": "stdout",
     "output_type": "stream",
     "text": [
      "[{'name': 'play', 'states': ['yes', 'no']},\n",
      " {'name': 'outlook', 'states': ['sunny', 'overcast', 'rainy']},\n",
      " {'name': 'temperature', 'states': ['hot', 'mild', 'cool']},\n",
      " {'name': 'humidity', 'states': ['high', 'normal']},\n",
      " {'name': 'windy', 'states': ['TRUE', 'FALSE']}]\n"
     ]
    }
   ],
   "source": [
    "    final_attributes = []\n",
    "    final_attributes.append(attributes[index_of_class_attribute])\n",
    "    \n",
    "    for i, p in enumerate(attributes):\n",
    "        if i != index_of_class_attribute:\n",
    "            final_attributes.append(p)\n",
    "    \n",
    "    pp.pprint(final_attributes)\n",
    "    # self.Bs = [{'r': 3, 'q': 1, 'name': 'play', 'parent': ''}, {'r': 3, 'q': 3, 'name': 'X1', 'parent': 'X0'}] "
   ]
  },
  {
   "cell_type": "markdown",
   "metadata": {},
   "source": [
    "-----\n",
    "### Main algorithm"
   ]
  }
 ],
 "metadata": {
  "kernelspec": {
   "display_name": "Python 3",
   "language": "python",
   "name": "python3"
  },
  "language_info": {
   "codemirror_mode": {
    "name": "ipython",
    "version": 3
   },
   "file_extension": ".py",
   "mimetype": "text/x-python",
   "name": "python",
   "nbconvert_exporter": "python",
   "pygments_lexer": "ipython3",
   "version": "3.6.3"
  }
 },
 "nbformat": 4,
 "nbformat_minor": 2
}
