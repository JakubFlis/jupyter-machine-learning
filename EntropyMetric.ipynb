{
 "cells": [
  {
   "cell_type": "markdown",
   "metadata": {},
   "source": [
    "#### Wymagane zależności\n",
    "```sh\n",
    "pip install liac-arff\n",
    "pip install graphviz\n",
    "```\n",
    "Python 3"
   ]
  },
  {
   "cell_type": "code",
   "execution_count": 16,
   "metadata": {},
   "outputs": [],
   "source": [
    "import math\n",
    "import graphviz"
   ]
  },
  {
   "cell_type": "markdown",
   "metadata": {},
   "source": [
    "### Entropia\n",
    "<img src=\"img/h.png\" style=\"height: 60px\">\n"
   ]
  },
  {
   "cell_type": "code",
   "execution_count": 17,
   "metadata": {},
   "outputs": [],
   "source": [
    "class EntropyMetric(object):\n",
    "    \"\"\"Entropy metric H(Bs, D) module (Bs - Bayes net, D - test data set)\"\"\"\n",
    "    def __init__(self, Bs, D):\n",
    "        # Liczba probek testowych w D\n",
    "        self.N = len(D)\n",
    "        # Siec Bs\n",
    "        self.Bs = Bs\n",
    "        # Dane testowe\n",
    "        self.D = D\n",
    "        \n",
    "    def check_occurences(self, node_name, parent_name, node_state, parent_state):\n",
    "        result = 0\n",
    "        \n",
    "        for i, p in enumerate(self.D):\n",
    "            found_node_state = p[node_name]\n",
    "            \n",
    "            if (parent_name != ''):\n",
    "                found_parent_state = p[parent_name]\n",
    "                is_found = (found_node_state == node_state and found_parent_state == parent_state)\n",
    "\n",
    "                if (is_found):\n",
    "                    result += 1\n",
    "            else:\n",
    "                if (found_node_state == node_state):\n",
    "                    result += 1\n",
    "\n",
    "        return result\n",
    "\n",
    "    def check_parent_occurences(self, parent_name, parent_state):\n",
    "        result = 0\n",
    "        # brak rodzica - przyjmuje się, że wynikiem jest liczba próbek (czyli N)\n",
    "        if (parent_name == ''):\n",
    "            return self.N\n",
    "\n",
    "        for i, p in enumerate(self.D):\n",
    "            if (p[parent_name] == parent_state):\n",
    "                result += 1\n",
    "\n",
    "        return result\n",
    "    \n",
    "    def compute_entropy_metric(self):\n",
    "        result = 0\n",
    "        \n",
    "        for i in range(0, len(self.Bs)):\n",
    "            r_i = self.Bs[i]['r']\n",
    "            q_i = self.Bs[i]['q']\n",
    "\n",
    "            for j in range(0, len(q_i)):\n",
    "                for k in range(0, len(r_i)):\n",
    "                    N_i_j_k = self.check_occurences(self.Bs[i]['name'], self.Bs[i]['parent'], r_i[k], q_i[j])\n",
    "                    N_i_j = self.check_parent_occurences(self.Bs[i]['parent'], q_i[j])\n",
    "\n",
    "                    if (N_i_j_k != 0 and N_i_j != 0):\n",
    "                        result += (N_i_j_k / self.N) * math.log10(N_i_j_k / N_i_j)\n",
    "                        \n",
    "        return -1 * self.N * result"
   ]
  },
  {
   "cell_type": "markdown",
   "metadata": {},
   "source": [
    "### Metryka AIC \n",
    "<img src=\"img/qaic.png\">\n",
    "<img src=\"img/k.png\">"
   ]
  },
  {
   "cell_type": "code",
   "execution_count": 18,
   "metadata": {},
   "outputs": [],
   "source": [
    "class AICMetric(object):\n",
    "    def compute_aic_metric(self, Bs, D):\n",
    "        return EntropyMetric(Bs, D).compute_entropy_metric() + self.compute_k_factor(Bs)\n",
    "    \n",
    "    def compute_k_factor(self, Bs):\n",
    "        k_factor = 0\n",
    "        for i, p in enumerate(Bs):\n",
    "            k_factor += (len(p['r']) - 1) * len(p['q'])\n",
    "        \n",
    "        return k_factor"
   ]
  },
  {
   "cell_type": "markdown",
   "metadata": {},
   "source": [
    "### Metryka MDL (minimum description length)\n",
    "<img src=\"img/mdl.png\" style=\"height: 60px\"> <br/>\n",
    "<img src=\"img/k.png\" style=\"height: 60px\">"
   ]
  },
  {
   "cell_type": "code",
   "execution_count": 19,
   "metadata": {},
   "outputs": [],
   "source": [
    "class MDLMetric(object):\n",
    "    def compute_mdl_metric(self, Bs, D):\n",
    "        return EntropyMetric(Bs, D).compute_entropy_metric() + (self.compute_k_factor(Bs) / 2) * math.log10(len(D))\n",
    "    \n",
    "    def compute_k_factor(self, Bs):\n",
    "        k_factor = 0\n",
    "        for i, p in enumerate(Bs):\n",
    "            k_factor += (len(p['r']) - 1) * len(p['q'])\n",
    "        \n",
    "        return k_factor"
   ]
  },
  {
   "cell_type": "markdown",
   "metadata": {},
   "source": [
    "------\n",
    "\n",
    "### Algorytm K2"
   ]
  },
  {
   "cell_type": "code",
   "execution_count": 20,
   "metadata": {},
   "outputs": [],
   "source": [
    "class K2Algorithm(object):\n",
    "    def __init__(self, attributes, test_data, scoring_method):\n",
    "        self.test_data = test_data\n",
    "        self.scoring_method = scoring_method\n",
    "        self.attributes = attributes\n",
    "        \n",
    "    def find_optimal_net(self):\n",
    "        Bs = []\n",
    "        biggest_metric = 0\n",
    "        \n",
    "        for i, attribute in enumerate(final_attributes):\n",
    "            number_of_parents = 0\n",
    "            # Do sieci dodawany jest pierwszy argument - klasa\n",
    "            if (i == 0):\n",
    "                Bs.append({'r': attribute['states'], 'q': ['parent'], 'name': attribute['name'], 'parent': ''})\n",
    "                continue\n",
    "\n",
    "            # Poszukujemy polaczenia z najwiekszym wynikiem miary sieci\n",
    "            biggest_metric_parent_index = -1\n",
    "            \n",
    "            for j, parent in enumerate(Bs):\n",
    "                appended_Bs = Bs.copy()\n",
    "                appended_Bs.append({'r': attribute['states'], 'q': parent['r'], 'name': attribute['name'], 'parent': parent['name']})\n",
    "                \n",
    "                if self.scoring_method == 'aic':\n",
    "                    metric_value = AICMetric().compute_aic_metric(appended_Bs, sample_data)\n",
    "                elif self.scoring_method == 'mdl':\n",
    "                    metric_value = MDLMetric().compute_mdl_metric(appended_Bs, sample_data)\n",
    "                \n",
    "                if (metric_value > biggest_metric):\n",
    "                    biggest_metric_parent_index = j\n",
    "                    biggest_metric = metric_value\n",
    "        \n",
    "            if (biggest_metric_parent_index) != -1:\n",
    "                Bs.append({'r': attribute['states'], 'q': Bs[biggest_metric_parent_index]['r'], 'name': attribute['name'], 'parent': Bs[biggest_metric_parent_index]['name']})\n",
    "        \n",
    "        print(self.scoring_method.upper(), \"metric:\", biggest_metric)\n",
    "        \n",
    "        return Bs"
   ]
  },
  {
   "cell_type": "markdown",
   "metadata": {},
   "source": [
    "------\n",
    "\n",
    "### Ładowanie pliku ARFF"
   ]
  },
  {
   "cell_type": "code",
   "execution_count": 21,
   "metadata": {},
   "outputs": [
    {
     "name": "stdout",
     "output_type": "stream",
     "text": [
      "[{'name': 'outlook', 'states': ['sunny', 'overcast', 'rainy']},\n",
      " {'name': 'temperature', 'states': ['hot', 'mild', 'cool']},\n",
      " {'name': 'humidity', 'states': ['high', 'normal']},\n",
      " {'name': 'windy', 'states': ['TRUE', 'FALSE']},\n",
      " {'name': 'play', 'states': ['yes', 'no']}]\n"
     ]
    }
   ],
   "source": [
    "import arff\n",
    "import pprint\n",
    "\n",
    "pp = pprint.PrettyPrinter(depth=6)\n",
    "\n",
    "with open('data/weather.arff') as fh:\n",
    "    data = arff.load(fh)\n",
    "    \n",
    "    attributes = []\n",
    "    for i, p in enumerate(data['attributes']):\n",
    "        attributes.append({'name': p[0], 'states': p[1]})\n",
    "    \n",
    "    sample_data = []\n",
    "    for i, p in enumerate(data['data']):\n",
    "        temp_dict = {}\n",
    "        for j, d in enumerate(p):\n",
    "            temp_dict.update({attributes[j]['name']: d})\n",
    "        sample_data.append(temp_dict)\n",
    "    \n",
    "    pp.pprint(attributes)"
   ]
  },
  {
   "cell_type": "markdown",
   "metadata": {},
   "source": [
    "------\n",
    "\n",
    "### Wybór argumentu - klasy"
   ]
  },
  {
   "cell_type": "code",
   "execution_count": 22,
   "metadata": {},
   "outputs": [
    {
     "name": "stdout",
     "output_type": "stream",
     "text": [
      "Class argument: \n",
      "{'name': 'play', 'states': ['yes', 'no']}\n"
     ]
    }
   ],
   "source": [
    "    index_of_class_attribute = 4\n",
    "    print(\"Class argument: \")\n",
    "    pp.pprint(attributes[index_of_class_attribute])\n",
    "    \n",
    "    final_attributes = []\n",
    "    final_attributes.append(attributes[index_of_class_attribute])\n",
    "    \n",
    "    for i, p in enumerate(attributes):\n",
    "        if i != index_of_class_attribute:\n",
    "            final_attributes.append(p)"
   ]
  },
  {
   "cell_type": "markdown",
   "metadata": {},
   "source": [
    "-----\n",
    "### Główne wywołanie algorytmu i rysowanie grafu"
   ]
  },
  {
   "cell_type": "code",
   "execution_count": 23,
   "metadata": {},
   "outputs": [
    {
     "name": "stdout",
     "output_type": "stream",
     "text": [
      "AIC metric: 40.38298633249521\n"
     ]
    },
    {
     "data": {
      "image/svg+xml": [
       "<?xml version=\"1.0\" encoding=\"UTF-8\" standalone=\"no\"?>\n",
       "<!DOCTYPE svg PUBLIC \"-//W3C//DTD SVG 1.1//EN\"\n",
       " \"http://www.w3.org/Graphics/SVG/1.1/DTD/svg11.dtd\">\n",
       "<!-- Generated by graphviz version 2.40.1 (20161225.0304)\n",
       " -->\n",
       "<!-- Title: %3 Pages: 1 -->\n",
       "<svg width=\"257pt\" height=\"188pt\"\n",
       " viewBox=\"0.00 0.00 257.49 188.00\" xmlns=\"http://www.w3.org/2000/svg\" xmlns:xlink=\"http://www.w3.org/1999/xlink\">\n",
       "<g id=\"graph0\" class=\"graph\" transform=\"scale(1 1) rotate(0) translate(4 184)\">\n",
       "<title>%3</title>\n",
       "<polygon fill=\"#ffffff\" stroke=\"transparent\" points=\"-4,4 -4,-184 253.4937,-184 253.4937,4 -4,4\"/>\n",
       "<!-- play -->\n",
       "<g id=\"node1\" class=\"node\">\n",
       "<title>play</title>\n",
       "<ellipse fill=\"none\" stroke=\"#000000\" cx=\"140.5461\" cy=\"-162\" rx=\"27\" ry=\"18\"/>\n",
       "<text text-anchor=\"middle\" x=\"140.5461\" y=\"-158.3\" font-family=\"Times,serif\" font-size=\"14.00\" fill=\"#000000\">play</text>\n",
       "</g>\n",
       "<!-- outlook -->\n",
       "<g id=\"node2\" class=\"node\">\n",
       "<title>outlook</title>\n",
       "<ellipse fill=\"none\" stroke=\"#000000\" cx=\"140.5461\" cy=\"-90\" rx=\"31.6951\" ry=\"18\"/>\n",
       "<text text-anchor=\"middle\" x=\"140.5461\" y=\"-86.3\" font-family=\"Times,serif\" font-size=\"14.00\" fill=\"#000000\">outlook</text>\n",
       "</g>\n",
       "<!-- play&#45;&gt;outlook -->\n",
       "<g id=\"edge1\" class=\"edge\">\n",
       "<title>play&#45;&gt;outlook</title>\n",
       "<path fill=\"none\" stroke=\"#000000\" d=\"M140.5461,-143.8314C140.5461,-136.131 140.5461,-126.9743 140.5461,-118.4166\"/>\n",
       "<polygon fill=\"#000000\" stroke=\"#000000\" points=\"144.0462,-118.4132 140.5461,-108.4133 137.0462,-118.4133 144.0462,-118.4132\"/>\n",
       "</g>\n",
       "<!-- temperature -->\n",
       "<g id=\"node3\" class=\"node\">\n",
       "<title>temperature</title>\n",
       "<ellipse fill=\"none\" stroke=\"#000000\" cx=\"43.5461\" cy=\"-18\" rx=\"43.5923\" ry=\"18\"/>\n",
       "<text text-anchor=\"middle\" x=\"43.5461\" y=\"-14.3\" font-family=\"Times,serif\" font-size=\"14.00\" fill=\"#000000\">temperature</text>\n",
       "</g>\n",
       "<!-- outlook&#45;&gt;temperature -->\n",
       "<g id=\"edge2\" class=\"edge\">\n",
       "<title>outlook&#45;&gt;temperature</title>\n",
       "<path fill=\"none\" stroke=\"#000000\" d=\"M120.9167,-75.4297C107.1843,-65.2366 88.5967,-51.4396 73.0822,-39.9236\"/>\n",
       "<polygon fill=\"#000000\" stroke=\"#000000\" points=\"74.9453,-36.9478 64.8294,-33.7979 70.7731,-42.5686 74.9453,-36.9478\"/>\n",
       "</g>\n",
       "<!-- humidity -->\n",
       "<g id=\"node4\" class=\"node\">\n",
       "<title>humidity</title>\n",
       "<ellipse fill=\"none\" stroke=\"#000000\" cx=\"140.5461\" cy=\"-18\" rx=\"35.194\" ry=\"18\"/>\n",
       "<text text-anchor=\"middle\" x=\"140.5461\" y=\"-14.3\" font-family=\"Times,serif\" font-size=\"14.00\" fill=\"#000000\">humidity</text>\n",
       "</g>\n",
       "<!-- outlook&#45;&gt;humidity -->\n",
       "<g id=\"edge3\" class=\"edge\">\n",
       "<title>outlook&#45;&gt;humidity</title>\n",
       "<path fill=\"none\" stroke=\"#000000\" d=\"M140.5461,-71.8314C140.5461,-64.131 140.5461,-54.9743 140.5461,-46.4166\"/>\n",
       "<polygon fill=\"#000000\" stroke=\"#000000\" points=\"144.0462,-46.4132 140.5461,-36.4133 137.0462,-46.4133 144.0462,-46.4132\"/>\n",
       "</g>\n",
       "<!-- windy -->\n",
       "<g id=\"node5\" class=\"node\">\n",
       "<title>windy</title>\n",
       "<ellipse fill=\"none\" stroke=\"#000000\" cx=\"221.5461\" cy=\"-18\" rx=\"27.8951\" ry=\"18\"/>\n",
       "<text text-anchor=\"middle\" x=\"221.5461\" y=\"-14.3\" font-family=\"Times,serif\" font-size=\"14.00\" fill=\"#000000\">windy</text>\n",
       "</g>\n",
       "<!-- outlook&#45;&gt;windy -->\n",
       "<g id=\"edge4\" class=\"edge\">\n",
       "<title>outlook&#45;&gt;windy</title>\n",
       "<path fill=\"none\" stroke=\"#000000\" d=\"M157.7242,-74.7307C169.2614,-64.4754 184.6289,-50.8153 197.3932,-39.4693\"/>\n",
       "<polygon fill=\"#000000\" stroke=\"#000000\" points=\"199.798,-42.0145 204.9469,-32.7549 195.1475,-36.7826 199.798,-42.0145\"/>\n",
       "</g>\n",
       "</g>\n",
       "</svg>\n"
      ],
      "text/plain": [
       "<graphviz.dot.Digraph at 0x103f3afd0>"
      ]
     },
     "execution_count": 23,
     "metadata": {},
     "output_type": "execute_result"
    }
   ],
   "source": [
    "# Metody oceny sieci: 'aic' lub 'mdl'\n",
    "bayesian_network = K2Algorithm(final_attributes, sample_data, 'aic').find_optimal_net()\n",
    "\n",
    "graph = graphviz.Digraph()\n",
    "\n",
    "for i, p in enumerate(bayesian_network):\n",
    "    if i == 0:\n",
    "        continue\n",
    "    graph.edge(p['parent'], p['name'])\n",
    "graph"
   ]
  },
  {
   "cell_type": "code",
   "execution_count": 24,
   "metadata": {},
   "outputs": [
    {
     "name": "stdout",
     "output_type": "stream",
     "text": [
      "{'yes': 9, 'no': 5, 'sunny': 5, 'overcast': 4, 'rainy': 5, 'hot': 4, 'mild': 6, 'cool': 4, 'high': 7, 'normal': 7, 'TRUE': 6, 'FALSE': 8}\n"
     ]
    }
   ],
   "source": [
    "probabilities = {}\n",
    "\n",
    "for argument in bayesian_network:\n",
    "    for state in argument['r']:\n",
    "        number_of_states = len(argument['r'])\n",
    "        number_of_all_samples = len(sample_data)\n",
    "        number_of_found_states = 0\n",
    "\n",
    "        for i, p in enumerate(sample_data):\n",
    "            if (p[argument['name']] == state):\n",
    "                number_of_found_states += 1\n",
    "\n",
    "        probabilities.update({state: number_of_found_states})\n",
    "\n",
    "print(probabilities)"
   ]
  }
 ],
 "metadata": {
  "kernelspec": {
   "display_name": "Python 3",
   "language": "python",
   "name": "python3"
  },
  "language_info": {
   "codemirror_mode": {
    "name": "ipython",
    "version": 3
   },
   "file_extension": ".py",
   "mimetype": "text/x-python",
   "name": "python",
   "nbconvert_exporter": "python",
   "pygments_lexer": "ipython3",
   "version": "3.6.3"
  }
 },
 "nbformat": 4,
 "nbformat_minor": 2
}
