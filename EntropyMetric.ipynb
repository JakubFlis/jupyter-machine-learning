{
 "cells": [
  {
   "cell_type": "markdown",
   "metadata": {},
   "source": [
    "### Entropy metric\n",
    "<img src=\"img/aic.png\">\n",
    "\n",
    "#### Dependencies\n",
    "```sh\n",
    "pip install liac-arff\n",
    "```"
   ]
  },
  {
   "cell_type": "code",
   "execution_count": 2,
   "metadata": {
    "collapsed": true
   },
   "outputs": [],
   "source": [
    "import math"
   ]
  },
  {
   "cell_type": "code",
   "execution_count": 151,
   "metadata": {},
   "outputs": [],
   "source": [
    "class EntropyMetric(object):\n",
    "    \"\"\"Entropy metric H(Bs, D) module (Bs - Bayes net, D - test data set)\"\"\"\n",
    "    def __init__(self, Bs, D):\n",
    "        # Liczba probek testowych w D\n",
    "        self.N = len(D)\n",
    "        # Siec Bs\n",
    "        self.Bs = Bs\n",
    "        # Dane testowe\n",
    "        self.D = D\n",
    "        \n",
    "    def check_occurences(self, node_name, parent_name, node_state, parent_state):\n",
    "        result = 0\n",
    "        \n",
    "        #print(\"FOR \", node_name, \"=\", node_state, \" \", parent_name, \"=\", parent_state)\n",
    "        for i, p in enumerate(self.D):\n",
    "            found_node_state = p[node_name]\n",
    "            \n",
    "            if (parent_name != ''):\n",
    "                found_parent_state = p[parent_name]\n",
    "                is_found = (found_node_state == node_state and found_parent_state == parent_state)\n",
    "                #print(p, is_found)\n",
    "                if (is_found):\n",
    "                    result += 1\n",
    "            else:\n",
    "                if (found_node_state == node_state):\n",
    "                    result += 1\n",
    "\n",
    "        return result\n",
    "\n",
    "    def check_parent_occurences(self, parent_name, parent_state):\n",
    "        result = 0\n",
    "        # brak rodzica - przyjmuje się, że wynikiem jest liczba próbek (czyli N)\n",
    "        if (parent_name == ''):\n",
    "            return self.N\n",
    "\n",
    "        for i, p in enumerate(self.D):\n",
    "            if (p[parent_name] == parent_state):\n",
    "                result += 1\n",
    "\n",
    "        return result\n",
    "    \n",
    "    def compute_entropy_metric(self):\n",
    "        result = 0\n",
    "        for i in range(0, len(self.Bs)):\n",
    "            r_i = self.Bs[i]['r']\n",
    "            q_i = self.Bs[i]['q']\n",
    "            \n",
    "            for j in range(0, len(q_i)):\n",
    "                for k in range(0, len(r_i)):\n",
    "                    N_i_j_k = self.check_occurences(self.Bs[i]['name'], self.Bs[i]['parent'], r_i[k], q_i[j])\n",
    "                    N_i_j = self.check_parent_occurences(self.Bs[i]['parent'], q_i[j])\n",
    "                    \n",
    "                    if (N_i_j_k != 0 and N_i_j != 0):\n",
    "                        result += (N_i_j_k / self.N) * math.log10(N_i_j_k / N_i_j)\n",
    "                        \n",
    "        return -1 * self.N * result"
   ]
  },
  {
   "cell_type": "markdown",
   "metadata": {},
   "source": [
    "------\n",
    "\n",
    "### K2 algorithm class"
   ]
  },
  {
   "cell_type": "code",
   "execution_count": 150,
   "metadata": {
    "collapsed": true
   },
   "outputs": [],
   "source": [
    "class K2Algorithm(object):\n",
    "    def __init__(self, D, scoring_method):\n",
    "        # D - test data\n",
    "        self.D = D\n",
    "        self.scoring_method = scoring_method\n",
    "        \n",
    "    def find_optimal_net(self):\n",
    "        return \"found\""
   ]
  },
  {
   "cell_type": "markdown",
   "metadata": {},
   "source": [
    "------\n",
    "\n",
    "### ARFF file loading"
   ]
  },
  {
   "cell_type": "code",
   "execution_count": 149,
   "metadata": {},
   "outputs": [],
   "source": [
    "import arff\n",
    "import pprint\n",
    "\n",
    "pp = pprint.PrettyPrinter(depth=6)\n",
    "\n",
    "with open('data/weather.arff') as fh:\n",
    "    data = arff.load(fh)\n",
    "    \n",
    "    attributes = []\n",
    "    for i, p in enumerate(data['attributes']):\n",
    "        attributes.append({'name': p[0], 'states': p[1]})\n",
    "    \n",
    "    sample_data = []\n",
    "    for i, p in enumerate(data['data']):\n",
    "        temp_dict = {}\n",
    "        for j, d in enumerate(p):\n",
    "            temp_dict.update({attributes[j]['name']: d})\n",
    "        sample_data.append(temp_dict)"
   ]
  },
  {
   "cell_type": "markdown",
   "metadata": {},
   "source": [
    "------\n",
    "\n",
    "### Class argument choice"
   ]
  },
  {
   "cell_type": "code",
   "execution_count": 152,
   "metadata": {},
   "outputs": [
    {
     "name": "stdout",
     "output_type": "stream",
     "text": [
      "Class argument: \n",
      "{'name': 'play', 'states': ['yes', 'no']}\n",
      "\n",
      "All arguments: \n",
      "[{'name': 'play', 'states': ['yes', 'no']},\n",
      " {'name': 'outlook', 'states': ['sunny', 'overcast', 'rainy']},\n",
      " {'name': 'temperature', 'states': ['hot', 'mild', 'cool']},\n",
      " {'name': 'humidity', 'states': ['high', 'normal']},\n",
      " {'name': 'windy', 'states': ['TRUE', 'FALSE']}]\n"
     ]
    }
   ],
   "source": [
    "    index_of_class_attribute = 4\n",
    "    print(\"Class argument: \")\n",
    "    pp.pprint(attributes[index_of_class_attribute])\n",
    "    \n",
    "    final_attributes = []\n",
    "    final_attributes.append(attributes[index_of_class_attribute])\n",
    "    \n",
    "    for i, p in enumerate(attributes):\n",
    "        if i != index_of_class_attribute:\n",
    "            final_attributes.append(p)\n",
    "    \n",
    "    print(\"\\nAll arguments: \")\n",
    "    pp.pprint(final_attributes)"
   ]
  },
  {
   "cell_type": "markdown",
   "metadata": {},
   "source": [
    "-----\n",
    "### Main algorithm"
   ]
  },
  {
   "cell_type": "code",
   "execution_count": 153,
   "metadata": {},
   "outputs": [
    {
     "name": "stdout",
     "output_type": "stream",
     "text": [
      "Entropy metric: 9.570705023209584\n"
     ]
    }
   ],
   "source": [
    "    Bs = []\n",
    "    Bs.append({'r': final_attributes[0]['states'], 'q': ['parent'], 'name': final_attributes[0]['name'], 'parent': ''})\n",
    "    Bs.append({'r': final_attributes[1]['states'], 'q': final_attributes[0]['states'], 'name': final_attributes[1]['name'], 'parent': final_attributes[0]['name']})\n",
    "\n",
    "    print(\"Entropy metric:\", EntropyMetric(Bs, sample_data).compute_entropy_metric())"
   ]
  }
 ],
 "metadata": {
  "kernelspec": {
   "display_name": "Python 3",
   "language": "python",
   "name": "python3"
  },
  "language_info": {
   "codemirror_mode": {
    "name": "ipython",
    "version": 3
   },
   "file_extension": ".py",
   "mimetype": "text/x-python",
   "name": "python",
   "nbconvert_exporter": "python",
   "pygments_lexer": "ipython3",
   "version": "3.6.3"
  }
 },
 "nbformat": 4,
 "nbformat_minor": 2
}
