{
 "cells": [
  {
   "cell_type": "markdown",
   "metadata": {},
   "source": [
    "#### Wymagane zależności\n",
    "```sh\n",
    "pip install liac-arff\n",
    "pip install graphviz\n",
    "```\n",
    "Python 3"
   ]
  },
  {
   "cell_type": "code",
   "execution_count": null,
   "metadata": {},
   "outputs": [],
   "source": [
    "import math\n",
    "import graphviz\n",
    "import math\n",
    "import copy\n",
    "import sys"
   ]
  },
  {
   "cell_type": "markdown",
   "metadata": {},
   "source": [
    "### Entropia\n",
    "<img src=\"img/h.png\" style=\"height: 100px\">\n"
   ]
  },
  {
   "cell_type": "code",
   "execution_count": null,
   "metadata": {},
   "outputs": [],
   "source": [
    "class EntropyMetric(object):\n",
    "    \"\"\"Entropy metric H(Bs, D) module (Bs - Bayes net, D - test data set)\"\"\"\n",
    "    def __init__(self, Bs, D):\n",
    "        self.N = len(D)\n",
    "        self.Bs = Bs\n",
    "        self.D = D\n",
    "        \n",
    "    def check_occurences(self, node_name, parent_name, node_state, parent_state):\n",
    "        result = 0\n",
    "        \n",
    "        for i, p in enumerate(self.D):\n",
    "            found_node_state = p[node_name]\n",
    "            \n",
    "            if (parent_name != ''):\n",
    "                found_parent_state = p[parent_name]\n",
    "                is_found = (found_node_state == node_state and found_parent_state == parent_state)\n",
    "\n",
    "                if (is_found):\n",
    "                    result += 1\n",
    "            else:\n",
    "                if (found_node_state == node_state):\n",
    "                    result += 1\n",
    "\n",
    "        return result\n",
    "\n",
    "    def check_parent_occurences(self, parent_name, parent_state):\n",
    "        result = 0\n",
    "        # brak rodzica - przyjmuje się, że wynikiem jest liczba próbek (czyli N)\n",
    "        if (parent_name == ''):\n",
    "            return self.N\n",
    "\n",
    "        for i, p in enumerate(self.D):\n",
    "            if (p[parent_name] == parent_state):\n",
    "                result += 1\n",
    "\n",
    "        return result\n",
    "    \n",
    "    def compute_entropy_metric(self):\n",
    "        result = 0\n",
    "        \n",
    "        for i in range(0, len(self.Bs)):\n",
    "            r_i = self.Bs[i]['r']\n",
    "            q_i = self.Bs[i]['q']\n",
    "\n",
    "            for j in range(0, len(q_i)):\n",
    "                for k in range(0, len(r_i)):\n",
    "                    N_i_j_k = self.check_occurences(self.Bs[i]['name'], self.Bs[i]['parent'], r_i[k], q_i[j])\n",
    "                    N_i_j = self.check_parent_occurences(self.Bs[i]['parent'], q_i[j])\n",
    "\n",
    "                    if (N_i_j_k != 0 and N_i_j != 0):\n",
    "                        result += (N_i_j_k / self.N) * math.log10(N_i_j_k / N_i_j)\n",
    "                        \n",
    "        return -1 * self.N * result"
   ]
  },
  {
   "cell_type": "markdown",
   "metadata": {},
   "source": [
    "### Metryka AIC \n",
    "<img src=\"img/qaic.png\">\n",
    "<img src=\"img/k.png\">"
   ]
  },
  {
   "cell_type": "code",
   "execution_count": null,
   "metadata": {},
   "outputs": [],
   "source": [
    "class AICMetric(object):\n",
    "    def compute_aic_metric(self, Bs, D):\n",
    "        return EntropyMetric(Bs, D).compute_entropy_metric() + self.compute_k_factor(Bs)\n",
    "    \n",
    "    def compute_k_factor(self, Bs):\n",
    "        k_factor = 0\n",
    "        for i, p in enumerate(Bs):\n",
    "            k_factor += (len(p['r']) - 1) * len(p['q'])\n",
    "        \n",
    "        return k_factor"
   ]
  },
  {
   "cell_type": "markdown",
   "metadata": {},
   "source": [
    "### Metryka MDL (Minimum Description Length)\n",
    "<img src=\"img/mdl.png\" style=\"height: 60px\"> <br/>\n",
    "<img src=\"img/k.png\" style=\"height: 60px\">"
   ]
  },
  {
   "cell_type": "code",
   "execution_count": null,
   "metadata": {},
   "outputs": [],
   "source": [
    "class MDLMetric(object):\n",
    "    def compute_mdl_metric(self, Bs, D):\n",
    "        return EntropyMetric(Bs, D).compute_entropy_metric() + (self.compute_k_factor(Bs) / 2) * math.log10(len(D))\n",
    "    \n",
    "    def compute_k_factor(self, Bs):\n",
    "        k_factor = 0\n",
    "        for i, p in enumerate(Bs):\n",
    "            k_factor += (len(p['r']) - 1) * len(p['q'])\n",
    "        \n",
    "        return k_factor"
   ]
  },
  {
   "cell_type": "markdown",
   "metadata": {},
   "source": [
    "### Bayesian metric\n",
    "<img src=\"img/bayes.png\" style=\"height: 100px\">"
   ]
  },
  {
   "cell_type": "code",
   "execution_count": null,
   "metadata": {},
   "outputs": [],
   "source": [
    "class BayesianMetric(object):\n",
    "    def compute_bayesian_metric(self, Bs, D):\n",
    "        self.D = D\n",
    "        result = 1\n",
    "        \n",
    "        for node in Bs:\n",
    "            # -- Obliczanie dla węzła bez rodzica; N'ij oraz N'ijk = 1, Nij = len(D), -- #\n",
    "            # -- Nijk = wszystkie wpisy, dla których węzeł jest wstanie k -------------- #\n",
    "            if (node['parent'] == \"\"):\n",
    "                N_i_j = len(D)\n",
    "                N_prim_i_j = 1\n",
    "                N_prim_i_j_k = 1\n",
    "                result *= math.gamma(N_prim_i_j) / math.gamma(N_prim_i_j + N_i_j)\n",
    "                \n",
    "                for state in node['r']:\n",
    "                    N_i_j_k = self.check_occurences(node['name'], '', state, state)\n",
    "                    result *= math.gamma(N_prim_i_j_k + N_i_j_k) / math.gamma(N_prim_i_j_k)\n",
    "                \n",
    "                continue\n",
    "            # --------------------------------------------------------------------------- #\n",
    "                \n",
    "            N_prim_i_j = 1 / len(node['q'])\n",
    "            N_prim_i_j_k = 1 / (len(node['q'] * len(node['r'])))\n",
    "            \n",
    "            for parent_state in node['q']:\n",
    "                N_i_j = 0\n",
    "                \n",
    "                for state in node['r']:\n",
    "                    N_i_j += self.check_occurences(node['name'], node['parent'], state, parent_state)\n",
    "            \n",
    "                result *= math.gamma(N_prim_i_j) / math.gamma(N_prim_i_j + N_i_j)\n",
    "                \n",
    "                for state in node['r']:\n",
    "                    N_i_j_k = self.check_occurences(node['name'], node['parent'], state, parent_state)\n",
    "                    result *= math.gamma(N_prim_i_j_k + N_i_j_k) / math.gamma(N_prim_i_j_k)\n",
    "        \n",
    "        return result\n",
    "    \n",
    "    \n",
    "    def check_occurences(self, node_name, parent_name, node_state, parent_state):\n",
    "        result = 0\n",
    "        \n",
    "        for i, p in enumerate(self.D):\n",
    "            found_node_state = p[node_name]\n",
    "            \n",
    "            if (parent_name != ''):\n",
    "                found_parent_state = p[parent_name]\n",
    "                is_found = (found_node_state == node_state and found_parent_state == parent_state)\n",
    "\n",
    "                if (is_found):\n",
    "                    result += 1\n",
    "            else:\n",
    "                if (found_node_state == node_state):\n",
    "                    result += 1\n",
    "\n",
    "        return result\n",
    "    "
   ]
  },
  {
   "cell_type": "markdown",
   "metadata": {},
   "source": [
    "------\n",
    "\n",
    "### Algorytm K2"
   ]
  },
  {
   "cell_type": "code",
   "execution_count": null,
   "metadata": {},
   "outputs": [],
   "source": [
    "class K2Algorithm(object):\n",
    "    def __init__(self, attributes, test_data, scoring_method):\n",
    "        self.test_data = test_data\n",
    "        self.scoring_method = scoring_method\n",
    "        self.attributes = attributes\n",
    "        \n",
    "    def new_find_optimal_net(self):\n",
    "        optimal_net = []\n",
    "        \n",
    "        for i, attribute in enumerate(self.attributes):\n",
    "            parents_of_node = []\n",
    "            old_score = -sys.maxsize - 1\n",
    "            \n",
    "            # Pierwszy element w tablicy atrybutów - brak rodziców\n",
    "            if i == 0:\n",
    "                optimal_net.append({'r': attribute['states'], 'q': [''], 'name': attribute['name'], 'parent': ''})\n",
    "                old_score = self.compute_metric(optimal_net)\n",
    "                continue\n",
    "            else:\n",
    "                old_score = self.compute_metric(optimal_net)\n",
    "                       \n",
    "            parent_index_with_max_score, new_score = self.find_parent_with_max_score(i, optimal_net, attribute, old_score)\n",
    "    \n",
    "            if (new_score > old_score):\n",
    "                #print(\"New parent:\", self.attributes[parent_index_with_max_score]['name'].upper(), new_score)\n",
    "                optimal_net.append({'r': attribute['states'], 'q': self.attributes[parent_index_with_max_score]['states'], 'name': attribute['name'], 'parent': self.attributes[parent_index_with_max_score]['name']})\n",
    "            else:\n",
    "                #print(\"NO parent\")\n",
    "                optimal_net.append({'r': attribute['states'], 'q': [''], 'name': attribute['name'], 'parent': ''})\n",
    "            \n",
    "        return optimal_net\n",
    "    \n",
    "    def find_parent_with_max_score(self, i, optimal_net, attribute, old_score):\n",
    "        parent_index_with_max_score = -1\n",
    "        new_score = -sys.maxsize - 1\n",
    "        for parent_index in range(0, i):\n",
    "            net_with_parent = copy.deepcopy(optimal_net)\n",
    "            net_with_parent.append({'r': attribute['states'], 'q': self.attributes[parent_index]['states'], 'name': attribute['name'], 'parent': self.attributes[parent_index]['name']})\n",
    "\n",
    "            score = self.compute_metric(net_with_parent)\n",
    "\n",
    "            if (score > new_score):\n",
    "                new_score = score\n",
    "                parent_index_with_max_score = parent_index\n",
    "            #print(\"Current attribute\", attribute['name'], \"old_score: \", old_score, \"score_for_parent\", self.attributes[parent_index]['name'], score, \"parent_index\", parent_index, \"max_parent_index\", parent_index_with_max_score)\n",
    "        \n",
    "        return (parent_index_with_max_score, new_score)\n",
    "    \n",
    "    def compute_metric(self, net):\n",
    "        if self.scoring_method == 'aic':\n",
    "            return AICMetric().compute_aic_metric(net, self.test_data)\n",
    "        elif self.scoring_method == 'mdl':\n",
    "            return MDLMetric().compute_mdl_metric(net, self.test_data)\n",
    "        elif self.scoring_method == 'bayes':\n",
    "            return BayesianMetric().compute_bayesian_metric(net, self.test_data)\n",
    "        \n",
    "        raise ValueError(self.scoring_method + \" is not a valid scoring method!\")"
   ]
  },
  {
   "cell_type": "markdown",
   "metadata": {},
   "source": [
    "------\n",
    "\n",
    "### Ładowanie pliku ARFF"
   ]
  },
  {
   "cell_type": "code",
   "execution_count": null,
   "metadata": {},
   "outputs": [],
   "source": [
    "import arff\n",
    "import pprint\n",
    "\n",
    "pp = pprint.PrettyPrinter(depth = 6)\n",
    "\n",
    "with open('data/weather.arff') as fh:\n",
    "    data = arff.load(fh)\n",
    "    \n",
    "    attributes = []\n",
    "    for i, p in enumerate(data['attributes']):\n",
    "        attributes.append({'name': p[0], 'states': p[1]})\n",
    "    \n",
    "    sample_data = []\n",
    "    for i, p in enumerate(data['data']):\n",
    "        temp_dict = {}\n",
    "        for j, d in enumerate(p):\n",
    "            temp_dict.update({attributes[j]['name']: d})\n",
    "        sample_data.append(temp_dict)"
   ]
  },
  {
   "cell_type": "markdown",
   "metadata": {},
   "source": [
    "------\n",
    "\n",
    "### Wybór argumentu - klasy"
   ]
  },
  {
   "cell_type": "code",
   "execution_count": null,
   "metadata": {},
   "outputs": [],
   "source": [
    "    index_of_class_attribute = 4\n",
    "    print(\"Class argument: \")\n",
    "    pp.pprint(attributes[index_of_class_attribute])\n",
    "    \n",
    "    final_attributes = []\n",
    "    final_attributes.append(attributes[index_of_class_attribute])\n",
    "    \n",
    "    for i, p in enumerate(attributes):\n",
    "        if i != index_of_class_attribute:\n",
    "            final_attributes.append(p)"
   ]
  },
  {
   "cell_type": "markdown",
   "metadata": {},
   "source": [
    "-----\n",
    "### Główne wywołanie algorytmu i rysowanie grafu"
   ]
  },
  {
   "cell_type": "code",
   "execution_count": null,
   "metadata": {},
   "outputs": [],
   "source": [
    "# Metody oceny sieci: 'aic', 'mdl' lub 'bayes'\n",
    "bayesian_network = K2Algorithm(final_attributes, sample_data, 'bayes').new_find_optimal_net()\n",
    "\n",
    "graph = graphviz.Digraph('generated graph')\n",
    "for i, p in enumerate(bayesian_network):\n",
    "    if p['parent'] == \"\":\n",
    "        graph.node(p['name'] , label = p['name'])\n",
    "    else:\n",
    "        graph.edge(p['parent'], p['name'])\n",
    "graph"
   ]
  },
  {
   "cell_type": "code",
   "execution_count": null,
   "metadata": {},
   "outputs": [],
   "source": [
    "probabilities = {}\n",
    "\n",
    "for argument in bayesian_network:\n",
    "    for state in argument['r']:\n",
    "        number_of_states = len(argument['r'])\n",
    "        number_of_all_samples = len(sample_data)\n",
    "        number_of_found_states = 0\n",
    "\n",
    "        for i, p in enumerate(sample_data):\n",
    "            if (p[argument['name']] == state):\n",
    "                number_of_found_states += 1\n",
    "\n",
    "        probabilities.update({state: number_of_found_states})\n",
    "\n",
    "print(probabilities)"
   ]
  }
 ],
 "metadata": {
  "kernelspec": {
   "display_name": "Python 3",
   "language": "python",
   "name": "python3"
  },
  "language_info": {
   "codemirror_mode": {
    "name": "ipython",
    "version": 3
   },
   "file_extension": ".py",
   "mimetype": "text/x-python",
   "name": "python",
   "nbconvert_exporter": "python",
   "pygments_lexer": "ipython3",
   "version": "3.6.3"
  }
 },
 "nbformat": 4,
 "nbformat_minor": 2
}
