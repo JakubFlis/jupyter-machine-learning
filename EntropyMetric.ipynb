{
 "cells": [
  {
   "cell_type": "markdown",
   "metadata": {},
   "source": [
    "### Entropy metric\n",
    "<img src=\"img/h.png\">\n",
    "\n",
    "#### Dependencies\n",
    "```sh\n",
    "pip install liac-arff\n",
    "```"
   ]
  },
  {
   "cell_type": "code",
   "execution_count": 8,
   "metadata": {
    "collapsed": true
   },
   "outputs": [],
   "source": [
    "import math"
   ]
  },
  {
   "cell_type": "code",
   "execution_count": 20,
   "metadata": {},
   "outputs": [],
   "source": [
    "class EntropyMetric(object):\n",
    "    \"\"\"Entropy metric H(Bs, D) module (Bs - Bayes net, D - test data set)\"\"\"\n",
    "    def __init__(self, Bs, D):\n",
    "        # Liczba probek testowych w D\n",
    "        self.N = len(D)\n",
    "        # Siec Bs\n",
    "        self.Bs = Bs\n",
    "        # Dane testowe\n",
    "        self.D = D\n",
    "        \n",
    "    def check_occurences(self, node_name, parent_name, node_state, parent_state):\n",
    "        result = 0\n",
    "        \n",
    "        #print(\"FOR \", node_name, \"=\", node_state, \" \", parent_name, \"=\", parent_state)\n",
    "        for i, p in enumerate(self.D):\n",
    "            found_node_state = p[node_name]\n",
    "            \n",
    "            if (parent_name != ''):\n",
    "                found_parent_state = p[parent_name]\n",
    "                is_found = (found_node_state == node_state and found_parent_state == parent_state)\n",
    "                #print(p, is_found)\n",
    "                if (is_found):\n",
    "                    result += 1\n",
    "            else:\n",
    "                if (found_node_state == node_state):\n",
    "                    result += 1\n",
    "\n",
    "        return result\n",
    "\n",
    "    def check_parent_occurences(self, parent_name, parent_state):\n",
    "        result = 0\n",
    "        # brak rodzica - przyjmuje się, że wynikiem jest liczba próbek (czyli N)\n",
    "        if (parent_name == ''):\n",
    "            return self.N\n",
    "\n",
    "        for i, p in enumerate(self.D):\n",
    "            if (p[parent_name] == parent_state):\n",
    "                result += 1\n",
    "\n",
    "        return result\n",
    "    \n",
    "    def compute_entropy_metric(self):\n",
    "        result = 0\n",
    "        \n",
    "        for i in range(0, len(self.Bs)):\n",
    "            r_i = self.Bs[i]['r']\n",
    "            q_i = self.Bs[i]['q']\n",
    "\n",
    "            for j in range(0, len(q_i)):\n",
    "                for k in range(0, len(r_i)):\n",
    "                    N_i_j_k = self.check_occurences(self.Bs[i]['name'], self.Bs[i]['parent'], r_i[k], q_i[j])\n",
    "                    N_i_j = self.check_parent_occurences(self.Bs[i]['parent'], q_i[j])\n",
    "\n",
    "                    if (N_i_j_k != 0 and N_i_j != 0):\n",
    "                        result += (N_i_j_k / self.N) * math.log10(N_i_j_k / N_i_j)\n",
    "                        \n",
    "        return -1 * self.N * result"
   ]
  },
  {
   "cell_type": "markdown",
   "metadata": {},
   "source": [
    "### AIC metric\n",
    "<img src=\"img/qaic.png\">\n",
    "<img src=\"img/k.png\">"
   ]
  },
  {
   "cell_type": "code",
   "execution_count": 10,
   "metadata": {
    "collapsed": true
   },
   "outputs": [],
   "source": [
    "class AICMetric(object):\n",
    "    def compute_aic_metric(self, Bs, D):\n",
    "        return EntropyMetric(Bs, D).compute_entropy_metric() + self.compute_k_factor(Bs)\n",
    "    \n",
    "    def compute_k_factor(self, Bs):\n",
    "        k_factor = 0\n",
    "        for i, p in enumerate(Bs):\n",
    "            k_factor += (len(p['r']) - 1) * len(p['q'])\n",
    "        \n",
    "        return k_factor"
   ]
  },
  {
   "cell_type": "markdown",
   "metadata": {},
   "source": [
    "------\n",
    "\n",
    "### K2 algorithm class"
   ]
  },
  {
   "cell_type": "code",
   "execution_count": 22,
   "metadata": {
    "collapsed": true
   },
   "outputs": [],
   "source": [
    "class K2Algorithm(object):\n",
    "    def __init__(self, attributes, test_data, scoring_method):\n",
    "        self.test_data = test_data\n",
    "        self.scoring_method = scoring_method\n",
    "        self.attributes = attributes\n",
    "        \n",
    "    def find_optimal_net(self):\n",
    "        Bs = []\n",
    "        for i, attribute in enumerate(final_attributes):\n",
    "            # Do sieci dodawany jest pierwszy argument - klasa\n",
    "            if (i == 0):\n",
    "                Bs.append({'r': attribute['states'], 'q': ['parent'], 'name': attribute['name'], 'parent': ''})\n",
    "                continue\n",
    "\n",
    "            # Poszukujemy polaczenia z najwiekszym wynikiem miary sieci\n",
    "            biggest_metric_parent_index = -1\n",
    "            biggest_metric = float('-inf')\n",
    "\n",
    "            for j, parent in enumerate(Bs):\n",
    "                appended_Bs = Bs.copy()\n",
    "                appended_Bs.append({'r': attribute['states'], 'q': parent['r'], 'name': attribute['name'], 'parent': parent['name']})\n",
    "\n",
    "                metric_value = AICMetric().compute_aic_metric(appended_Bs, sample_data)\n",
    "                \n",
    "                if (metric_value > biggest_metric):\n",
    "                    biggest_metric_parent_index = j\n",
    "                    biggest_metric = metric_value\n",
    "        \n",
    "            if (biggest_metric_parent_index) != -1:\n",
    "                Bs.append({'r': attribute['states'], 'q': Bs[biggest_metric_parent_index]['r'], 'name': attribute['name'], 'parent': Bs[biggest_metric_parent_index]['name']})\n",
    "        \n",
    "            print(biggest_metric)\n",
    "            pp.pprint(Bs)\n",
    "            print(\"----\")\n",
    "\n",
    "        return Bs"
   ]
  },
  {
   "cell_type": "markdown",
   "metadata": {},
   "source": [
    "------\n",
    "\n",
    "### ARFF file loading"
   ]
  },
  {
   "cell_type": "code",
   "execution_count": 12,
   "metadata": {
    "collapsed": true
   },
   "outputs": [],
   "source": [
    "import arff\n",
    "import pprint\n",
    "\n",
    "pp = pprint.PrettyPrinter(depth=6)\n",
    "\n",
    "with open('data/weather.arff') as fh:\n",
    "    data = arff.load(fh)\n",
    "    \n",
    "    attributes = []\n",
    "    for i, p in enumerate(data['attributes']):\n",
    "        attributes.append({'name': p[0], 'states': p[1]})\n",
    "    \n",
    "    sample_data = []\n",
    "    for i, p in enumerate(data['data']):\n",
    "        temp_dict = {}\n",
    "        for j, d in enumerate(p):\n",
    "            temp_dict.update({attributes[j]['name']: d})\n",
    "        sample_data.append(temp_dict)"
   ]
  },
  {
   "cell_type": "markdown",
   "metadata": {},
   "source": [
    "------\n",
    "\n",
    "### Class argument choice"
   ]
  },
  {
   "cell_type": "code",
   "execution_count": 13,
   "metadata": {},
   "outputs": [
    {
     "name": "stdout",
     "output_type": "stream",
     "text": [
      "Class argument: \n",
      "{'name': 'play', 'states': ['yes', 'no']}\n",
      "\n",
      "All arguments: \n",
      "[{'name': 'play', 'states': ['yes', 'no']},\n",
      " {'name': 'outlook', 'states': ['sunny', 'overcast', 'rainy']},\n",
      " {'name': 'temperature', 'states': ['hot', 'mild', 'cool']},\n",
      " {'name': 'humidity', 'states': ['high', 'normal']},\n",
      " {'name': 'windy', 'states': ['TRUE', 'FALSE']}]\n"
     ]
    }
   ],
   "source": [
    "    index_of_class_attribute = 4\n",
    "    print(\"Class argument: \")\n",
    "    pp.pprint(attributes[index_of_class_attribute])\n",
    "    \n",
    "    final_attributes = []\n",
    "    final_attributes.append(attributes[index_of_class_attribute])\n",
    "    \n",
    "    for i, p in enumerate(attributes):\n",
    "        if i != index_of_class_attribute:\n",
    "            final_attributes.append(p)\n",
    "    \n",
    "    print(\"\\nAll arguments: \")\n",
    "    pp.pprint(final_attributes)"
   ]
  },
  {
   "cell_type": "markdown",
   "metadata": {},
   "source": [
    "-----\n",
    "### Main algorithm"
   ]
  },
  {
   "cell_type": "code",
   "execution_count": 23,
   "metadata": {},
   "outputs": [
    {
     "name": "stdout",
     "output_type": "stream",
     "text": [
      "14.570705023209584\n",
      "[{'name': 'play', 'parent': '', 'q': ['parent'], 'r': ['yes', 'no']},\n",
      " {'name': 'outlook',\n",
      "  'parent': 'play',\n",
      "  'q': ['yes', 'no'],\n",
      "  'r': ['sunny', 'overcast', 'rainy']}]\n",
      "----\n",
      "26.12904130241078\n",
      "[{'name': 'play', 'parent': '', 'q': ['parent'], 'r': ['yes', 'no']},\n",
      " {'name': 'outlook',\n",
      "  'parent': 'play',\n",
      "  'q': ['yes', 'no'],\n",
      "  'r': ['sunny', 'overcast', 'rainy']},\n",
      " {'name': 'temperature',\n",
      "  'parent': 'outlook',\n",
      "  'q': ['sunny', 'overcast', 'rainy'],\n",
      "  'r': ['hot', 'mild', 'cool']}]\n",
      "----\n",
      "33.256013817452995\n",
      "[{'name': 'play', 'parent': '', 'q': ['parent'], 'r': ['yes', 'no']},\n",
      " {'name': 'outlook',\n",
      "  'parent': 'play',\n",
      "  'q': ['yes', 'no'],\n",
      "  'r': ['sunny', 'overcast', 'rainy']},\n",
      " {'name': 'temperature',\n",
      "  'parent': 'outlook',\n",
      "  'q': ['sunny', 'overcast', 'rainy'],\n",
      "  'r': ['hot', 'mild', 'cool']},\n",
      " {'name': 'humidity',\n",
      "  'parent': 'outlook',\n",
      "  'q': ['sunny', 'overcast', 'rainy'],\n",
      "  'r': ['high', 'normal']}]\n",
      "----\n",
      "40.38298633249521\n",
      "[{'name': 'play', 'parent': '', 'q': ['parent'], 'r': ['yes', 'no']},\n",
      " {'name': 'outlook',\n",
      "  'parent': 'play',\n",
      "  'q': ['yes', 'no'],\n",
      "  'r': ['sunny', 'overcast', 'rainy']},\n",
      " {'name': 'temperature',\n",
      "  'parent': 'outlook',\n",
      "  'q': ['sunny', 'overcast', 'rainy'],\n",
      "  'r': ['hot', 'mild', 'cool']},\n",
      " {'name': 'humidity',\n",
      "  'parent': 'outlook',\n",
      "  'q': ['sunny', 'overcast', 'rainy'],\n",
      "  'r': ['high', 'normal']},\n",
      " {'name': 'windy',\n",
      "  'parent': 'outlook',\n",
      "  'q': ['sunny', 'overcast', 'rainy'],\n",
      "  'r': ['TRUE', 'FALSE']}]\n",
      "----\n"
     ]
    },
    {
     "data": {
      "text/plain": [
       "[{'name': 'play', 'parent': '', 'q': ['parent'], 'r': ['yes', 'no']},\n",
       " {'name': 'outlook',\n",
       "  'parent': 'play',\n",
       "  'q': ['yes', 'no'],\n",
       "  'r': ['sunny', 'overcast', 'rainy']},\n",
       " {'name': 'temperature',\n",
       "  'parent': 'outlook',\n",
       "  'q': ['sunny', 'overcast', 'rainy'],\n",
       "  'r': ['hot', 'mild', 'cool']},\n",
       " {'name': 'humidity',\n",
       "  'parent': 'outlook',\n",
       "  'q': ['sunny', 'overcast', 'rainy'],\n",
       "  'r': ['high', 'normal']},\n",
       " {'name': 'windy',\n",
       "  'parent': 'outlook',\n",
       "  'q': ['sunny', 'overcast', 'rainy'],\n",
       "  'r': ['TRUE', 'FALSE']}]"
      ]
     },
     "execution_count": 23,
     "metadata": {},
     "output_type": "execute_result"
    }
   ],
   "source": [
    "K2Algorithm(final_attributes, sample_data, 'aic').find_optimal_net()"
   ]
  }
 ],
 "metadata": {
  "kernelspec": {
   "display_name": "Python 3",
   "language": "python",
   "name": "python3"
  }
 },
 "nbformat": 4,
 "nbformat_minor": 2
}
