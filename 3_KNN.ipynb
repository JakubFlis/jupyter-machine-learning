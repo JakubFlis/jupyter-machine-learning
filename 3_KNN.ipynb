{
 "cells": [
  {
   "cell_type": "code",
   "execution_count": null,
   "metadata": {},
   "outputs": [],
   "source": [
    "import scipy\n",
    "from scipy.io import arff\n",
    "from sklearn import datasets\n",
    "from sklearn.decomposition import PCA\n",
    "from sklearn.metrics import classification_report\n",
    "from sklearn.datasets import make_blobs\n",
    "import numpy as np\n",
    "import pandas as pd\n",
    "from sklearn.neighbors import KNeighborsClassifier\n",
    "from sklearn.metrics import accuracy_score\n",
    "from sklearn.model_selection import cross_val_score, train_test_split\n",
    "\n",
    "%run 'utils/knnplothelper.ipynb'\n",
    "%run 'utils/arffconverter.ipynb'"
   ]
  },
  {
   "cell_type": "markdown",
   "metadata": {},
   "source": [
    "## KNN - K-Nearest Neighbours - K-najbliższych sąsiadów\n",
    "\n",
    "Algorytm K-najbliższych sąsiadów (ang. _k-nearest neighbours_, _k-nn_) to algorytm używany między innymi w statystyce w celu prognozy wartości zmiennych losowych [[1](https://pl.wikipedia.org/wiki/K_najbliższych_sąsiadów)], jak również do klasyfikacji. Niniejszy skrypt prezentuje zasadę działania algorytmu pod kątem klasyfikacji.\n",
    "\n",
    "K-nn należy do algorytmów uczenia nadzorowanego. \n",
    "\n",
    "#### Zasada działania algorytmu\n",
    "\n",
    "Zmienna `C` poddawana klasyfikacji umieszczana jest w n-wymiarowej przestrzeni zgodnie z jej atrybutami. Następnie wybieranych jest `k` obserwacji ze zbioru uczącego najbliższych do `C`. O klasyfikacji decyduje przynależność do klasy najbardziej licznej grupy z `k` najbliższych obserwacji.  \n",
    "\n",
    "Odległość pomiędzy punktami może być obliczona używając metryki Euklidesowej [[2](https://pl.wikipedia.org/wiki/Odległość_euklidesowa)] lub metryki Mahalanobisa [[3](https://pl.wikipedia.org/wiki/Odległość_Mahalanobisa)]. Oprócz odległości można zastosować np. średnią arytmetyczną lub medianę.\n",
    "\n",
    "#### Odległość Euklidesowa\n",
    "\n",
    "W niniejszym skrypcie, podczas obliczania `k` najbliższych sąsiadów zmiennej, używana jest odległość Euklidesowa:\n",
    "\n",
    "$$\\sqrt{(q_{1} - p_{1})^2 + (q_{2} - p_{2})^2 + ... + (q_{i} - p_{i})^2}$$\n",
    "\n",
    "-------\n",
    "\n",
    "### Przykład 1 \n",
    "Cena przesyłki pocztowej uzależniona jest od gabarytu paczki. Dostępne gabaryty to gabaryt A oraz gabaryt B. Celem jest stworzenie algorytmu przypisującego paczkę do algorytmu jedynie na podstawie znajomości tabeli z poprzednimi paczkami i ich gabarytami. Poniższa tabela prezentuje przykładowe dwie paczki i przynależność do gabarytu:"
   ]
  },
  {
   "cell_type": "code",
   "execution_count": null,
   "metadata": {},
   "outputs": [],
   "source": [
    "pd.DataFrame({'wysokość[cm]': [15, 20], 'szerokość[cm]': [30, 90], 'głębokość[cm]': [10, 20], \"gabaryt\": [\"A\", \"B\"]}, index=[\"Paczka 1\", \"Paczka 2\"])"
   ]
  },
  {
   "cell_type": "markdown",
   "metadata": {},
   "source": [
    "Nowa paczka, `Paczka 3`, która nie posiada wpisu w tabeli, ma następujące wymiary:\n",
    "* Głębokość 15 cm,\n",
    "* Szerokość 45 cm, \n",
    "* Wysokość 17 cm. \n",
    "\n",
    "Obliczając odległość euklidesową do obu paczek: \n",
    "\n",
    "_Paczka 3_ - _Paczka 1_ (Gabaryt A)\n",
    "\n",
    "$$\\sqrt{(15 - 10)^2 + (45 - 30)^2 + (15 - 17)^2} \\approx 15.94 $$\n",
    "\n",
    "_Paczka 3_ - _Paczka 2_ (Gabaryt B)\n",
    "\n",
    "$$\\sqrt{(15 - 20)^2 + (45 - 90)^2 + (15 - 20)^2} \\approx 45.55 $$\n",
    "\n",
    "Algorytm k-najbliższych sąsiadów, przy `k` = 1, sklasyfikowałby _Paczkę 3_ jako *Gabaryt A*, ponieważ odległość Euklidesowa jest najmniejsza dla sąsiada również sklasyfikowanego jako Gabaryt A.\n",
    "\n",
    "---\n",
    "### Przykład 2\n",
    "\n",
    "Niech `X` oraz `Y` będą wygenerowanymi próbkami z losowymi atrybutami, podzielonymi na zbiór uczący i weryfikacyjny:"
   ]
  },
  {
   "cell_type": "code",
   "execution_count": null,
   "metadata": {},
   "outputs": [],
   "source": [
    "X, y = make_blobs(n_samples=400, centers=2, random_state=6)\n",
    "X_train, X_test, y_train, y_test = train_test_split(X, y, test_size=0.23, random_state=42)"
   ]
  },
  {
   "cell_type": "markdown",
   "metadata": {},
   "source": [
    "Aby skorzystać z algorytmu k-nn, należy stworzyć i wytrenować odpowiedni klasyfikator. W tym przypadku wybieramy klasyfikator biorący pod uwagę liczbę sąsiadów zdefiniowaną w zmiennej `n_neighbors`:"
   ]
  },
  {
   "cell_type": "code",
   "execution_count": null,
   "metadata": {},
   "outputs": [],
   "source": [
    "n_neighbours = 4\n",
    "\n",
    "knn = KNeighborsClassifier(n_neighbours, weights='distance')"
   ]
  },
  {
   "cell_type": "markdown",
   "metadata": {},
   "source": [
    "Za pomocą funkcji `fit()` klasyfikator zostaje wytrenowany używając dostarczonych danych trenujących. Aby skorzystać z gotowego klasyfikatora, należy użyć funbkcji `predict()`. Oblicza ona odległości euklidesowe pomiędzy dostarczonymi danymi trenującymi, a dostarczonymi danymi weryfikacyjnymi:"
   ]
  },
  {
   "cell_type": "code",
   "execution_count": null,
   "metadata": {},
   "outputs": [],
   "source": [
    "knn.fit(X_train, y_train)\n",
    "prediction = knn.predict(X_test)"
   ]
  },
  {
   "cell_type": "markdown",
   "metadata": {},
   "source": [
    "Aby zobaczyć skuteczność klasyfikacji, można skorzystać z funkcji `accuracy_score`:"
   ]
  },
  {
   "cell_type": "code",
   "execution_count": null,
   "metadata": {},
   "outputs": [],
   "source": [
    "accuracy_score(y_test, prediction)"
   ]
  },
  {
   "cell_type": "markdown",
   "metadata": {},
   "source": [
    "Poniższy wykres wizualizuje granice decyzyjne dla nowych punktów poddanych klasyfikacji:"
   ]
  },
  {
   "cell_type": "code",
   "execution_count": null,
   "metadata": {},
   "outputs": [],
   "source": [
    "KNNPlotHelper().plot_decision_boundries(knn, X, y)"
   ]
  },
  {
   "cell_type": "markdown",
   "metadata": {},
   "source": [
    "Wyraźny podział na klasy można również zauważyć na wykresie trójwymiarowym:"
   ]
  },
  {
   "cell_type": "code",
   "execution_count": null,
   "metadata": {},
   "outputs": [],
   "source": [
    "KNNPlotHelper().plot_3d(X, y)"
   ]
  },
  {
   "cell_type": "markdown",
   "metadata": {},
   "source": [
    "---\n",
    "## Optymalne `K `, walidacja krzyżowa - pliki ARFF\n",
    "\n",
    "W kolejnej części skryptu zostanie przedstawiony proces wyznaczania optymalnego K. Następnie, korzystając z wyznaczonej wartości, zostaną obliczone średnie wyniki walidacji krzyżowej.\n",
    "\n",
    "Poniższa tablica zawiera wykorzystywane w [poprzednim skrypcie](2_SVM.ipynb) pliki ARFF:"
   ]
  },
  {
   "cell_type": "code",
   "execution_count": null,
   "metadata": {},
   "outputs": [],
   "source": [
    "arff_paths= ['data/car.arff',     #0\n",
    "            'data/credit.arff',   #1\n",
    "            'data/patient.arff',  #2\n",
    "            'data/weather.arff']  #3"
   ]
  },
  {
   "cell_type": "markdown",
   "metadata": {},
   "source": [
    "W celu wybrania konkretnej ścieżki pliku, należy odpowiednio zmodyfikować zmienną `arff_file_index`:"
   ]
  },
  {
   "cell_type": "code",
   "execution_count": null,
   "metadata": {},
   "outputs": [],
   "source": [
    "arff_file_index = 2\n",
    "\n",
    "data = load_arff(arff_paths[arff_file_index])\n",
    "X = data.data\n",
    "y = data.target\n",
    "\n",
    "k_list = list(range(1, 10, 2))\n",
    "results = []\n",
    "\n",
    "for k in k_list:\n",
    "    knn = KNeighborsClassifier(n_neighbors=k)\n",
    "    scores = cross_val_score(knn, X_train, y_train, cv=10, scoring='accuracy')\n",
    "    results.append(scores.mean())\n",
    "    \n",
    "results = [1 - r for r in results]\n",
    "\n",
    "# plot misclassification error vs k\n",
    "plt.plot(k_list, results)\n",
    "plt.xlabel('Number of Neighbors K')\n",
    "plt.ylabel('Misclassification Error')\n",
    "plt.show()"
   ]
  }
 ],
 "metadata": {
  "kernelspec": {
   "display_name": "Python 3",
   "language": "python",
   "name": "python3"
  },
  "language_info": {
   "codemirror_mode": {
    "name": "ipython",
    "version": 3
   },
   "file_extension": ".py",
   "mimetype": "text/x-python",
   "name": "python",
   "nbconvert_exporter": "python",
   "pygments_lexer": "ipython3",
   "version": "3.6.5"
  }
 },
 "nbformat": 4,
 "nbformat_minor": 2
}
