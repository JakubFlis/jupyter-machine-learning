{
 "cells": [
  {
   "cell_type": "code",
   "execution_count": 7,
   "metadata": {},
   "outputs": [],
   "source": [
    "import math\n",
    "import graphviz\n",
    "import math\n",
    "import copy\n",
    "import sys"
   ]
  },
  {
   "cell_type": "markdown",
   "metadata": {},
   "source": [
    "------\n",
    "### Entropia\n",
    "<img src=\"img/entropy.png\" style=\"height: 100px\">"
   ]
  },
  {
   "cell_type": "code",
   "execution_count": 1,
   "metadata": {},
   "outputs": [],
   "source": [
    "class EntropyMetric(object):\n",
    "    def __init__(self, network, test_data):\n",
    "        self.network = network\n",
    "        self.test_data = test_data\n",
    "    \n",
    "    def compute_entropy_metric(self):\n",
    "        result = 0\n",
    "        \n",
    "        for node in self.network:\n",
    "            if not node['parents']: # Brak rodzica\n",
    "                result += self.compute_metric_for_node_without_parent(node)\n",
    "                continue\n",
    "                \n",
    "            for node_state in node['r']:\n",
    "                for parent in node['parents']:\n",
    "                    for parent_state in parent['q']:\n",
    "                        N_i_j = self.compute_occurences_for_all_node_states(node, (parent['name'], parent_state))\n",
    "                        N_i_j_k = self.count_occurences((node['name'], node_state), (parent['name'], parent_state))\n",
    "                        if (N_i_j_k != 0 and N_i_j != 0):\n",
    "                            result += self.compute_metric_component(N_i_j, N_i_j_k)\n",
    "                    \n",
    "        return -1 * len(self.test_data) * result\n",
    "    \n",
    "    def compute_metric_for_node_without_parent(self, node):  \n",
    "        N_i_j = len(self.test_data)\n",
    "        N_i_j_k = self.compute_occurences_for_all_node_states_without_parent(node)\n",
    "        if N_i_j_k == 0:\n",
    "            N_i_j_k = 1\n",
    "        \n",
    "        return self.compute_metric_component(N_i_j, N_i_j_k)\n",
    "    \n",
    "    def compute_occurences_for_all_node_states(self, node, parent):\n",
    "        result = 0\n",
    "        for state in node['r']:\n",
    "            result += self.count_occurences((node['name'], state), parent)\n",
    "        return result\n",
    "    \n",
    "    def compute_occurences_for_all_node_states_without_parent(self, node):\n",
    "        result = 0\n",
    "        for state in node['r']:\n",
    "            result += self.count_single_occurences(node['name'], state)\n",
    "        return result\n",
    "    \n",
    "    def count_occurences(self, node, parent):\n",
    "        counter = 0\n",
    "        for data in self.test_data:\n",
    "            if data[node[0]] == node[1] and data[parent[0]] == parent[1]:\n",
    "                counter += 1 \n",
    "        return counter\n",
    "    \n",
    "    def count_single_occurences(self, name, state):\n",
    "        counter = 0\n",
    "        for data in self.test_data:\n",
    "            if data[name] == state:\n",
    "                counter += 1 \n",
    "        return counter\n",
    "     \n",
    "    def compute_metric_component(self, N_i_j, N_i_j_k):\n",
    "        return (N_i_j_k / len(self.test_data)) * math.log10(N_i_j_k / N_i_j)"
   ]
  },
  {
   "cell_type": "markdown",
   "metadata": {},
   "source": [
    "------\n",
    "### Metryka AIC \n",
    "<img src=\"img/qaic.png\"><br/>\n",
    "<img src=\"img/k.png\">"
   ]
  },
  {
   "cell_type": "code",
   "execution_count": 3,
   "metadata": {},
   "outputs": [],
   "source": [
    "class AICMetric(object):\n",
    "    def compute_aic_metric(self, Bs, D):\n",
    "        return EntropyMetric(Bs, D).compute_entropy_metric() + self.compute_k_factor(Bs)\n",
    "    \n",
    "    def compute_k_factor(self, network):\n",
    "        k_factor = 0\n",
    "        for node in network:\n",
    "            k_factor += (len(node['r']) - 1) * self.count_number_of_parent_states(node)\n",
    "        return k_factor\n",
    "    \n",
    "    def count_number_of_parent_states(self, node):\n",
    "        counter = 0\n",
    "        for parent in node['parents']:\n",
    "            counter += len(parent['q'])\n",
    "        return counter"
   ]
  },
  {
   "cell_type": "markdown",
   "metadata": {},
   "source": [
    "------\n",
    "### Metryka MDL (Minimum Description Length)\n",
    "<img src=\"img/mdl.png\" style=\"height: 70px\"> <br/>\n",
    "<img src=\"img/k.png\">"
   ]
  },
  {
   "cell_type": "code",
   "execution_count": 5,
   "metadata": {},
   "outputs": [],
   "source": [
    "class MDLMetric(object):\n",
    "    def compute_mdl_metric(self, network, test_data):\n",
    "        return EntropyMetric(network, test_data).compute_entropy_metric() + (self.compute_k_factor(network) / 2) * math.log10(len(test_data))\n",
    "    \n",
    "    def compute_k_factor(self, network):\n",
    "        k_factor = 0\n",
    "        for node in network:\n",
    "             k_factor += (len(node['r']) - 1) * self.count_number_of_parent_states(node)\n",
    "        return k_factor\n",
    "    \n",
    "    def count_number_of_parent_states(self, node):\n",
    "        counter = 0\n",
    "        for parent in node['parents']:\n",
    "            counter += len(parent['q'])\n",
    "        return counter"
   ]
  },
  {
   "cell_type": "markdown",
   "metadata": {},
   "source": [
    "------\n",
    "### Metryka bayesowska\n",
    "<img src=\"img/bayes-k2.png\" style=\"height: 100px\">"
   ]
  },
  {
   "cell_type": "code",
   "execution_count": 6,
   "metadata": {},
   "outputs": [],
   "source": [
    "class BayesianMetric(object):\n",
    "    def __init__(self, network, test_data):\n",
    "        self.network = network\n",
    "        self.test_data = test_data\n",
    "        \n",
    "    def compute_bayesian_metric(self):\n",
    "        result = 1\n",
    "        \n",
    "        for node in self.network:\n",
    "            r = len(node['r'])\n",
    "            for parent in node['parents']:\n",
    "                for parent_state in parent['q']:\n",
    "                    N_i_j = self.compute_N_i_j(node['name'], node['r'], parent_state, parent['name'])\n",
    "                    \n",
    "                    result *= math.factorial(r - 1) / math.factorial(r - 1 + N_i_j)\n",
    "                    \n",
    "                    for node_state in node['r']:\n",
    "                        result *= math.factorial(self.check_occurences(node['name'], parent['name'], node_state, parent_state))\n",
    "        \n",
    "        return result\n",
    "    \n",
    "    def compute_N_i_j(self, node_name, node_states, parent_state, parent_name):\n",
    "        N_i_j = 0\n",
    "        for node_state in node_states:\n",
    "            N_i_j += self.check_occurences(node_name, parent_name, node_state, parent_state)\n",
    "        return N_i_j\n",
    "    \n",
    "    def check_occurences(self, node_name, parent_name, node_state, parent_state):\n",
    "        result = 0\n",
    "        for single_test_data in self.test_data:\n",
    "            if single_test_data[node_name] == node_state and single_test_data[parent_name] == parent_state:\n",
    "                result += 1\n",
    "        return result\n",
    "        "
   ]
  }
 ],
 "metadata": {
  "kernelspec": {
   "display_name": "Python 3",
   "language": "python",
   "name": "python3"
  },
  "language_info": {
   "codemirror_mode": {
    "name": "ipython",
    "version": 3
   },
   "file_extension": ".py",
   "mimetype": "text/x-python",
   "name": "python",
   "nbconvert_exporter": "python",
   "pygments_lexer": "ipython3",
   "version": "3.6.5"
  }
 },
 "nbformat": 4,
 "nbformat_minor": 2
}
