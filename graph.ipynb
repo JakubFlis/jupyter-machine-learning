{
 "cells": [
  {
   "cell_type": "code",
   "execution_count": 1,
   "metadata": {},
   "outputs": [],
   "source": [
    "import graphviz"
   ]
  },
  {
   "cell_type": "code",
   "execution_count": 2,
   "metadata": {},
   "outputs": [],
   "source": [
    "class Graph(object):\n",
    "    def __init__(self, network):\n",
    "        self.network = network\n",
    "    \n",
    "    def draw_graph(self):\n",
    "        graph = graphviz.Digraph('generated graph')        \n",
    "        for node in self.network:\n",
    "            if not node['parents']:\n",
    "                graph.node(node['name'] , label = node['name'])\n",
    "            else:\n",
    "                for parent in node['parents']:\n",
    "                    graph.edge(parent['name'], node['name'])          \n",
    "        return graph"
   ]
  }
 ],
 "metadata": {
  "kernelspec": {
   "display_name": "Python 3",
   "language": "python",
   "name": "python3"
  },
  "language_info": {
   "codemirror_mode": {
    "name": "ipython",
    "version": 3
   },
   "file_extension": ".py",
   "mimetype": "text/x-python",
   "name": "python",
   "nbconvert_exporter": "python",
   "pygments_lexer": "ipython3",
   "version": "3.6.5"
  }
 },
 "nbformat": 4,
 "nbformat_minor": 2
}
