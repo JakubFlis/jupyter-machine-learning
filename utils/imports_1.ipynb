{
 "cells": [
  {
   "cell_type": "code",
   "execution_count": 3,
   "metadata": {},
   "outputs": [
    {
     "name": "stderr",
     "output_type": "stream",
     "text": [
      "ERROR:root:File `'utils/graph.ipynb.py'` not found.\n",
      "ERROR:root:File `'utils/from.ipynb.py'` not found.\n",
      "ERROR:root:File `'utils/arff.ipynb.py'` not found.\n",
      "ERROR:root:File `'utils/metrics.ipynb.py'` not found.\n",
      "ERROR:root:File `'utils/graphchecker.ipynb.py'` not found.\n",
      "ERROR:root:File `'utils/progressbar.ipynb.py'` not found.\n",
      "ERROR:root:File `'utils/arffcrossvalidation.ipynb.py'` not found.\n",
      "ERROR:root:File `'algorithms/k2algorithm.ipynb.py'` not found.\n",
      "ERROR:root:File `'algorithms/tanalgorithm.ipynb.py'` not found.\n",
      "ERROR:root:File `'algorithms/tabualgorithm.ipynb.py'` not found.\n"
     ]
    }
   ],
   "source": [
    "import matplotlib.pyplot as plt\n",
    "from ipywidgets import interact\n",
    "import ipywidgets as widgets\n",
    "\n",
    "import pprint\n",
    "pp = pprint.PrettyPrinter(depth = 6)\n",
    "\n",
    "%run 'utils/graph.ipynb'\n",
    "%run 'utils/from.ipynb'\n",
    "%run 'utils/arff.ipynb'\n",
    "%run 'utils/metrics.ipynb'\n",
    "%run 'utils/graphchecker.ipynb'\n",
    "%run 'utils/progressbar.ipynb'\n",
    "%run 'utils/arffcrossvalidation.ipynb'\n",
    "%run 'algorithms/k2algorithm.ipynb'\n",
    "%run 'algorithms/tanalgorithm.ipynb'\n",
    "%run 'algorithms/tabualgorithm.ipynb'"
   ]
  }
 ],
 "metadata": {
  "kernelspec": {
   "display_name": "Python 3",
   "language": "python",
   "name": "python3"
  },
  "language_info": {
   "codemirror_mode": {
    "name": "ipython",
    "version": 3
   },
   "file_extension": ".py",
   "mimetype": "text/x-python",
   "name": "python",
   "nbconvert_exporter": "python",
   "pygments_lexer": "ipython3",
   "version": "3.6.5"
  }
 },
 "nbformat": 4,
 "nbformat_minor": 2
}
