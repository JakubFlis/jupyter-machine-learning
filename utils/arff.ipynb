{
 "cells": [
  {
   "cell_type": "code",
   "execution_count": null,
   "metadata": {},
   "outputs": [],
   "source": [
    "import arff\n",
    "import math"
   ]
  },
  {
   "cell_type": "code",
   "execution_count": null,
   "metadata": {},
   "outputs": [],
   "source": [
    "class ARFFLoader(object):\n",
    "    def __init__(self, arff_path):\n",
    "        self.arff_path = arff_path\n",
    "    \n",
    "    def load_attributes_and_samples(self, class_attribute_index=0, percentage_split=50):\n",
    "        if percentage_split > 100 or percentage_split < 0:\n",
    "            raise ValueError(\"Percentage split value should be between 0 and 100!\")\n",
    "            \n",
    "        with open(self.arff_path) as fh:\n",
    "            data = arff.load(fh)\n",
    "\n",
    "            attributes = []\n",
    "            for i, p in enumerate(data['attributes']):\n",
    "                attributes.append({'name': p[0], 'states': p[1]})\n",
    "\n",
    "            sample_data = []\n",
    "            for i, p in enumerate(data['data']):\n",
    "                temp_dict = {}\n",
    "                for j, d in enumerate(p):\n",
    "                    temp_dict.update({attributes[j]['name']: d})\n",
    "                sample_data.append(temp_dict)\n",
    "            first_part, second_part = self.split_array(sample_data, percentage_split)\n",
    "                \n",
    "            if class_attribute_index > len(attributes) - 1:\n",
    "                raise ValueError(\"Class attribute index out of range! Max possible index: \" + str(len(attributes) - 1))\n",
    "                \n",
    "            print(\"Class argument: \")\n",
    "            pp.pprint(attributes[class_attribute_index])\n",
    "\n",
    "            final_attributes = []\n",
    "            final_attributes.append(attributes[class_attribute_index])\n",
    "\n",
    "            for i, p in enumerate(attributes):\n",
    "                if i != class_attribute_index:\n",
    "                    final_attributes.append(p)\n",
    "                    \n",
    "            return (final_attributes, first_part, second_part)\n",
    "                    \n",
    "    def split_array(self, array, percentage):\n",
    "        percentage = percentage / 100\n",
    "        split = math.ceil(len(array) * percentage)\n",
    "        \n",
    "        return (array[:split], array[split:])"
   ]
  }
 ],
 "metadata": {
  "kernelspec": {
   "display_name": "Python 3",
   "language": "python",
   "name": "python3"
  },
  "language_info": {
   "codemirror_mode": {
    "name": "ipython",
    "version": 3
   },
   "file_extension": ".py",
   "mimetype": "text/x-python",
   "name": "python",
   "nbconvert_exporter": "python",
   "pygments_lexer": "ipython3",
   "version": "3.6.5"
  }
 },
 "nbformat": 4,
 "nbformat_minor": 2
}
