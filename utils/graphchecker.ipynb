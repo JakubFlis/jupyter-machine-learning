{
 "cells": [
  {
   "cell_type": "code",
   "execution_count": 1,
   "metadata": {},
   "outputs": [],
   "source": [
    "class GraphChecker(object):\n",
    "    def is_graph_acyclic(self, net):\n",
    "        graph = self.prepare_graph(net)\n",
    "\n",
    "        for node in graph:\n",
    "            visited = [node['node']]\n",
    "            for child in node['children']:\n",
    "                if self.recurence_child_check(child, visited, node['node'], graph):\n",
    "                    return True\n",
    "        \n",
    "        return False\n",
    "    \n",
    "    def recurence_child_check(self, child_name, visited, parent_name, graph):\n",
    "        visited.append(child_name)\n",
    "        node = self.find_node(child_name, graph)\n",
    "        for child in node['children']:\n",
    "            if child == parent_name:\n",
    "                return True\n",
    "            if child not in visited:\n",
    "                if self.recurence_child_check(child, visited, parent_name, graph):\n",
    "                    return True\n",
    "        return False\n",
    "                \n",
    "    def find_node(self, node_name, graph):\n",
    "        for node in graph:\n",
    "            if node['node'] == node_name:\n",
    "                return node\n",
    "        raise ValueError(\"No \" + node_name + \" in given graph\")\n",
    "        \n",
    "    def prepare_graph(self, net):\n",
    "        graph = []\n",
    "        \n",
    "        for node in net:\n",
    "            graph.append({\"node\": node['name'], \"children\": []})\n",
    "            \n",
    "        for node in net:\n",
    "            for parent in node['parents']:\n",
    "                for graph_node in graph:\n",
    "                    if graph_node['node'] == parent['name']:\n",
    "                        graph_node['children'].append(node['name'])        \n",
    "        return graph"
   ]
  }
 ],
 "metadata": {
  "kernelspec": {
   "display_name": "Python 3",
   "language": "python",
   "name": "python3"
  },
  "language_info": {
   "codemirror_mode": {
    "name": "ipython",
    "version": 3
   },
   "file_extension": ".py",
   "mimetype": "text/x-python",
   "name": "python",
   "nbconvert_exporter": "python",
   "pygments_lexer": "ipython3",
   "version": "3.6.5"
  }
 },
 "nbformat": 4,
 "nbformat_minor": 2
}
