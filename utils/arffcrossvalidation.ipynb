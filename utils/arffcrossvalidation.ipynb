{
 "cells": [
  {
   "cell_type": "code",
   "execution_count": 1,
   "metadata": {},
   "outputs": [],
   "source": [
    "from sklearn.model_selection import KFold"
   ]
  },
  {
   "cell_type": "code",
   "execution_count": 2,
   "metadata": {},
   "outputs": [],
   "source": [
    "class KFoldCrossValidation(object):\n",
    "    def __init__(self, arff_path, class_attribute_index=0):\n",
    "        self.attributes, self.sample_data, empty = ARFFLoader(arff_path).load_attributes_and_samples(class_attribute_index, 100)\n",
    "        self.class_attribute_name = self.attributes[0]['name']\n",
    "\n",
    "    def perform_k_fold_cross_validation(self, n_splits, classifier):\n",
    "        self.sample_data = np.array(self.sample_data)\n",
    "        \n",
    "        scores = []\n",
    "        fold_split = list(KFold(n_splits).split(np.array(self.sample_data)))\n",
    "        \n",
    "        for progress_iterator in log_progress(range(0, n_splits), name=\"Walidacja\", every=1):\n",
    "            train_index, test_index  = fold_split[progress_iterator]\n",
    "            \n",
    "            classifier.sample_data = self.sample_data[train_index]\n",
    "            classifier.attributes = self.attributes\n",
    "            network = classifier.find_optimal_net()\n",
    "            \n",
    "            correct_counter = 0\n",
    "            incorrect_counter = 0\n",
    "            \n",
    "            for element in self.sample_data[test_index]:\n",
    "                result = From(network, self.sample_data[test_index]).given_many(element).classify(self.class_attribute_name)\n",
    "                if self.check_winner(result) == element[self.class_attribute_name]:\n",
    "                    correct_counter += 1\n",
    "                else: \n",
    "                    incorrect_counter += 1\n",
    "                \n",
    "            total = correct_counter + incorrect_counter \n",
    "            scores.append(correct_counter / total)\n",
    "            \n",
    "        return np.array(scores)\n",
    "    \n",
    "    def check_winner(self, result_table):\n",
    "        biggest_result = -99999\n",
    "        biggest_result_index = 0\n",
    "\n",
    "        for index, result in enumerate(result_table):\n",
    "            if result['value'] > biggest_result:\n",
    "                biggest_result = result['value']\n",
    "                biggest_result_index = index\n",
    "\n",
    "        return result_table[biggest_result_index]['state']"
   ]
  }
 ],
 "metadata": {
  "kernelspec": {
   "display_name": "Python 3",
   "language": "python",
   "name": "python3"
  },
  "language_info": {
   "codemirror_mode": {
    "name": "ipython",
    "version": 3
   },
   "file_extension": ".py",
   "mimetype": "text/x-python",
   "name": "python",
   "nbconvert_exporter": "python",
   "pygments_lexer": "ipython3",
   "version": "3.6.5"
  }
 },
 "nbformat": 4,
 "nbformat_minor": 2
}
