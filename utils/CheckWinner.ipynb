{
 "cells": [
  {
   "cell_type": "code",
   "execution_count": null,
   "metadata": {},
   "outputs": [],
   "source": [
    "#tabu_network #tan_network #k2_network\n",
    "bayesian_network = tabu_network\n",
    "#vote_sample_data #weather_sample_data\n",
    "sample_data = vote_testing_data\n",
    "\n",
    "print(\"Should be republican\", check_winner(From(bayesian_network, sample_data).given(\"handicapped-infants\", \"n\").given(\"water-project-cost-sharing\", \"y\").given(\"adoption-of-the-budget-resolution\", \"n\").given(\"physician-fee-freeze\", \"y\").given(\"el-salvador-aid\", \"y\").given(\"religious-groups-in-schools\", \"y\").given(\"anti-satellite-test-ban\", \"n\").given(\"aid-to-nicaraguan-contras\", \"n\").given(\"mx-missile\", \"n\").given(\"immigration\", \"y\").given(\"synfuels-corporation-cutback\", \"?\").given(\"education-spending\", \"y\").given(\"superfund-right-to-sue\", \"y\").given(\"crime\", \"y\").given(\"duty-free-exports\", \"n\").given(\"export-administration-act-south-africa\", \"y\").classify(\"Class\")))\n",
    "print(\"Should be republican\", check_winner(From(bayesian_network, sample_data).given(\"handicapped-infants\", \"n\").given(\"water-project-cost-sharing\", \"y\").given(\"adoption-of-the-budget-resolution\", \"n\").given(\"physician-fee-freeze\", \"y\").given(\"el-salvador-aid\", \"y\").given(\"religious-groups-in-schools\", \"y\").given(\"anti-satellite-test-ban\", \"n\").given(\"aid-to-nicaraguan-contras\", \"n\").given(\"mx-missile\", \"n\").given(\"immigration\", \"n\").given(\"synfuels-corporation-cutback\", \"n\").given(\"education-spending\", \"y\").given(\"superfund-right-to-sue\", \"y\").given(\"crime\", \"y\").given(\"duty-free-exports\", \"n\").given(\"export-administration-act-south-africa\", \"?\").classify(\"Class\")))\n",
    "print(\"Should be democrat\", check_winner(From(bayesian_network, sample_data).given(\"handicapped-infants\", \"?\").given(\"water-project-cost-sharing\", \"y\").given(\"adoption-of-the-budget-resolution\", \"y\").given(\"physician-fee-freeze\", \"?\").given(\"el-salvador-aid\", \"y\").given(\"religious-groups-in-schools\", \"y\").given(\"anti-satellite-test-ban\", \"n\").given(\"aid-to-nicaraguan-contras\", \"n\").given(\"mx-missile\", \"n\").given(\"immigration\", \"n\").given(\"synfuels-corporation-cutback\", \"y\").given(\"education-spending\", \"n\").given(\"superfund-right-to-sue\", \"y\").given(\"crime\", \"y\").given(\"duty-free-exports\", \"n\").given(\"export-administration-act-south-africa\", \"n\").classify(\"Class\")))\n",
    "print(\"Should be democrat\", check_winner(From(bayesian_network, sample_data).given(\"handicapped-infants\", \"n\").given(\"water-project-cost-sharing\", \"y\").given(\"adoption-of-the-budget-resolution\", \"y\").given(\"physician-fee-freeze\", \"n\").given(\"el-salvador-aid\", \"?\").given(\"religious-groups-in-schools\", \"y\").given(\"anti-satellite-test-ban\", \"n\").given(\"aid-to-nicaraguan-contras\", \"n\").given(\"mx-missile\", \"n\").given(\"immigration\", \"n\").given(\"synfuels-corporation-cutback\", \"y\").given(\"education-spending\", \"n\").given(\"superfund-right-to-sue\", \"y\").given(\"crime\", \"n\").given(\"duty-free-exports\", \"n\").given(\"export-administration-act-south-africa\", \"y\").classify(\"Class\")))\n",
    "print(\"Should be democrat\", check_winner(From(bayesian_network, sample_data).given(\"handicapped-infants\", \"y\").given(\"water-project-cost-sharing\", \"y\").given(\"adoption-of-the-budget-resolution\", \"y\").given(\"physician-fee-freeze\", \"n\").given(\"el-salvador-aid\", \"y\").given(\"religious-groups-in-schools\", \"y\").given(\"anti-satellite-test-ban\", \"n\").given(\"aid-to-nicaraguan-contras\", \"n\").given(\"mx-missile\", \"n\").given(\"immigration\", \"n\").given(\"synfuels-corporation-cutback\", \"y\").given(\"education-spending\", \"?\").given(\"superfund-right-to-sue\", \"y\").given(\"crime\", \"y\").given(\"duty-free-exports\", \"y\").given(\"export-administration-act-south-africa\", \"y\").classify(\"Class\")))\n",
    "print(\"Should be democrat\", check_winner(From(bayesian_network, sample_data).given(\"handicapped-infants\", \"n\").given(\"water-project-cost-sharing\", \"y\").given(\"adoption-of-the-budget-resolution\", \"y\").given(\"physician-fee-freeze\", \"n\").given(\"el-salvador-aid\", \"y\").given(\"religious-groups-in-schools\", \"y\").given(\"anti-satellite-test-ban\", \"n\").given(\"aid-to-nicaraguan-contras\", \"n\").given(\"mx-missile\", \"n\").given(\"immigration\", \"n\").given(\"synfuels-corporation-cutback\", \"n\").given(\"education-spending\", \"n\").given(\"superfund-right-to-sue\", \"y\").given(\"crime\", \"y\").given(\"duty-free-exports\", \"y\").given(\"export-administration-act-south-africa\", \"y\").classify(\"Class\")))\n",
    "print(\"Should be democrat\", check_winner(From(bayesian_network, sample_data).given(\"handicapped-infants\", \"n\").given(\"water-project-cost-sharing\", \"y\").given(\"adoption-of-the-budget-resolution\", \"n\").given(\"physician-fee-freeze\", \"y\").given(\"el-salvador-aid\", \"y\").given(\"religious-groups-in-schools\", \"y\").given(\"anti-satellite-test-ban\", \"n\").given(\"aid-to-nicaraguan-contras\", \"n\").given(\"mx-missile\", \"n\").given(\"immigration\", \"n\").given(\"synfuels-corporation-cutback\", \"n\").given(\"education-spending\", \"n\").given(\"superfund-right-to-sue\", \"?\").given(\"crime\", \"y\").given(\"duty-free-exports\", \"y\").given(\"export-administration-act-south-africa\", \"y\").classify(\"Class\")))\n",
    "print(\"Should be republican\", check_winner(From(bayesian_network, sample_data).given(\"handicapped-infants\", \"n\").given(\"water-project-cost-sharing\", \"y\").given(\"adoption-of-the-budget-resolution\", \"n\").given(\"physician-fee-freeze\", \"y\").given(\"el-salvador-aid\", \"y\").given(\"religious-groups-in-schools\", \"y\").given(\"anti-satellite-test-ban\", \"n\").given(\"aid-to-nicaraguan-contras\", \"n\").given(\"mx-missile\", \"n\").given(\"immigration\", \"n\").given(\"synfuels-corporation-cutback\", \"n\").given(\"education-spending\", \"n\").given(\"superfund-right-to-sue\", \"y\").given(\"crime\", \"y\").given(\"duty-free-exports\", \"?\").given(\"export-administration-act-south-africa\", \"y\").classify(\"Class\")))\n",
    "print(\"Should be republican\", check_winner(From(bayesian_network, sample_data).given(\"handicapped-infants\", \"n\").given(\"water-project-cost-sharing\", \"y\").given(\"adoption-of-the-budget-resolution\", \"n\").given(\"physician-fee-freeze\", \"y\").given(\"el-salvador-aid\", \"y\").given(\"religious-groups-in-schools\", \"y\").given(\"anti-satellite-test-ban\", \"n\").given(\"aid-to-nicaraguan-contras\", \"n\").given(\"mx-missile\", \"n\").given(\"immigration\", \"n\").given(\"synfuels-corporation-cutback\", \"n\").given(\"education-spending\", \"y\").given(\"superfund-right-to-sue\", \"y\").given(\"crime\", \"y\").given(\"duty-free-exports\", \"n\").given(\"export-administration-act-south-africa\", \"y\").classify(\"Class\")))\n",
    "print(\"Should be democrat\", check_winner(From(bayesian_network, sample_data).given(\"handicapped-infants\", \"y\").given(\"water-project-cost-sharing\", \"y\").given(\"adoption-of-the-budget-resolution\", \"y\").given(\"physician-fee-freeze\", \"n\").given(\"el-salvador-aid\", \"n\").given(\"religious-groups-in-schools\", \"n\").given(\"anti-satellite-test-ban\", \"y\").given(\"aid-to-nicaraguan-contras\", \"y\").given(\"mx-missile\", \"y\").given(\"immigration\", \"n\").given(\"synfuels-corporation-cutback\", \"n\").given(\"education-spending\", \"n\").given(\"superfund-right-to-sue\", \"n\").given(\"crime\", \"n\").given(\"duty-free-exports\", \"?\").given(\"export-administration-act-south-africa\", \"?\").classify(\"Class\")))\n",
    "print(\"Should be republican\", check_winner(From(bayesian_network, sample_data).given(\"handicapped-infants\", \"n\").given(\"water-project-cost-sharing\", \"y\").given(\"adoption-of-the-budget-resolution\", \"n\").given(\"physician-fee-freeze\", \"y\").given(\"el-salvador-aid\", \"y\").given(\"religious-groups-in-schools\", \"n\").given(\"anti-satellite-test-ban\", \"n\").given(\"aid-to-nicaraguan-contras\", \"n\").given(\"mx-missile\", \"n\").given(\"immigration\", \"n\").given(\"synfuels-corporation-cutback\", \"?\").given(\"education-spending\", \"?\").given(\"superfund-right-to-sue\", \"y\").given(\"crime\", \"y\").given(\"duty-free-exports\", \"n\").given(\"export-administration-act-south-africa\", \"n\").classify(\"Class\")))\n",
    "print(\"Should be republican\", check_winner(From(bayesian_network, sample_data).given(\"handicapped-infants\", \"n\").given(\"water-project-cost-sharing\", \"y\").given(\"adoption-of-the-budget-resolution\", \"n\").given(\"physician-fee-freeze\", \"y\").given(\"el-salvador-aid\", \"y\").given(\"religious-groups-in-schools\", \"y\").given(\"anti-satellite-test-ban\", \"n\").given(\"aid-to-nicaraguan-contras\", \"n\").given(\"mx-missile\", \"n\").given(\"immigration\", \"n\").given(\"synfuels-corporation-cutback\", \"y\").given(\"education-spending\", \"?\").given(\"superfund-right-to-sue\", \"y\").given(\"crime\", \"y\").given(\"duty-free-exports\", \"?\").given(\"export-administration-act-south-africa\", \"?\").classify(\"Class\")))\n",
    "print(\"Should be democrat\", check_winner(From(bayesian_network, sample_data).given(\"handicapped-infants\", \"n\").given(\"water-project-cost-sharing\", \"y\").given(\"adoption-of-the-budget-resolution\", \"y\").given(\"physician-fee-freeze\", \"n\").given(\"el-salvador-aid\", \"n\").given(\"religious-groups-in-schools\", \"n\").given(\"anti-satellite-test-ban\", \"y\").given(\"aid-to-nicaraguan-contras\", \"y\").given(\"mx-missile\", \"y\").given(\"immigration\", \"n\").given(\"synfuels-corporation-cutback\", \"n\").given(\"education-spending\", \"n\").given(\"superfund-right-to-sue\", \"y\").given(\"crime\", \"n\").given(\"duty-free-exports\", \"?\").given(\"export-administration-act-south-africa\", \"?\").classify(\"Class\")))\n",
    "print(\"Should be democrat\", check_winner(From(bayesian_network, sample_data).given(\"handicapped-infants\", \"y\").given(\"water-project-cost-sharing\", \"y\").given(\"adoption-of-the-budget-resolution\", \"y\").given(\"physician-fee-freeze\", \"n\").given(\"el-salvador-aid\", \"n\").given(\"religious-groups-in-schools\", \"y\").given(\"anti-satellite-test-ban\", \"y\").given(\"aid-to-nicaraguan-contras\", \"y\").given(\"mx-missile\", \"?\").given(\"immigration\", \"y\").given(\"synfuels-corporation-cutback\", \"y\").given(\"education-spending\", \"?\").given(\"superfund-right-to-sue\", \"n\").given(\"crime\", \"n\").given(\"duty-free-exports\", \"y\").given(\"export-administration-act-south-africa\", \"?\").classify(\"Class\")))\n",
    "print(\"Should be republican\", check_winner(From(bayesian_network, sample_data).given(\"handicapped-infants\", \"n\").given(\"water-project-cost-sharing\", \"y\").given(\"adoption-of-the-budget-resolution\", \"n\").given(\"physician-fee-freeze\", \"y\").given(\"el-salvador-aid\", \"y\").given(\"religious-groups-in-schools\", \"y\").given(\"anti-satellite-test-ban\", \"n\").given(\"aid-to-nicaraguan-contras\", \"n\").given(\"mx-missile\", \"n\").given(\"immigration\", \"n\").given(\"synfuels-corporation-cutback\", \"n\").given(\"education-spending\", \"y\").given(\"superfund-right-to-sue\", \"?\").given(\"crime\", \"?\").given(\"duty-free-exports\", \"n\").given(\"export-administration-act-south-africa\", \"?\").classify(\"Class\")))\n",
    "print(\"Should be republican\", check_winner(From(bayesian_network, sample_data).given(\"handicapped-infants\", \"n\").given(\"water-project-cost-sharing\", \"y\").given(\"adoption-of-the-budget-resolution\", \"n\").given(\"physician-fee-freeze\", \"y\").given(\"el-salvador-aid\", \"y\").given(\"religious-groups-in-schools\", \"y\").given(\"anti-satellite-test-ban\", \"n\").given(\"aid-to-nicaraguan-contras\", \"n\").given(\"mx-missile\", \"n\").given(\"immigration\", \"y\").given(\"synfuels-corporation-cutback\", \"n\").given(\"education-spending\", \"y\").given(\"superfund-right-to-sue\", \"y\").given(\"crime\", \"?\").given(\"duty-free-exports\", \"n\").given(\"export-administration-act-south-africa\", \"?\").classify(\"Class\")))\n",
    "print(\"Should be republican\", check_winner(From(bayesian_network, sample_data).given(\"handicapped-infants\", \"n\").given(\"water-project-cost-sharing\", \"n\").given(\"adoption-of-the-budget-resolution\", \"n\").given(\"physician-fee-freeze\", \"y\").given(\"el-salvador-aid\", \"y\").given(\"religious-groups-in-schools\", \"y\").given(\"anti-satellite-test-ban\", \"?\").given(\"aid-to-nicaraguan-contras\", \"?\").given(\"mx-missile\", \"?\").given(\"immigration\", \"?\").given(\"synfuels-corporation-cutback\", \"n\").given(\"education-spending\", \"y\").given(\"superfund-right-to-sue\", \"y\").given(\"crime\", \"y\").given(\"duty-free-exports\", \"n\").given(\"export-administration-act-south-africa\", \"y\").classify(\"Class\")))\n",
    "print(\"Should be republican\", check_winner(From(bayesian_network, sample_data).given(\"handicapped-infants\", \"n\").given(\"water-project-cost-sharing\", \"y\").given(\"adoption-of-the-budget-resolution\", \"n\").given(\"physician-fee-freeze\", \"y\").given(\"el-salvador-aid\", \"y\").given(\"religious-groups-in-schools\", \"y\").given(\"anti-satellite-test-ban\", \"n\").given(\"aid-to-nicaraguan-contras\", \"n\").given(\"mx-missile\", \"n\").given(\"immigration\", \"y\").given(\"synfuels-corporation-cutback\", \"n\").given(\"education-spending\", \"y\").given(\"superfund-right-to-sue\", \"y\").given(\"crime\", \"y\").given(\"duty-free-exports\", \"?\").given(\"export-administration-act-south-africa\", \"n\").classify(\"Class\")))"
   ]
  },
  {
   "cell_type": "code",
   "execution_count": null,
   "metadata": {},
   "outputs": [],
   "source": [
    "#tabu_network #tan_network #k2_network\n",
    "bayesian_network = weather_k2_network\n",
    "#vote_sample_data #weather_sample_data\n",
    "sample_data = weather_sample_data\n",
    "\n",
    "print(\"Should be no\", check_winner(From(bayesian_network, sample_data).given('outlook', 'sunny').given('temperature', 'hot').given('humidity', 'high').given('windy', 'FALSE').classify('play')))\n",
    "print(\"Should be no\", check_winner(From(bayesian_network, sample_data).given('outlook', 'sunny').given('temperature', 'hot').given('humidity', 'high').given('windy', 'TRUE').classify('play')))\n",
    "print(\"Should be yes\", check_winner(From(bayesian_network, sample_data).given('outlook', 'overcast').given('temperature', 'hot').given('humidity', 'high').given('windy', 'FALSE').classify('play')))\n",
    "print(\"Should be yes\", check_winner(From(bayesian_network, sample_data).given('outlook', 'rainy').given('temperature', 'mild').given('humidity', 'high').given('windy', 'FALSE').classify('play')))\n",
    "print(\"Should be yes\", check_winner(From(bayesian_network, sample_data).given('outlook', 'rainy').given('temperature', 'cool').given('humidity', 'normal').given('windy', 'FALSE').classify('play')))\n",
    "print(\"Should be no\", check_winner(From(bayesian_network, sample_data).given('outlook', 'rainy').given('temperature', 'cool').given('humidity', 'normal').given('windy', 'TRUE').classify('play')))\n",
    "print(\"Should be yes\", check_winner(From(bayesian_network, sample_data).given('outlook', 'overcast').given('temperature', 'cool').given('humidity', 'normal').given('windy', 'TRUE').classify('play')))\n",
    "print(\"Should be no\", check_winner(From(bayesian_network, sample_data).given('outlook', 'sunny').given('temperature', 'mild').given('humidity', 'high').given('windy', 'FALSE').classify('play')))\n",
    "print(\"Should be yes\", check_winner(From(bayesian_network, sample_data).given('outlook', 'sunny').given('temperature', 'cool').given('humidity', 'normal').given('windy', 'FALSE').classify('play')))\n",
    "print(\"Should be yes\", check_winner(From(bayesian_network, sample_data).given('outlook', 'rainy').given('temperature', 'mild').given('humidity', 'normal').given('windy', 'FALSE').classify('play')))\n",
    "print(\"Should be yes\", check_winner(From(bayesian_network, sample_data).given('outlook', 'sunny').given('temperature', 'mild').given('humidity', 'normal').given('windy', 'TRUE').classify('play')))\n",
    "print(\"Should be yes\", check_winner(From(bayesian_network, sample_data).given('outlook', 'overcast').given('temperature', 'mild').given('humidity', 'high').given('windy', 'TRUE').classify('play')))\n",
    "print(\"Should be yes\", check_winner(From(bayesian_network, sample_data).given('outlook', 'overcast').given('temperature', 'hot').given('humidity', 'normal').given('windy', 'FALSE').classify('play')))\n",
    "print(\"Should be no\", check_winner(From(bayesian_network, sample_data).given('outlook', 'rainy').given('temperature', 'mild').given('humidity', 'high').given('windy', 'TRUE').classify('play')))"
   ]
  },
  {
   "cell_type": "code",
   "execution_count": null,
   "metadata": {},
   "outputs": [],
   "source": [
    "def check_winner(result_table):\n",
    "    biggest_result = -99999\n",
    "    biggest_result_index = 0\n",
    "    \n",
    "    for index, result in enumerate(result_table):\n",
    "        if result['value'] > biggest_result:\n",
    "            biggest_result = result['value']\n",
    "            biggest_result_index = index\n",
    "    \n",
    "    return result_table[biggest_result_index]['state']+ \" \" + str(result_table[biggest_result_index]['value']) + \"%\""
   ]
  }
 ],
 "metadata": {
  "kernelspec": {
   "display_name": "Python 3",
   "language": "python",
   "name": "python3"
  },
  "language_info": {
   "codemirror_mode": {
    "name": "ipython",
    "version": 3
   },
   "file_extension": ".py",
   "mimetype": "text/x-python",
   "name": "python",
   "nbconvert_exporter": "python",
   "pygments_lexer": "ipython3",
   "version": "3.6.5"
  }
 },
 "nbformat": 4,
 "nbformat_minor": 2
}
