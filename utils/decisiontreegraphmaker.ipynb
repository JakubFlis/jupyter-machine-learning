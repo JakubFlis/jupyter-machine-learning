{
 "cells": [
  {
   "cell_type": "code",
   "execution_count": 1,
   "metadata": {},
   "outputs": [],
   "source": [
    "from sklearn.tree import export_graphviz\n",
    "import os\n",
    "\n",
    "\n",
    "class DecisionTreeGraphMaker(object):\n",
    "    def draw_graph(self, classifier, feature_names):\n",
    "        export_graphviz(classifier,\n",
    "                feature_names=feature_names,\n",
    "                filled=True,\n",
    "                rounded=True,\n",
    "                out_file=\"tree.dot\")\n",
    "\n",
    "        os.system('dot -Tpng tree.dot -o tree.png')\n",
    "\n",
    "        import graphviz\n",
    "\n",
    "        with open(\"tree.dot\") as f:\n",
    "            dot_graph = f.read()\n",
    "\n",
    "        return graphviz.Source(dot_graph)"
   ]
  }
 ],
 "metadata": {
  "kernelspec": {
   "display_name": "Python 3",
   "language": "python",
   "name": "python3"
  },
  "language_info": {
   "codemirror_mode": {
    "name": "ipython",
    "version": 3
   },
   "file_extension": ".py",
   "mimetype": "text/x-python",
   "name": "python",
   "nbconvert_exporter": "python",
   "pygments_lexer": "ipython3",
   "version": "3.6.5"
  }
 },
 "nbformat": 4,
 "nbformat_minor": 2
}
