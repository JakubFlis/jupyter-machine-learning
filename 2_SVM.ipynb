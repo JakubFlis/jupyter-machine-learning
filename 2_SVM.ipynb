{
 "cells": [
  {
   "cell_type": "code",
   "execution_count": null,
   "metadata": {},
   "outputs": [],
   "source": [
    "from __future__ import print_function\n",
    "from ipywidgets import interact, interactive, fixed, interact_manual\n",
    "import ipywidgets as widgets"
   ]
  },
  {
   "cell_type": "code",
   "execution_count": null,
   "metadata": {},
   "outputs": [],
   "source": [
    "import sklearn as sk\n",
    "import numpy as np\n",
    "import matplotlib.pyplot as plt\n",
    "from sklearn.svm import SVC\n",
    "from scipy.stats import sem\n",
    "from sklearn.datasets import fetch_olivetti_faces, make_blobs\n",
    "from sklearn.model_selection import train_test_split, cross_val_score, KFold"
   ]
  },
  {
   "cell_type": "code",
   "execution_count": null,
   "metadata": {},
   "outputs": [],
   "source": [
    "from sklearn import svm, datasets\n",
    "import arff\n",
    "import numpy as np\n",
    "import matplotlib.pyplot as plt\n",
    "\n",
    "%run 'utils/arffconverter.ipynb'\n",
    "%run 'utils/svmplothelper.ipynb'"
   ]
  },
  {
   "cell_type": "markdown",
   "metadata": {},
   "source": [
    "## SVM - Support Vector Machines - Maszyny wektorów nośnych\n",
    "\n",
    "Maszyny wektorów nośnych - SVM (ang. _Support Vector Machines_) to zbiór metod uczenia z nadzorem, który wykorzystywany jest do klasyfikacji, regresji (_Support Vector Regression_) oraz do obserwacji odstającej [[1](https://pl.wikipedia.org/wiki/Obserwacja_odstająca)] (ang. _outlier detection_). [[2](http://scikit-learn.org/stable/modules/svm.html#support-vector-machines)]\n",
    "\n",
    "\n",
    "W ninejszym skrypcie przedstawiona została rola maszyn SVM jako klasyfikatorów wyznaczających hiperpłaszczyznę, która rozdziela instancje należące do różnych klas z maksymalnym możliwym marginesem. \n",
    "\n",
    "------\n",
    "#### Zasada działania [[3](https://www.packtpub.com/big-data-and-business-intelligence/machine-learning-algorithms)]\n",
    "\n",
    "Rozważmy zbiór atrybutów X:\n",
    "\n",
    "<img src=\"img/svm_x.png\" alt=\"SVM X\" style=\"height: 50px;\"/>\n",
    "\n",
    "oraz zbiór klas Y, do kórych możemy zakwalifikować pojedynczy zbiór X (w poniższym przypadku albo 1, albo -1):\n",
    "\n",
    "<img src=\"img/svm_y.png\" alt=\"SVM Y\" style=\"height: 40px;\"/>\n",
    "\n",
    "Poniższa funkcja generuje losowe wartości atrybutów X oraz klas y:\n"
   ]
  },
  {
   "cell_type": "code",
   "execution_count": null,
   "metadata": {},
   "outputs": [],
   "source": [
    "X, y = make_blobs(n_samples=40, centers=2, random_state=6)\n",
    "\n",
    "plt.scatter(X[:, 0], X[:, 1])\n",
    "plt.show()"
   ]
  },
  {
   "cell_type": "markdown",
   "metadata": {},
   "source": [
    "Pionowa i pozioma oś wykresu prezentuje wartości atrybutów poszczególnych instacji. Mogą to być np. wartości pikseli albo temperatura powietrza oraz wilgotność w procentach. Powyższy wykres prezentuje graficzną reprezentację instancji posiadających dwa atrybuty, jednak w praktyce SVM stosuje się do rozwiązywania problemów wielowymiarowych. Przykładowo, klasyfikacja zawartości obrazu o rozmiarze 8x8 pikseli to wyznaczenie hiperpłaszczyzny płaszczyzny rozdzielającej 64-wymiarową przestrzeń atrybutów. \n",
    "\n",
    "W niniejszym skrypcie wykorzystano klasyfikator SVM biblioteki scikit. Trenowanie klasyfikatora odbywa się za pomocą funkcji `fit()`:"
   ]
  },
  {
   "cell_type": "code",
   "execution_count": null,
   "metadata": {},
   "outputs": [],
   "source": [
    "classifier = svm.SVC(kernel='linear', C=100)\n",
    "classifier.fit(X, y)"
   ]
  },
  {
   "cell_type": "markdown",
   "metadata": {},
   "source": [
    "Scikit oferuje kilka rodzajów rdzenia klasyfikatora: `linear`, `rbf` and `poly`. \n",
    "\n",
    "Po zmianie rdzenia można zaobserwować inny kształt płaszczyzny rozdzielającej. Klasyfikator optymalizuje odległość pomiędzy przerywanymi liniami - margines. \n",
    "\n",
    "Na poniższym wykresie można zauważyć również zmianę kolorów punktów w zależności od klasy, do której zostały zakwalifikowane. "
   ]
  },
  {
   "cell_type": "markdown",
   "metadata": {},
   "source": [
    "SVMPlotHelper().plot_decision_function(classifier, X, y)\n",
    "\n",
    "cross_val_score(classifier, X, y, scoring='accuracy', cv=10).mean()"
   ]
  },
  {
   "cell_type": "markdown",
   "metadata": {},
   "source": [
    "------\n",
    "## Klasyfikacja i K-krotna walidacja krzyżowa\n",
    "\n",
    "Za klasyfikację na podstawie dostarczych atrybutów odpowiada funckja `predict()`. \n",
    "\n",
    "Poniższa tablica zawiera wykorzystywane w [poprzednim skrypcie](1_SieciBayesowskie.ipynb) pliki ARFF:"
   ]
  },
  {
   "cell_type": "code",
   "execution_count": null,
   "metadata": {},
   "outputs": [],
   "source": [
    "arff_paths= ['data/car.arff',     #0\n",
    "            'data/credit.arff',   #1\n",
    "            'data/patient.arff',  #2\n",
    "            'data/weather.arff']  #3"
   ]
  },
  {
   "cell_type": "markdown",
   "metadata": {},
   "source": [
    "W celu wybrania konkretnej ścieżki pliku, należy odpowiednio zmodyfikować zmienną `arff_file_index`:"
   ]
  },
  {
   "cell_type": "code",
   "execution_count": null,
   "metadata": {},
   "outputs": [],
   "source": [
    "arff_file_index = 0\n",
    "\n",
    "data = load_arff(arff_paths[arff_file_index])\n",
    "X = data.data\n",
    "y = data.target"
   ]
  },
  {
   "cell_type": "markdown",
   "metadata": {},
   "source": [
    "W kolejnym kroku należy ponownie stworzyć klasyfikator używając nowych danych.\n",
    "\n",
    "Funkcja `cross_val_score` dokonuje walidacji krzyżowej [[4](sprawdzian z wypraw krzyżowych)]. Wyświetlany jest średni wynik klasyfikacji (`mean()`).\n",
    "\n",
    "Wykres słupkowy prezentuje wynik walidacji krzyżowej dla różnych rodzajów rdzenia klasyfikatora SVM."
   ]
  },
  {
   "cell_type": "code",
   "execution_count": null,
   "metadata": {},
   "outputs": [],
   "source": [
    "kernels = ['linear', 'rbf', 'poly']\n",
    "\n",
    "for path in arff_paths:\n",
    "    print(path + \":\")\n",
    "    \n",
    "    data = load_arff(path)\n",
    "    mean_values = []\n",
    "    X = data.data\n",
    "    y = data.target\n",
    "\n",
    "    for kernel in kernels:\n",
    "        classifier = svm.SVC(kernel=kernel, C=4)\n",
    "        scores = cross_val_score(classifier, X, y, cv=5)\n",
    "        mean_values.append(scores.mean())\n",
    "        \n",
    "    print(\"Mean\", mean_values)\n",
    "    plt.bar(kernels, mean_values)\n",
    "    plt.show()\n"
   ]
  }
 ],
 "metadata": {
  "kernelspec": {
   "display_name": "Python 3",
   "language": "python",
   "name": "python3"
  },
  "language_info": {
   "codemirror_mode": {
    "name": "ipython",
    "version": 3
   },
   "file_extension": ".py",
   "mimetype": "text/x-python",
   "name": "python",
   "nbconvert_exporter": "python",
   "pygments_lexer": "ipython3",
   "version": "3.6.5"
  }
 },
 "nbformat": 4,
 "nbformat_minor": 2
}
