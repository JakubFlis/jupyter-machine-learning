{
 "cells": [
  {
   "cell_type": "markdown",
   "metadata": {},
   "source": [
    "### Entropy metric\n",
    "<img src=\"img/aic.png\">\n",
    "\n",
    "#### Dependencies\n",
    "```sh\n",
    "pip install liac-arff\n",
    "```"
   ]
  },
  {
   "cell_type": "code",
   "execution_count": 2,
   "metadata": {
    "collapsed": true
   },
   "outputs": [],
   "source": [
    "import math\n",
    "import arff\n",
    "import pprint"
   ]
  },
  {
   "cell_type": "code",
   "execution_count": 3,
   "metadata": {
    "collapsed": true
   },
   "outputs": [],
   "source": [
    "class EntropyMetric(object):\n",
    "    \"\"\"Entropy metric H(Bs, D) module (Bs - Bayes net, D - test data set)\"\"\"\n",
    "    def __init__(self):\n",
    "        # Liczba probek testowych w D\n",
    "        self.N = 3\n",
    "        # Testowa siec Bs, X0 -> X1\n",
    "        self.Bs = [{'r': 3, 'q': 1, 'name': 'X0', 'parent': ''}, {'r': 3, 'q': 3, 'name': 'X1', 'parent': 'X0'}] \n",
    "        # Dane testowe\n",
    "        self.D = [ {'X0': 1, 'X1': 1}, {'X0': 1, 'X1': 1}, {'X0': 2, 'X1': 1} ]\n",
    "        \n",
    "    '''node_state = k, parent_state = j, node index = i'''\n",
    "    def check_occurences(self, node_name, parent_name, node_state, parent_state):\n",
    "        #print(\"FOR \", node_name, \"=\", node_state, \" \", parent_name, \"=\", parent_state)\n",
    "        result = 0\n",
    "        # brak parenta\n",
    "        if (parent_name == ''):\n",
    "            return result\n",
    "\n",
    "        for i, p in enumerate(self.D):\n",
    "            found_node_state = p[node_name]\n",
    "            found_parent_state = p[parent_name]\n",
    "            is_found = (found_node_state == node_state and found_parent_state == parent_state)\n",
    "            #print(p, is_found)\n",
    "            if (is_found):\n",
    "                result += 1\n",
    "\n",
    "        return result\n",
    "\n",
    "    '''parent_state = j'''\n",
    "    def check_parent_occurences(self, parent_name, parent_state):\n",
    "        #print(\"FOR parent \", parent_name, \"=\", parent_state)\n",
    "        result = 0\n",
    "        # brak parenta\n",
    "        if (parent_name == ''):\n",
    "            return result\n",
    "\n",
    "        for i, p in enumerate(self.D):\n",
    "            if (p[parent_name] == parent_state):\n",
    "                #print(\"found!\")\n",
    "                result += 1\n",
    "\n",
    "        return result\n",
    "    \n",
    "    def compute_entropy_metric(self):\n",
    "        # Pierwsza iteracja (póki co ręcznie)\n",
    "        result = 0\n",
    "\n",
    "        for i in range(0, len(self.Bs)):\n",
    "            r_i = self.Bs[i - 1]['r'] #r(i), czyli tak naprawdę r(i - 1)\n",
    "            q_i = self.Bs[i - 1]['q'] #q(i), czyli tak naprawdę q(i - 1)\n",
    "            \n",
    "            for j in range(1, q_i + 1):\n",
    "                for k in range(1, r_i + 1):\n",
    "                    N_i_j_k = self.check_occurences(self.Bs[i]['name'], self.Bs[i]['parent'], k, j)\n",
    "                    N_i_j = self.check_parent_occurences(self.Bs[i]['parent'], j)\n",
    "\n",
    "                    if (N_i_j_k != 0 and N_i_j != 0):\n",
    "                        result += (N_i_j_k / self.N) * math.log10(N_i_j_k / N_i_j)\n",
    "                        \n",
    "        print(result)\n",
    "        result = -1 * self.N * result\n",
    "        print(\"H(Bs, D): \", result)"
   ]
  },
  {
   "cell_type": "code",
   "execution_count": 4,
   "metadata": {},
   "outputs": [
    {
     "name": "stdout",
     "output_type": "stream",
     "text": [
      "0.0\n",
      "H(Bs, D):  -0.0\n"
     ]
    }
   ],
   "source": [
    "EntropyMetric().compute_entropy_metric()"
   ]
  },
  {
   "cell_type": "code",
   "execution_count": 5,
   "metadata": {},
   "outputs": [
    {
     "name": "stdout",
     "output_type": "stream",
     "text": [
      "outlook has 3 attributes: ['sunny', 'overcast', 'rainy']\n",
      "temperature has 3 attributes: ['hot', 'mild', 'cool']\n",
      "humidity has 2 attributes: ['high', 'normal']\n",
      "windy has 2 attributes: ['TRUE', 'FALSE']\n",
      "play has 2 attributes: ['yes', 'no']\n"
     ]
    }
   ],
   "source": [
    "pp = pprint.PrettyPrinter(depth=6)\n",
    "\n",
    "with open('data/weather.arff') as fh:\n",
    "    data = arff.load(fh)\n",
    "    #pp.pprint(data['attributes'])\n",
    "    #print(data['attributes'][0][1])\n",
    "    \n",
    "    for i, p in enumerate(data['attributes']):\n",
    "        print(p[0], \"has\", len(p[1]), \"attributes:\", p[1])"
   ]
  },
  {
   "cell_type": "code",
   "execution_count": null,
   "metadata": {
    "collapsed": true
   },
   "outputs": [],
   "source": []
  },
  {
   "cell_type": "code",
   "execution_count": null,
   "metadata": {
    "collapsed": true
   },
   "outputs": [],
   "source": []
  }
 ],
 "metadata": {
  "kernelspec": {
   "display_name": "Python 3",
   "language": "python",
   "name": "python3"
  },
  "language_info": {
   "codemirror_mode": {
    "name": "ipython",
    "version": 3
   },
   "file_extension": ".py",
   "mimetype": "text/x-python",
   "name": "python",
   "nbconvert_exporter": "python",
   "pygments_lexer": "ipython3",
   "version": "3.6.3"
  }
 },
 "nbformat": 4,
 "nbformat_minor": 2
}
