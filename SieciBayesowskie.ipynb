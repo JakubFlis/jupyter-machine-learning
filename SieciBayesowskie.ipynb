{
 "cells": [
  {
   "cell_type": "code",
   "execution_count": null,
   "metadata": {},
   "outputs": [],
   "source": [
    "import arff\n",
    "import pprint\n",
    "\n",
    "pp = pprint.PrettyPrinter(depth = 6)"
   ]
  },
  {
   "cell_type": "code",
   "execution_count": null,
   "metadata": {},
   "outputs": [],
   "source": [
    "%run 'graph.ipynb'\n",
    "%run 'arff.ipynb'\n",
    "%run 'metrics.ipynb'\n",
    "%run 'k2algorithm.ipynb'\n",
    "%run 'tanalgorithm.ipynb'\n",
    "%run 'tabualgorithm.ipynb'"
   ]
  },
  {
   "cell_type": "code",
   "execution_count": null,
   "metadata": {
    "scrolled": true
   },
   "outputs": [],
   "source": [
    "final_attributes, sample_data = ARFFLoader('data/weather.arff').load_attributes_and_sample_data(4)"
   ]
  },
  {
   "cell_type": "markdown",
   "metadata": {},
   "source": [
    "## Algorytm K2"
   ]
  },
  {
   "cell_type": "code",
   "execution_count": null,
   "metadata": {},
   "outputs": [],
   "source": [
    "k2_network = K2Algorithm(final_attributes, sample_data, 'mdl', 3).find_optimal_net()\n",
    "\n",
    "Graph(k2_network).draw_graph()"
   ]
  },
  {
   "cell_type": "markdown",
   "metadata": {},
   "source": [
    "## Algorytm TAN"
   ]
  },
  {
   "cell_type": "code",
   "execution_count": null,
   "metadata": {},
   "outputs": [],
   "source": [
    "tan_network = TANAlgorithm(final_attributes, sample_data).find_net()\n",
    "\n",
    "Graph(tan_network).draw_graph()"
   ]
  },
  {
   "cell_type": "markdown",
   "metadata": {},
   "source": [
    "## Algorytm TABU"
   ]
  },
  {
   "cell_type": "code",
   "execution_count": null,
   "metadata": {},
   "outputs": [],
   "source": [
    "tabu_score_method = 'mdl'\n",
    "tabu_max_number_of_parents = 2\n",
    "tabu_number_of_iterations = 2\n",
    "\n",
    "tabu_network = TABUAlgorithm(final_attributes, sample_data, tabu_score_method, tabu_max_number_of_parents, tabu_number_of_iterations).compute_optimal_net()\n",
    "\n",
    "Graph(tabu_network).draw_graph()"
   ]
  }
 ],
 "metadata": {
  "kernelspec": {
   "display_name": "Python 3",
   "language": "python",
   "name": "python3"
  },
  "language_info": {
   "codemirror_mode": {
    "name": "ipython",
    "version": 3
   },
   "file_extension": ".py",
   "mimetype": "text/x-python",
   "name": "python",
   "nbconvert_exporter": "python",
   "pygments_lexer": "ipython3",
   "version": "3.6.5"
  }
 },
 "nbformat": 4,
 "nbformat_minor": 2
}
