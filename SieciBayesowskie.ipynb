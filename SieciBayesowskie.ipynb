{
 "cells": [
  {
   "cell_type": "code",
   "execution_count": null,
   "metadata": {},
   "outputs": [],
   "source": [
    "import pprint\n",
    "pp = pprint.PrettyPrinter(depth = 6)\n",
    "%run 'utils/graph.ipynb'\n",
    "%run 'utils/from.ipynb'\n",
    "%run 'utils/arff.ipynb'\n",
    "%run 'utils/metrics.ipynb'\n",
    "%run 'utils/graphchecker.ipynb'\n",
    "%run 'utils/progressbar.ipynb'\n",
    "%run 'algorithms/k2algorithm.ipynb'\n",
    "%run 'algorithms/tanalgorithm.ipynb'\n",
    "%run 'algorithms/tabualgorithm.ipynb'"
   ]
  },
  {
   "cell_type": "code",
   "execution_count": null,
   "metadata": {
    "scrolled": true
   },
   "outputs": [],
   "source": [
    "vote_attributes, vote_training_data, vote_testing_data = ARFFLoader(arff_path='data/vote.arff')\\\n",
    "                                                        .load_attributes_and_samples(class_attribute_index=16, \n",
    "                                                                                     percentage_split=10)"
   ]
  },
  {
   "cell_type": "code",
   "execution_count": null,
   "metadata": {},
   "outputs": [],
   "source": [
    "weather_attributes, weather_training_data, weather_testing_data = ARFFLoader(arff_path='data/weather.arff')\\\n",
    "                                                        .load_attributes_and_samples(class_attribute_index=4, \n",
    "                                                                                     percentage_split=10)"
   ]
  },
  {
   "cell_type": "code",
   "execution_count": null,
   "metadata": {},
   "outputs": [],
   "source": [
    "sick_attributes, sick_training_data, sick_testing_data = ARFFLoader(arff_path='data/sick.arff')\\\n",
    "                                                        .load_attributes_and_samples(class_attribute_index=29, \n",
    "                                                                                     percentage_split=10)"
   ]
  },
  {
   "cell_type": "markdown",
   "metadata": {},
   "source": [
    "## Algorytm K2"
   ]
  },
  {
   "cell_type": "code",
   "execution_count": null,
   "metadata": {},
   "outputs": [],
   "source": [
    "k2_scoring_method = 'mdl'\n",
    "k2_number_of_parents = 2\n",
    "k2_network = K2Algorithm(sick_attributes, sick_training_data, k2_scoring_method, k2_number_of_parents).find_optimal_net()\n",
    "\n",
    "Graph(k2_network).draw_graph()"
   ]
  },
  {
   "cell_type": "markdown",
   "metadata": {},
   "source": [
    "## Algorytm TAN"
   ]
  },
  {
   "cell_type": "code",
   "execution_count": null,
   "metadata": {},
   "outputs": [],
   "source": [
    "tan_network = TANAlgorithm(vote_attributes, vote_training_data).find_net()\n",
    "\n",
    "Graph(tan_network).draw_graph()"
   ]
  },
  {
   "cell_type": "markdown",
   "metadata": {},
   "source": [
    "## Algorytm TABU"
   ]
  },
  {
   "cell_type": "code",
   "execution_count": null,
   "metadata": {},
   "outputs": [],
   "source": [
    "tabu_score_method = 'aic'\n",
    "tabu_max_number_of_parents = 1\n",
    "tabu_number_of_iterations = 25\n",
    "tabu_list_length = 20\n",
    "\n",
    "tabu_network = TabuSearch(vote_attributes, vote_training_data, tabu_score_method, tabu_max_number_of_parents, tabu_number_of_iterations, tabu_list_length).compute_optimal_net()\n",
    "\n",
    "Graph(tabu_network).draw_graph()"
   ]
  },
  {
   "cell_type": "markdown",
   "metadata": {},
   "source": [
    "-----\n",
    "### Klasyfikacja przy dowolnych podanych warunkach\n",
    "<img src=\"img/classify.png\">"
   ]
  },
  {
   "cell_type": "code",
   "execution_count": null,
   "metadata": {},
   "outputs": [],
   "source": [
    "#tabu_network #tan_network #k2_network\n",
    "bayesian_network = tabu_network\n",
    "#vote_sample_data #weather_sample_data\n",
    "sample_data = vote_testing_data\n",
    "\n",
    "print(\"Should be republican\", check_winner(From(bayesian_network, sample_data).given(\"handicapped-infants\", \"n\").given(\"water-project-cost-sharing\", \"y\").given(\"adoption-of-the-budget-resolution\", \"n\").given(\"physician-fee-freeze\", \"y\").given(\"el-salvador-aid\", \"y\").given(\"religious-groups-in-schools\", \"y\").given(\"anti-satellite-test-ban\", \"n\").given(\"aid-to-nicaraguan-contras\", \"n\").given(\"mx-missile\", \"n\").given(\"immigration\", \"y\").given(\"synfuels-corporation-cutback\", \"?\").given(\"education-spending\", \"y\").given(\"superfund-right-to-sue\", \"y\").given(\"crime\", \"y\").given(\"duty-free-exports\", \"n\").given(\"export-administration-act-south-africa\", \"y\").classify(\"Class\")))\n",
    "print(\"Should be republican\", check_winner(From(bayesian_network, sample_data).given(\"handicapped-infants\", \"n\").given(\"water-project-cost-sharing\", \"y\").given(\"adoption-of-the-budget-resolution\", \"n\").given(\"physician-fee-freeze\", \"y\").given(\"el-salvador-aid\", \"y\").given(\"religious-groups-in-schools\", \"y\").given(\"anti-satellite-test-ban\", \"n\").given(\"aid-to-nicaraguan-contras\", \"n\").given(\"mx-missile\", \"n\").given(\"immigration\", \"n\").given(\"synfuels-corporation-cutback\", \"n\").given(\"education-spending\", \"y\").given(\"superfund-right-to-sue\", \"y\").given(\"crime\", \"y\").given(\"duty-free-exports\", \"n\").given(\"export-administration-act-south-africa\", \"?\").classify(\"Class\")))\n",
    "print(\"Should be democrat\", check_winner(From(bayesian_network, sample_data).given(\"handicapped-infants\", \"?\").given(\"water-project-cost-sharing\", \"y\").given(\"adoption-of-the-budget-resolution\", \"y\").given(\"physician-fee-freeze\", \"?\").given(\"el-salvador-aid\", \"y\").given(\"religious-groups-in-schools\", \"y\").given(\"anti-satellite-test-ban\", \"n\").given(\"aid-to-nicaraguan-contras\", \"n\").given(\"mx-missile\", \"n\").given(\"immigration\", \"n\").given(\"synfuels-corporation-cutback\", \"y\").given(\"education-spending\", \"n\").given(\"superfund-right-to-sue\", \"y\").given(\"crime\", \"y\").given(\"duty-free-exports\", \"n\").given(\"export-administration-act-south-africa\", \"n\").classify(\"Class\")))\n",
    "print(\"Should be democrat\", check_winner(From(bayesian_network, sample_data).given(\"handicapped-infants\", \"n\").given(\"water-project-cost-sharing\", \"y\").given(\"adoption-of-the-budget-resolution\", \"y\").given(\"physician-fee-freeze\", \"n\").given(\"el-salvador-aid\", \"?\").given(\"religious-groups-in-schools\", \"y\").given(\"anti-satellite-test-ban\", \"n\").given(\"aid-to-nicaraguan-contras\", \"n\").given(\"mx-missile\", \"n\").given(\"immigration\", \"n\").given(\"synfuels-corporation-cutback\", \"y\").given(\"education-spending\", \"n\").given(\"superfund-right-to-sue\", \"y\").given(\"crime\", \"n\").given(\"duty-free-exports\", \"n\").given(\"export-administration-act-south-africa\", \"y\").classify(\"Class\")))\n",
    "print(\"Should be democrat\", check_winner(From(bayesian_network, sample_data).given(\"handicapped-infants\", \"y\").given(\"water-project-cost-sharing\", \"y\").given(\"adoption-of-the-budget-resolution\", \"y\").given(\"physician-fee-freeze\", \"n\").given(\"el-salvador-aid\", \"y\").given(\"religious-groups-in-schools\", \"y\").given(\"anti-satellite-test-ban\", \"n\").given(\"aid-to-nicaraguan-contras\", \"n\").given(\"mx-missile\", \"n\").given(\"immigration\", \"n\").given(\"synfuels-corporation-cutback\", \"y\").given(\"education-spending\", \"?\").given(\"superfund-right-to-sue\", \"y\").given(\"crime\", \"y\").given(\"duty-free-exports\", \"y\").given(\"export-administration-act-south-africa\", \"y\").classify(\"Class\")))\n",
    "print(\"Should be democrat\", check_winner(From(bayesian_network, sample_data).given(\"handicapped-infants\", \"n\").given(\"water-project-cost-sharing\", \"y\").given(\"adoption-of-the-budget-resolution\", \"y\").given(\"physician-fee-freeze\", \"n\").given(\"el-salvador-aid\", \"y\").given(\"religious-groups-in-schools\", \"y\").given(\"anti-satellite-test-ban\", \"n\").given(\"aid-to-nicaraguan-contras\", \"n\").given(\"mx-missile\", \"n\").given(\"immigration\", \"n\").given(\"synfuels-corporation-cutback\", \"n\").given(\"education-spending\", \"n\").given(\"superfund-right-to-sue\", \"y\").given(\"crime\", \"y\").given(\"duty-free-exports\", \"y\").given(\"export-administration-act-south-africa\", \"y\").classify(\"Class\")))\n",
    "print(\"Should be democrat\", check_winner(From(bayesian_network, sample_data).given(\"handicapped-infants\", \"n\").given(\"water-project-cost-sharing\", \"y\").given(\"adoption-of-the-budget-resolution\", \"n\").given(\"physician-fee-freeze\", \"y\").given(\"el-salvador-aid\", \"y\").given(\"religious-groups-in-schools\", \"y\").given(\"anti-satellite-test-ban\", \"n\").given(\"aid-to-nicaraguan-contras\", \"n\").given(\"mx-missile\", \"n\").given(\"immigration\", \"n\").given(\"synfuels-corporation-cutback\", \"n\").given(\"education-spending\", \"n\").given(\"superfund-right-to-sue\", \"?\").given(\"crime\", \"y\").given(\"duty-free-exports\", \"y\").given(\"export-administration-act-south-africa\", \"y\").classify(\"Class\")))\n",
    "print(\"Should be republican\", check_winner(From(bayesian_network, sample_data).given(\"handicapped-infants\", \"n\").given(\"water-project-cost-sharing\", \"y\").given(\"adoption-of-the-budget-resolution\", \"n\").given(\"physician-fee-freeze\", \"y\").given(\"el-salvador-aid\", \"y\").given(\"religious-groups-in-schools\", \"y\").given(\"anti-satellite-test-ban\", \"n\").given(\"aid-to-nicaraguan-contras\", \"n\").given(\"mx-missile\", \"n\").given(\"immigration\", \"n\").given(\"synfuels-corporation-cutback\", \"n\").given(\"education-spending\", \"n\").given(\"superfund-right-to-sue\", \"y\").given(\"crime\", \"y\").given(\"duty-free-exports\", \"?\").given(\"export-administration-act-south-africa\", \"y\").classify(\"Class\")))\n",
    "print(\"Should be republican\", check_winner(From(bayesian_network, sample_data).given(\"handicapped-infants\", \"n\").given(\"water-project-cost-sharing\", \"y\").given(\"adoption-of-the-budget-resolution\", \"n\").given(\"physician-fee-freeze\", \"y\").given(\"el-salvador-aid\", \"y\").given(\"religious-groups-in-schools\", \"y\").given(\"anti-satellite-test-ban\", \"n\").given(\"aid-to-nicaraguan-contras\", \"n\").given(\"mx-missile\", \"n\").given(\"immigration\", \"n\").given(\"synfuels-corporation-cutback\", \"n\").given(\"education-spending\", \"y\").given(\"superfund-right-to-sue\", \"y\").given(\"crime\", \"y\").given(\"duty-free-exports\", \"n\").given(\"export-administration-act-south-africa\", \"y\").classify(\"Class\")))\n",
    "print(\"Should be democrat\", check_winner(From(bayesian_network, sample_data).given(\"handicapped-infants\", \"y\").given(\"water-project-cost-sharing\", \"y\").given(\"adoption-of-the-budget-resolution\", \"y\").given(\"physician-fee-freeze\", \"n\").given(\"el-salvador-aid\", \"n\").given(\"religious-groups-in-schools\", \"n\").given(\"anti-satellite-test-ban\", \"y\").given(\"aid-to-nicaraguan-contras\", \"y\").given(\"mx-missile\", \"y\").given(\"immigration\", \"n\").given(\"synfuels-corporation-cutback\", \"n\").given(\"education-spending\", \"n\").given(\"superfund-right-to-sue\", \"n\").given(\"crime\", \"n\").given(\"duty-free-exports\", \"?\").given(\"export-administration-act-south-africa\", \"?\").classify(\"Class\")))\n",
    "print(\"Should be republican\", check_winner(From(bayesian_network, sample_data).given(\"handicapped-infants\", \"n\").given(\"water-project-cost-sharing\", \"y\").given(\"adoption-of-the-budget-resolution\", \"n\").given(\"physician-fee-freeze\", \"y\").given(\"el-salvador-aid\", \"y\").given(\"religious-groups-in-schools\", \"n\").given(\"anti-satellite-test-ban\", \"n\").given(\"aid-to-nicaraguan-contras\", \"n\").given(\"mx-missile\", \"n\").given(\"immigration\", \"n\").given(\"synfuels-corporation-cutback\", \"?\").given(\"education-spending\", \"?\").given(\"superfund-right-to-sue\", \"y\").given(\"crime\", \"y\").given(\"duty-free-exports\", \"n\").given(\"export-administration-act-south-africa\", \"n\").classify(\"Class\")))\n",
    "print(\"Should be republican\", check_winner(From(bayesian_network, sample_data).given(\"handicapped-infants\", \"n\").given(\"water-project-cost-sharing\", \"y\").given(\"adoption-of-the-budget-resolution\", \"n\").given(\"physician-fee-freeze\", \"y\").given(\"el-salvador-aid\", \"y\").given(\"religious-groups-in-schools\", \"y\").given(\"anti-satellite-test-ban\", \"n\").given(\"aid-to-nicaraguan-contras\", \"n\").given(\"mx-missile\", \"n\").given(\"immigration\", \"n\").given(\"synfuels-corporation-cutback\", \"y\").given(\"education-spending\", \"?\").given(\"superfund-right-to-sue\", \"y\").given(\"crime\", \"y\").given(\"duty-free-exports\", \"?\").given(\"export-administration-act-south-africa\", \"?\").classify(\"Class\")))\n",
    "print(\"Should be democrat\", check_winner(From(bayesian_network, sample_data).given(\"handicapped-infants\", \"n\").given(\"water-project-cost-sharing\", \"y\").given(\"adoption-of-the-budget-resolution\", \"y\").given(\"physician-fee-freeze\", \"n\").given(\"el-salvador-aid\", \"n\").given(\"religious-groups-in-schools\", \"n\").given(\"anti-satellite-test-ban\", \"y\").given(\"aid-to-nicaraguan-contras\", \"y\").given(\"mx-missile\", \"y\").given(\"immigration\", \"n\").given(\"synfuels-corporation-cutback\", \"n\").given(\"education-spending\", \"n\").given(\"superfund-right-to-sue\", \"y\").given(\"crime\", \"n\").given(\"duty-free-exports\", \"?\").given(\"export-administration-act-south-africa\", \"?\").classify(\"Class\")))\n",
    "print(\"Should be democrat\", check_winner(From(bayesian_network, sample_data).given(\"handicapped-infants\", \"y\").given(\"water-project-cost-sharing\", \"y\").given(\"adoption-of-the-budget-resolution\", \"y\").given(\"physician-fee-freeze\", \"n\").given(\"el-salvador-aid\", \"n\").given(\"religious-groups-in-schools\", \"y\").given(\"anti-satellite-test-ban\", \"y\").given(\"aid-to-nicaraguan-contras\", \"y\").given(\"mx-missile\", \"?\").given(\"immigration\", \"y\").given(\"synfuels-corporation-cutback\", \"y\").given(\"education-spending\", \"?\").given(\"superfund-right-to-sue\", \"n\").given(\"crime\", \"n\").given(\"duty-free-exports\", \"y\").given(\"export-administration-act-south-africa\", \"?\").classify(\"Class\")))\n",
    "print(\"Should be republican\", check_winner(From(bayesian_network, sample_data).given(\"handicapped-infants\", \"n\").given(\"water-project-cost-sharing\", \"y\").given(\"adoption-of-the-budget-resolution\", \"n\").given(\"physician-fee-freeze\", \"y\").given(\"el-salvador-aid\", \"y\").given(\"religious-groups-in-schools\", \"y\").given(\"anti-satellite-test-ban\", \"n\").given(\"aid-to-nicaraguan-contras\", \"n\").given(\"mx-missile\", \"n\").given(\"immigration\", \"n\").given(\"synfuels-corporation-cutback\", \"n\").given(\"education-spending\", \"y\").given(\"superfund-right-to-sue\", \"?\").given(\"crime\", \"?\").given(\"duty-free-exports\", \"n\").given(\"export-administration-act-south-africa\", \"?\").classify(\"Class\")))\n",
    "print(\"Should be republican\", check_winner(From(bayesian_network, sample_data).given(\"handicapped-infants\", \"n\").given(\"water-project-cost-sharing\", \"y\").given(\"adoption-of-the-budget-resolution\", \"n\").given(\"physician-fee-freeze\", \"y\").given(\"el-salvador-aid\", \"y\").given(\"religious-groups-in-schools\", \"y\").given(\"anti-satellite-test-ban\", \"n\").given(\"aid-to-nicaraguan-contras\", \"n\").given(\"mx-missile\", \"n\").given(\"immigration\", \"y\").given(\"synfuels-corporation-cutback\", \"n\").given(\"education-spending\", \"y\").given(\"superfund-right-to-sue\", \"y\").given(\"crime\", \"?\").given(\"duty-free-exports\", \"n\").given(\"export-administration-act-south-africa\", \"?\").classify(\"Class\")))\n",
    "print(\"Should be republican\", check_winner(From(bayesian_network, sample_data).given(\"handicapped-infants\", \"n\").given(\"water-project-cost-sharing\", \"n\").given(\"adoption-of-the-budget-resolution\", \"n\").given(\"physician-fee-freeze\", \"y\").given(\"el-salvador-aid\", \"y\").given(\"religious-groups-in-schools\", \"y\").given(\"anti-satellite-test-ban\", \"?\").given(\"aid-to-nicaraguan-contras\", \"?\").given(\"mx-missile\", \"?\").given(\"immigration\", \"?\").given(\"synfuels-corporation-cutback\", \"n\").given(\"education-spending\", \"y\").given(\"superfund-right-to-sue\", \"y\").given(\"crime\", \"y\").given(\"duty-free-exports\", \"n\").given(\"export-administration-act-south-africa\", \"y\").classify(\"Class\")))\n",
    "print(\"Should be republican\", check_winner(From(bayesian_network, sample_data).given(\"handicapped-infants\", \"n\").given(\"water-project-cost-sharing\", \"y\").given(\"adoption-of-the-budget-resolution\", \"n\").given(\"physician-fee-freeze\", \"y\").given(\"el-salvador-aid\", \"y\").given(\"religious-groups-in-schools\", \"y\").given(\"anti-satellite-test-ban\", \"n\").given(\"aid-to-nicaraguan-contras\", \"n\").given(\"mx-missile\", \"n\").given(\"immigration\", \"y\").given(\"synfuels-corporation-cutback\", \"n\").given(\"education-spending\", \"y\").given(\"superfund-right-to-sue\", \"y\").given(\"crime\", \"y\").given(\"duty-free-exports\", \"?\").given(\"export-administration-act-south-africa\", \"n\").classify(\"Class\")))"
   ]
  },
  {
   "cell_type": "code",
   "execution_count": null,
   "metadata": {},
   "outputs": [],
   "source": [
    "#tabu_network #tan_network #k2_network\n",
    "bayesian_network = weather_k2_network\n",
    "#vote_sample_data #weather_sample_data\n",
    "sample_data = weather_sample_data\n",
    "\n",
    "print(\"Should be no\", check_winner(From(bayesian_network, sample_data).given('outlook', 'sunny').given('temperature', 'hot').given('humidity', 'high').given('windy', 'FALSE').classify('play')))\n",
    "print(\"Should be no\", check_winner(From(bayesian_network, sample_data).given('outlook', 'sunny').given('temperature', 'hot').given('humidity', 'high').given('windy', 'TRUE').classify('play')))\n",
    "print(\"Should be yes\", check_winner(From(bayesian_network, sample_data).given('outlook', 'overcast').given('temperature', 'hot').given('humidity', 'high').given('windy', 'FALSE').classify('play')))\n",
    "print(\"Should be yes\", check_winner(From(bayesian_network, sample_data).given('outlook', 'rainy').given('temperature', 'mild').given('humidity', 'high').given('windy', 'FALSE').classify('play')))\n",
    "print(\"Should be yes\", check_winner(From(bayesian_network, sample_data).given('outlook', 'rainy').given('temperature', 'cool').given('humidity', 'normal').given('windy', 'FALSE').classify('play')))\n",
    "print(\"Should be no\", check_winner(From(bayesian_network, sample_data).given('outlook', 'rainy').given('temperature', 'cool').given('humidity', 'normal').given('windy', 'TRUE').classify('play')))\n",
    "print(\"Should be yes\", check_winner(From(bayesian_network, sample_data).given('outlook', 'overcast').given('temperature', 'cool').given('humidity', 'normal').given('windy', 'TRUE').classify('play')))\n",
    "print(\"Should be no\", check_winner(From(bayesian_network, sample_data).given('outlook', 'sunny').given('temperature', 'mild').given('humidity', 'high').given('windy', 'FALSE').classify('play')))\n",
    "print(\"Should be yes\", check_winner(From(bayesian_network, sample_data).given('outlook', 'sunny').given('temperature', 'cool').given('humidity', 'normal').given('windy', 'FALSE').classify('play')))\n",
    "print(\"Should be yes\", check_winner(From(bayesian_network, sample_data).given('outlook', 'rainy').given('temperature', 'mild').given('humidity', 'normal').given('windy', 'FALSE').classify('play')))\n",
    "print(\"Should be yes\", check_winner(From(bayesian_network, sample_data).given('outlook', 'sunny').given('temperature', 'mild').given('humidity', 'normal').given('windy', 'TRUE').classify('play')))\n",
    "print(\"Should be yes\", check_winner(From(bayesian_network, sample_data).given('outlook', 'overcast').given('temperature', 'mild').given('humidity', 'high').given('windy', 'TRUE').classify('play')))\n",
    "print(\"Should be yes\", check_winner(From(bayesian_network, sample_data).given('outlook', 'overcast').given('temperature', 'hot').given('humidity', 'normal').given('windy', 'FALSE').classify('play')))\n",
    "print(\"Should be no\", check_winner(From(bayesian_network, sample_data).given('outlook', 'rainy').given('temperature', 'mild').given('humidity', 'high').given('windy', 'TRUE').classify('play')))"
   ]
  },
  {
   "cell_type": "code",
   "execution_count": null,
   "metadata": {},
   "outputs": [],
   "source": [
    "def check_winner(result_table):\n",
    "    biggest_result = -99999\n",
    "    biggest_result_index = 0\n",
    "    \n",
    "    for index, result in enumerate(result_table):\n",
    "        if result['value'] > biggest_result:\n",
    "            biggest_result = result['value']\n",
    "            biggest_result_index = index\n",
    "    \n",
    "    return result_table[biggest_result_index]['state']+ \" \" + str(result_table[biggest_result_index]['value']) + \"%\""
   ]
  }
 ],
 "metadata": {
  "kernelspec": {
   "display_name": "Python 3",
   "language": "python",
   "name": "python3"
  },
  "language_info": {
   "codemirror_mode": {
    "name": "ipython",
    "version": 3
   },
   "file_extension": ".py",
   "mimetype": "text/x-python",
   "name": "python",
   "nbconvert_exporter": "python",
   "pygments_lexer": "ipython3",
   "version": "3.6.5"
  }
 },
 "nbformat": 4,
 "nbformat_minor": 2
}
