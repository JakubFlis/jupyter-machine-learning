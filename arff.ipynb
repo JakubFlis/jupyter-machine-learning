{
 "cells": [
  {
   "cell_type": "code",
   "execution_count": 1,
   "metadata": {},
   "outputs": [],
   "source": [
    "import arff"
   ]
  },
  {
   "cell_type": "code",
   "execution_count": 2,
   "metadata": {},
   "outputs": [],
   "source": [
    "class ARFFLoader(object):\n",
    "    def __init__(self, arff_path):\n",
    "        self.arff_path = arff_path\n",
    "        \n",
    "    def load_attributes_and_sample_data(self, class_attribute_index):\n",
    "        with open('data/weather.arff') as fh:\n",
    "            data = arff.load(fh)\n",
    "\n",
    "            attributes = []\n",
    "            for i, p in enumerate(data['attributes']):\n",
    "                attributes.append({'name': p[0], 'states': p[1]})\n",
    "\n",
    "            sample_data = []\n",
    "            for i, p in enumerate(data['data']):\n",
    "                temp_dict = {}\n",
    "                for j, d in enumerate(p):\n",
    "                    temp_dict.update({attributes[j]['name']: d})\n",
    "                sample_data.append(temp_dict)\n",
    "                \n",
    "            index_of_class_attribute = 4\n",
    "            print(\"Class argument: \")\n",
    "            pp.pprint(attributes[index_of_class_attribute])\n",
    "\n",
    "            final_attributes = []\n",
    "            final_attributes.append(attributes[index_of_class_attribute])\n",
    "\n",
    "            for i, p in enumerate(attributes):\n",
    "                if i != index_of_class_attribute:\n",
    "                    final_attributes.append(p)\n",
    "                    \n",
    "            return (final_attributes, sample_data)"
   ]
  }
 ],
 "metadata": {
  "kernelspec": {
   "display_name": "Python 3",
   "language": "python",
   "name": "python3"
  },
  "language_info": {
   "codemirror_mode": {
    "name": "ipython",
    "version": 3
   },
   "file_extension": ".py",
   "mimetype": "text/x-python",
   "name": "python",
   "nbconvert_exporter": "python",
   "pygments_lexer": "ipython3",
   "version": "3.6.5"
  }
 },
 "nbformat": 4,
 "nbformat_minor": 2
}
