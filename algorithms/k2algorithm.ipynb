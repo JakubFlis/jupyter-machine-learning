{
 "cells": [
  {
   "cell_type": "code",
   "execution_count": 1,
   "metadata": {},
   "outputs": [],
   "source": [
    "import math\n",
    "import graphviz\n",
    "import math\n",
    "import copy\n",
    "import sys\n",
    "import arff\n",
    "import pprint"
   ]
  },
  {
   "cell_type": "markdown",
   "metadata": {},
   "source": [
    "------\n",
    "### Algorytm K2\n",
    "<img src=\"../img/K2.png\" style=\"height: 350px\">"
   ]
  },
  {
   "cell_type": "code",
   "execution_count": 2,
   "metadata": {},
   "outputs": [],
   "source": [
    "class K2Algorithm(object):\n",
    "    def __init__(self, attributes, sample_data, score_method, number_of_parents):\n",
    "        self.sample_data = sample_data\n",
    "        self.score_method = score_method\n",
    "        self.attributes = attributes\n",
    "        self.number_of_parents = number_of_parents\n",
    "        \n",
    "    def find_optimal_net(self):\n",
    "        optimal_net = []\n",
    "        \n",
    "        for i, attribute in enumerate(self.attributes):\n",
    "            parents_of_node_indexes = []\n",
    "            find_more = True\n",
    "        \n",
    "            old_score = self.compute_metric([{'r': attribute['states'], 'name': attribute['name'], 'parents': []}])\n",
    "\n",
    "            while (find_more and len(parents_of_node_indexes) < self.number_of_parents):\n",
    "                max_new_parent_score, max_new_parent_index = self.find_node_with_max_score(i, attribute, parents_of_node_indexes)\n",
    "                \n",
    "                if (max_new_parent_score > old_score):\n",
    "                    old_score = max_new_parent_score\n",
    "                    parents_of_node_indexes.append(max_new_parent_index)\n",
    "                else:\n",
    "                    find_more = False\n",
    "                    \n",
    "            optimal_net.append({'r': attribute['states'], 'name': attribute['name'], 'parents': self.convert_array_of_indexes_to_parents(parents_of_node_indexes)})\n",
    "                          \n",
    "        return optimal_net\n",
    "    \n",
    "    def find_node_with_max_score(self, index, attribute, parent_indexes):\n",
    "        current_parents = []\n",
    "        for current_parent_index in parent_indexes:\n",
    "            current_parents.append(self.convert_index_to_parent(current_parent_index))\n",
    "        temp_net = [{'name': attribute['name'], 'r': attribute['states'], 'parents': current_parents}]\n",
    "        \n",
    "        parent_index_with_max_score = -1\n",
    "        max_score = self.compute_metric(temp_net)\n",
    "        \n",
    "        for parent_index in range(0, index):\n",
    "            if parent_index not in parent_indexes:\n",
    "                temp_net_copy = copy.deepcopy(temp_net)\n",
    "                temp_net_copy[0]['parents'].append(self.convert_index_to_parent(parent_index))\n",
    "                parent_candidate_score = self.compute_metric(temp_net_copy)\n",
    "                \n",
    "                if (parent_candidate_score > max_score):\n",
    "                    max_score = parent_candidate_score\n",
    "                    parent_index_with_max_score = parent_index\n",
    "                \n",
    "        return (max_score, parent_index_with_max_score)\n",
    "    \n",
    "    def convert_index_to_parent(self, index):\n",
    "        return {'name': self.attributes[index]['name'], 'q': self.attributes[index]['states']}\n",
    "    \n",
    "    def convert_array_of_indexes_to_parents(self, indexes):\n",
    "        parents = []\n",
    "        for index in indexes:\n",
    "            parents.append(self.convert_index_to_parent(index))\n",
    "        return parents\n",
    "    \n",
    "    def compute_metric(self, net):\n",
    "        if self.score_method == 'aic':\n",
    "            return AICMetric().compute_aic_metric(net, self.sample_data)\n",
    "        elif self.score_method == 'mdl':\n",
    "            return MDLMetric().compute_mdl_metric(net, self.sample_data)\n",
    "        elif self.score_method == 'bayes':\n",
    "            return BayesianMetric(net, self.sample_data).compute_bayesian_metric()\n",
    "        elif self.score_method == 'entropy':\n",
    "            return EntropyMetric(net, self.sample_data).compute_entropy_metric()\n",
    "        \n",
    "        raise ValueError(self.scoring_method + \" is not a valid scoring method!\")"
   ]
  }
 ],
 "metadata": {
  "kernelspec": {
   "display_name": "Python 3",
   "language": "python",
   "name": "python3"
  },
  "language_info": {
   "codemirror_mode": {
    "name": "ipython",
    "version": 3
   },
   "file_extension": ".py",
   "mimetype": "text/x-python",
   "name": "python",
   "nbconvert_exporter": "python",
   "pygments_lexer": "ipython3",
   "version": "3.6.5"
  }
 },
 "nbformat": 4,
 "nbformat_minor": 2
}
